{
 "cells": [
  {
   "cell_type": "markdown",
   "metadata": {},
   "source": [
    "# Architecture experiment: Subjective and physiological responses to interiors\n",
    "\n",
    "\n",
    "### Libraries\n",
    "\n",
    "- [scikit-learn](http://scikit-learn.org/stable/)\n",
    "- pandas\n",
    "- matplotlib\n",
    "- seaborn\n",
    "- keras"
   ]
  },
  {
   "cell_type": "code",
   "execution_count": 4,
   "metadata": {},
   "outputs": [],
   "source": [
    "import pandas as pd\n",
    "import numpy as np\n",
    "import matplotlib.pyplot as plt\n",
    "from sklearn.linear_model import LinearRegression, LogisticRegression\n",
    "from sklearn.preprocessing import OneHotEncoder\n",
    "from pandas.plotting import scatter_matrix\n",
    "from sklearn.model_selection import cross_val_predict\n",
    "from sklearn.model_selection import cross_val_score\n",
    "import seaborn as sns\n",
    "%matplotlib inline"
   ]
  },
  {
   "cell_type": "code",
   "execution_count": 5,
   "metadata": {},
   "outputs": [],
   "source": [
    "DATA_FOLDER = './data/' #The data is in the .gitignore in order to not upload it to the GitHub repository"
   ]
  },
  {
   "cell_type": "markdown",
   "metadata": {},
   "source": [
    "Execute the following line to export from the jupyter notebook(.ipynb) to a .py file (ignore the warnings):"
   ]
  },
  {
   "cell_type": "code",
   "execution_count": 6,
   "metadata": {},
   "outputs": [],
   "source": [
    "#!jupyter nbconvert --to script Project2-Notebook.ipynb "
   ]
  },
  {
   "cell_type": "markdown",
   "metadata": {},
   "source": [
    "For not show the warnings:"
   ]
  },
  {
   "cell_type": "code",
   "execution_count": 7,
   "metadata": {},
   "outputs": [],
   "source": [
    "import warnings\n",
    "warnings.filterwarnings(action = 'once')"
   ]
  },
  {
   "cell_type": "markdown",
   "metadata": {},
   "source": [
    "## Exploratory Data Analysis"
   ]
  },
  {
   "cell_type": "markdown",
   "metadata": {},
   "source": [
    "### Loading phase"
   ]
  },
  {
   "cell_type": "markdown",
   "metadata": {},
   "source": [
    "First we load the data into a Pandas data frame (with the Pandas library; to install this package with conda run:\n",
    "`conda install -c anaconda pandas`):"
   ]
  },
  {
   "cell_type": "code",
   "execution_count": 8,
   "metadata": {},
   "outputs": [],
   "source": [
    "df_interior_features = pd.read_csv(DATA_FOLDER + 'T_features.csv')\n",
    "df_labels_and_features = pd.read_csv(DATA_FOLDER + 'table_dataset_GreeceSwitzerland_N265_metrics_mSC5_JPEGtoBMP_Michelson_RMS.csv')"
   ]
  },
  {
   "cell_type": "markdown",
   "metadata": {},
   "source": [
    "Let's see what is inside `table_dataset_GreeceSwitzerland_N265_metrics_mSC5_JPEGtoBMP_Michelson_RMS.csv`:"
   ]
  },
  {
   "cell_type": "code",
   "execution_count": 9,
   "metadata": {},
   "outputs": [
    {
     "data": {
      "text/html": [
       "<div>\n",
       "<style scoped>\n",
       "    .dataframe tbody tr th:only-of-type {\n",
       "        vertical-align: middle;\n",
       "    }\n",
       "\n",
       "    .dataframe tbody tr th {\n",
       "        vertical-align: top;\n",
       "    }\n",
       "\n",
       "    .dataframe thead th {\n",
       "        text-align: right;\n",
       "    }\n",
       "</style>\n",
       "<table border=\"1\" class=\"dataframe\">\n",
       "  <thead>\n",
       "    <tr style=\"text-align: right;\">\n",
       "      <th></th>\n",
       "      <th>ID</th>\n",
       "      <th>Country</th>\n",
       "      <th>Stimulus_SkyType</th>\n",
       "      <th>Stimulus_Context</th>\n",
       "      <th>Gender</th>\n",
       "      <th>Pattern</th>\n",
       "      <th>pleasant</th>\n",
       "      <th>interesting</th>\n",
       "      <th>exciting</th>\n",
       "      <th>calming</th>\n",
       "      <th>complex</th>\n",
       "      <th>bright</th>\n",
       "      <th>view</th>\n",
       "      <th>spacious</th>\n",
       "      <th>contrast_mean_mSC5</th>\n",
       "      <th>contrast_mean_Michelson</th>\n",
       "      <th>contrast_mean_RMS</th>\n",
       "      <th>complexity_mean_JPEGtoBMP</th>\n",
       "    </tr>\n",
       "  </thead>\n",
       "  <tbody>\n",
       "    <tr>\n",
       "      <th>0</th>\n",
       "      <td>1</td>\n",
       "      <td>Greece</td>\n",
       "      <td>clear low</td>\n",
       "      <td>social</td>\n",
       "      <td>Male</td>\n",
       "      <td>P1EL</td>\n",
       "      <td>8</td>\n",
       "      <td>7</td>\n",
       "      <td>6</td>\n",
       "      <td>9</td>\n",
       "      <td>4</td>\n",
       "      <td>6</td>\n",
       "      <td>4</td>\n",
       "      <td>8</td>\n",
       "      <td>11.188207</td>\n",
       "      <td>0.907864</td>\n",
       "      <td>106.363985</td>\n",
       "      <td>0.104734</td>\n",
       "    </tr>\n",
       "    <tr>\n",
       "      <th>1</th>\n",
       "      <td>1</td>\n",
       "      <td>Greece</td>\n",
       "      <td>clear low</td>\n",
       "      <td>social</td>\n",
       "      <td>Male</td>\n",
       "      <td>P2EL</td>\n",
       "      <td>8</td>\n",
       "      <td>5</td>\n",
       "      <td>6</td>\n",
       "      <td>8</td>\n",
       "      <td>4</td>\n",
       "      <td>7</td>\n",
       "      <td>3</td>\n",
       "      <td>8</td>\n",
       "      <td>11.941067</td>\n",
       "      <td>0.904661</td>\n",
       "      <td>106.590842</td>\n",
       "      <td>0.122357</td>\n",
       "    </tr>\n",
       "    <tr>\n",
       "      <th>2</th>\n",
       "      <td>1</td>\n",
       "      <td>Greece</td>\n",
       "      <td>clear low</td>\n",
       "      <td>social</td>\n",
       "      <td>Male</td>\n",
       "      <td>P3EL</td>\n",
       "      <td>9</td>\n",
       "      <td>8</td>\n",
       "      <td>8</td>\n",
       "      <td>9</td>\n",
       "      <td>6</td>\n",
       "      <td>7</td>\n",
       "      <td>2</td>\n",
       "      <td>8</td>\n",
       "      <td>12.509719</td>\n",
       "      <td>0.905066</td>\n",
       "      <td>106.604335</td>\n",
       "      <td>0.119979</td>\n",
       "    </tr>\n",
       "    <tr>\n",
       "      <th>3</th>\n",
       "      <td>1</td>\n",
       "      <td>Greece</td>\n",
       "      <td>clear low</td>\n",
       "      <td>social</td>\n",
       "      <td>Male</td>\n",
       "      <td>P4EL</td>\n",
       "      <td>7</td>\n",
       "      <td>7</td>\n",
       "      <td>7</td>\n",
       "      <td>7</td>\n",
       "      <td>6</td>\n",
       "      <td>6</td>\n",
       "      <td>1</td>\n",
       "      <td>8</td>\n",
       "      <td>12.846015</td>\n",
       "      <td>0.906583</td>\n",
       "      <td>106.929875</td>\n",
       "      <td>0.115287</td>\n",
       "    </tr>\n",
       "    <tr>\n",
       "      <th>4</th>\n",
       "      <td>1</td>\n",
       "      <td>Greece</td>\n",
       "      <td>clear low</td>\n",
       "      <td>social</td>\n",
       "      <td>Male</td>\n",
       "      <td>P5EL</td>\n",
       "      <td>8</td>\n",
       "      <td>10</td>\n",
       "      <td>9</td>\n",
       "      <td>7</td>\n",
       "      <td>8</td>\n",
       "      <td>7</td>\n",
       "      <td>5</td>\n",
       "      <td>8</td>\n",
       "      <td>12.211881</td>\n",
       "      <td>0.907546</td>\n",
       "      <td>105.478575</td>\n",
       "      <td>0.118572</td>\n",
       "    </tr>\n",
       "    <tr>\n",
       "      <th>5</th>\n",
       "      <td>1</td>\n",
       "      <td>Greece</td>\n",
       "      <td>clear low</td>\n",
       "      <td>social</td>\n",
       "      <td>Male</td>\n",
       "      <td>P6EL</td>\n",
       "      <td>8</td>\n",
       "      <td>8</td>\n",
       "      <td>8</td>\n",
       "      <td>7</td>\n",
       "      <td>9</td>\n",
       "      <td>7</td>\n",
       "      <td>3</td>\n",
       "      <td>8</td>\n",
       "      <td>12.288385</td>\n",
       "      <td>0.912304</td>\n",
       "      <td>106.582042</td>\n",
       "      <td>0.113396</td>\n",
       "    </tr>\n",
       "    <tr>\n",
       "      <th>6</th>\n",
       "      <td>2</td>\n",
       "      <td>Greece</td>\n",
       "      <td>clear low</td>\n",
       "      <td>social</td>\n",
       "      <td>Male</td>\n",
       "      <td>P1EL</td>\n",
       "      <td>6</td>\n",
       "      <td>7</td>\n",
       "      <td>8</td>\n",
       "      <td>6</td>\n",
       "      <td>0</td>\n",
       "      <td>7</td>\n",
       "      <td>6</td>\n",
       "      <td>7</td>\n",
       "      <td>11.188207</td>\n",
       "      <td>0.907864</td>\n",
       "      <td>106.363985</td>\n",
       "      <td>0.104734</td>\n",
       "    </tr>\n",
       "  </tbody>\n",
       "</table>\n",
       "</div>"
      ],
      "text/plain": [
       "   ID Country Stimulus_SkyType Stimulus_Context Gender Pattern  pleasant  \\\n",
       "0   1  Greece        clear low           social   Male    P1EL         8   \n",
       "1   1  Greece        clear low           social   Male    P2EL         8   \n",
       "2   1  Greece        clear low           social   Male    P3EL         9   \n",
       "3   1  Greece        clear low           social   Male    P4EL         7   \n",
       "4   1  Greece        clear low           social   Male    P5EL         8   \n",
       "5   1  Greece        clear low           social   Male    P6EL         8   \n",
       "6   2  Greece        clear low           social   Male    P1EL         6   \n",
       "\n",
       "   interesting  exciting  calming  complex  bright  view  spacious  \\\n",
       "0            7         6        9        4       6     4         8   \n",
       "1            5         6        8        4       7     3         8   \n",
       "2            8         8        9        6       7     2         8   \n",
       "3            7         7        7        6       6     1         8   \n",
       "4           10         9        7        8       7     5         8   \n",
       "5            8         8        7        9       7     3         8   \n",
       "6            7         8        6        0       7     6         7   \n",
       "\n",
       "   contrast_mean_mSC5  contrast_mean_Michelson  contrast_mean_RMS  \\\n",
       "0           11.188207                 0.907864         106.363985   \n",
       "1           11.941067                 0.904661         106.590842   \n",
       "2           12.509719                 0.905066         106.604335   \n",
       "3           12.846015                 0.906583         106.929875   \n",
       "4           12.211881                 0.907546         105.478575   \n",
       "5           12.288385                 0.912304         106.582042   \n",
       "6           11.188207                 0.907864         106.363985   \n",
       "\n",
       "   complexity_mean_JPEGtoBMP  \n",
       "0                   0.104734  \n",
       "1                   0.122357  \n",
       "2                   0.119979  \n",
       "3                   0.115287  \n",
       "4                   0.118572  \n",
       "5                   0.113396  \n",
       "6                   0.104734  "
      ]
     },
     "execution_count": 9,
     "metadata": {},
     "output_type": "execute_result"
    }
   ],
   "source": [
    "df_labels_and_features.head(7)"
   ]
  },
  {
   "cell_type": "code",
   "execution_count": 10,
   "metadata": {},
   "outputs": [
    {
     "data": {
      "text/plain": [
       "(1590, 18)"
      ]
     },
     "execution_count": 10,
     "metadata": {},
     "output_type": "execute_result"
    }
   ],
   "source": [
    "df_labels_and_features.shape"
   ]
  },
  {
   "cell_type": "code",
   "execution_count": 11,
   "metadata": {},
   "outputs": [
    {
     "data": {
      "text/plain": [
       "Index(['ID', 'Country', 'Stimulus_SkyType', 'Stimulus_Context', 'Gender',\n",
       "       'Pattern', 'pleasant', 'interesting', 'exciting', 'calming', 'complex',\n",
       "       'bright', 'view', 'spacious', 'contrast_mean_mSC5',\n",
       "       'contrast_mean_Michelson', 'contrast_mean_RMS',\n",
       "       'complexity_mean_JPEGtoBMP'],\n",
       "      dtype='object')"
      ]
     },
     "execution_count": 11,
     "metadata": {},
     "output_type": "execute_result"
    }
   ],
   "source": [
    "df_labels_and_features.columns"
   ]
  },
  {
   "cell_type": "markdown",
   "metadata": {},
   "source": [
    "The data frame has 1590 rows × 18 columns where we can see the original sample of the experiment (both inputs and outputs (xn,yn)). Each column is explained below:\n",
    "* 'ID': Identifier of the subject of the experiment (of one person).\n",
    "* 'Country': Country where the person was living.  2 x countries (Greece –138 participants, Switzerland –127 participants)\n",
    "* 'Stimulus_SkyType': 3 x sky types (clear sky with high sun angle, clear sky with low sun angle, overcast sky)\n",
    "* 'Stimulus_Context':  2 x context scenarios (social scenario, work scenario)\n",
    "* 'Gender': Male or Female\n",
    "* 'Pattern': 6 x patterns (determine how are the blinds, and so how are the shadows)\n",
    "* Outputs (yn): 'pleasant', 'interesting', 'exciting', 'calming', 'complex', 'bright', 'view', 'spacious'.\n",
    "* interior metrics (for describing the interior (the kind of room, light, ...) quantitatively): 'contrast_mean_mSC5', 'contrast_mean_Michelson', 'contrast_mean_RMS', 'complexity_mean_JPEGtoBMP'.\n",
    "\n",
    "Note: The metrics in this data set are applied to the whole virtual reallity image (in every interior)."
   ]
  },
  {
   "cell_type": "markdown",
   "metadata": {},
   "source": [
    "Now let's see what is inside `T_features.csv`:"
   ]
  },
  {
   "cell_type": "code",
   "execution_count": 12,
   "metadata": {
    "scrolled": true
   },
   "outputs": [
    {
     "data": {
      "text/html": [
       "<div>\n",
       "<style scoped>\n",
       "    .dataframe tbody tr th:only-of-type {\n",
       "        vertical-align: middle;\n",
       "    }\n",
       "\n",
       "    .dataframe tbody tr th {\n",
       "        vertical-align: top;\n",
       "    }\n",
       "\n",
       "    .dataframe thead th {\n",
       "        text-align: right;\n",
       "    }\n",
       "</style>\n",
       "<table border=\"1\" class=\"dataframe\">\n",
       "  <thead>\n",
       "    <tr style=\"text-align: right;\">\n",
       "      <th></th>\n",
       "      <th>filename</th>\n",
       "      <th>Pattern</th>\n",
       "      <th>Context</th>\n",
       "      <th>SkyType</th>\n",
       "      <th>mean_pleasant</th>\n",
       "      <th>median_pleasant</th>\n",
       "      <th>mean_interesting</th>\n",
       "      <th>median_interesting</th>\n",
       "      <th>mean_calming</th>\n",
       "      <th>median_calming</th>\n",
       "      <th>...</th>\n",
       "      <th>contrast_max_mSC5</th>\n",
       "      <th>contrast_mean_Michelson</th>\n",
       "      <th>contrast_mean_Michelson_cube123</th>\n",
       "      <th>contrast_mean_Michelson_cube3</th>\n",
       "      <th>contrast_mean_RMS</th>\n",
       "      <th>contrast_mean_RMS_cube123</th>\n",
       "      <th>contrast_mean_RMS_cube3</th>\n",
       "      <th>complexity_mean_JPEGtoBMP</th>\n",
       "      <th>complexity_cube3_JPEGtoBMP</th>\n",
       "      <th>complexity_cube123_JPEGtoBMP</th>\n",
       "    </tr>\n",
       "  </thead>\n",
       "  <tbody>\n",
       "    <tr>\n",
       "      <th>0</th>\n",
       "      <td>p1_social_clearhigh_sg_largewin_simu</td>\n",
       "      <td>P1EL</td>\n",
       "      <td>social</td>\n",
       "      <td>clearhigh</td>\n",
       "      <td>5.439024</td>\n",
       "      <td>6</td>\n",
       "      <td>4.512195</td>\n",
       "      <td>4</td>\n",
       "      <td>5.731707</td>\n",
       "      <td>6.0</td>\n",
       "      <td>...</td>\n",
       "      <td>82</td>\n",
       "      <td>0.881714</td>\n",
       "      <td>0.822095</td>\n",
       "      <td>0.696552</td>\n",
       "      <td>104.887032</td>\n",
       "      <td>116.926766</td>\n",
       "      <td>138.288359</td>\n",
       "      <td>0.101518</td>\n",
       "      <td>0.158865</td>\n",
       "      <td>0.129797</td>\n",
       "    </tr>\n",
       "    <tr>\n",
       "      <th>1</th>\n",
       "      <td>p1_social_clearlow_sg_largewin_simu</td>\n",
       "      <td>P1EL</td>\n",
       "      <td>social</td>\n",
       "      <td>clearlow</td>\n",
       "      <td>5.571429</td>\n",
       "      <td>6</td>\n",
       "      <td>4.510204</td>\n",
       "      <td>5</td>\n",
       "      <td>5.897959</td>\n",
       "      <td>6.0</td>\n",
       "      <td>...</td>\n",
       "      <td>85</td>\n",
       "      <td>0.907864</td>\n",
       "      <td>0.846031</td>\n",
       "      <td>0.750000</td>\n",
       "      <td>106.363985</td>\n",
       "      <td>108.835770</td>\n",
       "      <td>119.479999</td>\n",
       "      <td>0.104734</td>\n",
       "      <td>0.136334</td>\n",
       "      <td>0.127709</td>\n",
       "    </tr>\n",
       "    <tr>\n",
       "      <th>2</th>\n",
       "      <td>p1_social_overcast_sg_largewin_simu</td>\n",
       "      <td>P1EL</td>\n",
       "      <td>social</td>\n",
       "      <td>overcast</td>\n",
       "      <td>6.093023</td>\n",
       "      <td>6</td>\n",
       "      <td>4.790698</td>\n",
       "      <td>5</td>\n",
       "      <td>6.651163</td>\n",
       "      <td>7.0</td>\n",
       "      <td>...</td>\n",
       "      <td>49</td>\n",
       "      <td>0.886125</td>\n",
       "      <td>0.829098</td>\n",
       "      <td>0.713287</td>\n",
       "      <td>102.615246</td>\n",
       "      <td>113.078576</td>\n",
       "      <td>133.037937</td>\n",
       "      <td>0.093733</td>\n",
       "      <td>0.134794</td>\n",
       "      <td>0.113091</td>\n",
       "    </tr>\n",
       "    <tr>\n",
       "      <th>3</th>\n",
       "      <td>p1_work_clearhigh_sg_largewin_simu</td>\n",
       "      <td>P1EL</td>\n",
       "      <td>work</td>\n",
       "      <td>clearhigh</td>\n",
       "      <td>5.804348</td>\n",
       "      <td>6</td>\n",
       "      <td>5.086957</td>\n",
       "      <td>5</td>\n",
       "      <td>6.152174</td>\n",
       "      <td>6.5</td>\n",
       "      <td>...</td>\n",
       "      <td>116</td>\n",
       "      <td>0.924177</td>\n",
       "      <td>0.874757</td>\n",
       "      <td>0.680272</td>\n",
       "      <td>107.051167</td>\n",
       "      <td>119.883534</td>\n",
       "      <td>142.784796</td>\n",
       "      <td>0.099205</td>\n",
       "      <td>0.159858</td>\n",
       "      <td>0.124465</td>\n",
       "    </tr>\n",
       "    <tr>\n",
       "      <th>4</th>\n",
       "      <td>p1_work_clearlow_sg_largewin_simu</td>\n",
       "      <td>P1EL</td>\n",
       "      <td>work</td>\n",
       "      <td>clearlow</td>\n",
       "      <td>5.255814</td>\n",
       "      <td>5</td>\n",
       "      <td>4.418605</td>\n",
       "      <td>5</td>\n",
       "      <td>5.837209</td>\n",
       "      <td>6.0</td>\n",
       "      <td>...</td>\n",
       "      <td>116</td>\n",
       "      <td>0.937813</td>\n",
       "      <td>0.887639</td>\n",
       "      <td>0.728223</td>\n",
       "      <td>108.174380</td>\n",
       "      <td>112.987399</td>\n",
       "      <td>126.132718</td>\n",
       "      <td>0.102264</td>\n",
       "      <td>0.139392</td>\n",
       "      <td>0.122615</td>\n",
       "    </tr>\n",
       "  </tbody>\n",
       "</table>\n",
       "<p>5 rows × 31 columns</p>\n",
       "</div>"
      ],
      "text/plain": [
       "                               filename Pattern Context    SkyType  \\\n",
       "0  p1_social_clearhigh_sg_largewin_simu    P1EL  social  clearhigh   \n",
       "1  p1_social_clearlow_sg_largewin_simu     P1EL  social   clearlow   \n",
       "2  p1_social_overcast_sg_largewin_simu     P1EL  social   overcast   \n",
       "3  p1_work_clearhigh_sg_largewin_simu      P1EL    work  clearhigh   \n",
       "4  p1_work_clearlow_sg_largewin_simu       P1EL    work   clearlow   \n",
       "\n",
       "   mean_pleasant  median_pleasant  mean_interesting  median_interesting  \\\n",
       "0       5.439024                6          4.512195                   4   \n",
       "1       5.571429                6          4.510204                   5   \n",
       "2       6.093023                6          4.790698                   5   \n",
       "3       5.804348                6          5.086957                   5   \n",
       "4       5.255814                5          4.418605                   5   \n",
       "\n",
       "   mean_calming  median_calming              ...               \\\n",
       "0      5.731707             6.0              ...                \n",
       "1      5.897959             6.0              ...                \n",
       "2      6.651163             7.0              ...                \n",
       "3      6.152174             6.5              ...                \n",
       "4      5.837209             6.0              ...                \n",
       "\n",
       "   contrast_max_mSC5  contrast_mean_Michelson  \\\n",
       "0                 82                 0.881714   \n",
       "1                 85                 0.907864   \n",
       "2                 49                 0.886125   \n",
       "3                116                 0.924177   \n",
       "4                116                 0.937813   \n",
       "\n",
       "   contrast_mean_Michelson_cube123  contrast_mean_Michelson_cube3  \\\n",
       "0                         0.822095                       0.696552   \n",
       "1                         0.846031                       0.750000   \n",
       "2                         0.829098                       0.713287   \n",
       "3                         0.874757                       0.680272   \n",
       "4                         0.887639                       0.728223   \n",
       "\n",
       "   contrast_mean_RMS  contrast_mean_RMS_cube123  contrast_mean_RMS_cube3  \\\n",
       "0         104.887032                 116.926766               138.288359   \n",
       "1         106.363985                 108.835770               119.479999   \n",
       "2         102.615246                 113.078576               133.037937   \n",
       "3         107.051167                 119.883534               142.784796   \n",
       "4         108.174380                 112.987399               126.132718   \n",
       "\n",
       "   complexity_mean_JPEGtoBMP  complexity_cube3_JPEGtoBMP  \\\n",
       "0                   0.101518                    0.158865   \n",
       "1                   0.104734                    0.136334   \n",
       "2                   0.093733                    0.134794   \n",
       "3                   0.099205                    0.159858   \n",
       "4                   0.102264                    0.139392   \n",
       "\n",
       "   complexity_cube123_JPEGtoBMP  \n",
       "0                      0.129797  \n",
       "1                      0.127709  \n",
       "2                      0.113091  \n",
       "3                      0.124465  \n",
       "4                      0.122615  \n",
       "\n",
       "[5 rows x 31 columns]"
      ]
     },
     "execution_count": 12,
     "metadata": {},
     "output_type": "execute_result"
    }
   ],
   "source": [
    "df_interior_features.head()"
   ]
  },
  {
   "cell_type": "code",
   "execution_count": 13,
   "metadata": {},
   "outputs": [
    {
     "data": {
      "text/plain": [
       "(36, 31)"
      ]
     },
     "execution_count": 13,
     "metadata": {},
     "output_type": "execute_result"
    }
   ],
   "source": [
    "df_interior_features.shape"
   ]
  },
  {
   "cell_type": "code",
   "execution_count": 14,
   "metadata": {
    "scrolled": true
   },
   "outputs": [
    {
     "data": {
      "text/plain": [
       "Index(['filename', 'Pattern', 'Context', 'SkyType', 'mean_pleasant',\n",
       "       'median_pleasant', 'mean_interesting', 'median_interesting',\n",
       "       'mean_calming', 'median_calming', 'mean_exciting', 'median_exciting',\n",
       "       'mean_complex', 'median_complex', 'mean_bright', 'median_bright',\n",
       "       'mean_view', 'median_view', 'mean_spacious', 'median_spacious',\n",
       "       'contrast_mean_mSC5', 'contrast_max_mSC5', 'contrast_mean_Michelson',\n",
       "       'contrast_mean_Michelson_cube123', 'contrast_mean_Michelson_cube3',\n",
       "       'contrast_mean_RMS', 'contrast_mean_RMS_cube123',\n",
       "       'contrast_mean_RMS_cube3', 'complexity_mean_JPEGtoBMP',\n",
       "       'complexity_cube3_JPEGtoBMP', 'complexity_cube123_JPEGtoBMP'],\n",
       "      dtype='object')"
      ]
     },
     "execution_count": 14,
     "metadata": {},
     "output_type": "execute_result"
    }
   ],
   "source": [
    "df_interior_features.columns"
   ]
  },
  {
   "cell_type": "markdown",
   "metadata": {},
   "source": [
    "We have obtained a data frame with 36 rows × 31 columns. This time we see the features of each kind of interior (the kind of room, light, ...)  and several metrics for describing quantitatively the interior situation Each column is explained below:\n",
    "* 'filename': File where we have the cube map projections associated to every interior. (See in `./Cubemap_Projections/BMP/<filename>` or `./Cubemap_Projections/JPEG/<filename>`). The filenames have the structure \"p(pattern_id)_(context)_(SkyType)_sg_largewin_simu\".\n",
    "* 'Pattern': 6 x patterns (determine how are the blinds, and so how are the shadows)\n",
    "* 'Context': 2 x context scenarios (social scenario, work scenario)\n",
    "* 'SkyType': 3 x sky types (clear sky with high sun angle, clear sky with low sun angle, overcast sky)\n",
    "* Means and medians of the outputs (of what people have answer in their respective survey): 'mean_pleasant', 'median_pleasant', 'mean_interesting', 'median_interesting', 'mean_calming', 'median_calming', mean_exciting', 'median_exciting', 'mean_complex', 'median_complex', 'mean_bright', 'median_bright', 'mean_view', 'median_view', 'mean_spacious', 'median_spacious',\n",
    "* Interior metrics (for describing the interior quantitatively): 'contrast_mean_mSC5', 'contrast_max_mSC5', 'contrast_mean_Michelson', 'contrast_mean_Michelson_cube123', 'contrast_mean_Michelson_cube3', 'contrast_mean_RMS', 'contrast_mean_RMS_cube123','contrast_mean_RMS_cube3', 'complexity_mean_JPEGtoBMP', 'complexity_cube3_JPEGtoBMP', 'complexity_cube123_JPEGtoBMP'\n",
    "\n",
    "Note: The metrics in this data set are applied not just to the whole virtual reallity image (we have already this data in the other data frame), but to the different parts of the whole image. Cube1 refers to what you see on your left (when you are doing the experiment with VR), cube2 refers to the front and cube3 refers to the right. Cube123 refers to the metric applied to the three subimages. For more details see`./Cubemap_Projections/JPEG/<filename>`."
   ]
  },
  {
   "cell_type": "markdown",
   "metadata": {},
   "source": [
    "Having done this previous load and brief analysis, we are going to create the data frame we are interested in work with. Firstly we find that our inputs (or features) could be classified in two types and we are taking both of them: \n",
    "* 1- Features of the people (country and gender) who have taken part in the experiment.\n",
    "* 2- Features of the interior: Now we are taking both categorical and metrics data.\n",
    "\n",
    "Secondly, the labels (outputs) of our new data frame are the data that comes from every survey (which has been done by each person): 'pleasant', 'interesting', 'exciting', 'calming', 'complex', 'bright', 'view', 'spacious'. We are asked to study first the 'exciting' and the 'calming' labels but we will split the data frame afterwards."
   ]
  },
  {
   "cell_type": "code",
   "execution_count": 15,
   "metadata": {
    "scrolled": true
   },
   "outputs": [
    {
     "data": {
      "text/html": [
       "<div>\n",
       "<style scoped>\n",
       "    .dataframe tbody tr th:only-of-type {\n",
       "        vertical-align: middle;\n",
       "    }\n",
       "\n",
       "    .dataframe tbody tr th {\n",
       "        vertical-align: top;\n",
       "    }\n",
       "\n",
       "    .dataframe thead th {\n",
       "        text-align: right;\n",
       "    }\n",
       "</style>\n",
       "<table border=\"1\" class=\"dataframe\">\n",
       "  <thead>\n",
       "    <tr style=\"text-align: right;\">\n",
       "      <th></th>\n",
       "      <th>ID</th>\n",
       "      <th>Country</th>\n",
       "      <th>Stimulus_SkyType</th>\n",
       "      <th>Stimulus_Context</th>\n",
       "      <th>Gender</th>\n",
       "      <th>Pattern</th>\n",
       "      <th>pleasant</th>\n",
       "      <th>interesting</th>\n",
       "      <th>exciting</th>\n",
       "      <th>calming</th>\n",
       "      <th>complex</th>\n",
       "      <th>bright</th>\n",
       "      <th>view</th>\n",
       "      <th>spacious</th>\n",
       "      <th>contrast_mean_mSC5</th>\n",
       "      <th>contrast_mean_Michelson</th>\n",
       "      <th>contrast_mean_RMS</th>\n",
       "      <th>complexity_mean_JPEGtoBMP</th>\n",
       "    </tr>\n",
       "  </thead>\n",
       "  <tbody>\n",
       "    <tr>\n",
       "      <th>1268</th>\n",
       "      <td>74</td>\n",
       "      <td>Switzerland</td>\n",
       "      <td>clear low</td>\n",
       "      <td>work</td>\n",
       "      <td>Male</td>\n",
       "      <td>P3EL</td>\n",
       "      <td>8</td>\n",
       "      <td>8</td>\n",
       "      <td>8</td>\n",
       "      <td>4</td>\n",
       "      <td>7</td>\n",
       "      <td>8</td>\n",
       "      <td>7</td>\n",
       "      <td>6</td>\n",
       "      <td>12.110578</td>\n",
       "      <td>0.938136</td>\n",
       "      <td>108.475839</td>\n",
       "      <td>0.115164</td>\n",
       "    </tr>\n",
       "  </tbody>\n",
       "</table>\n",
       "</div>"
      ],
      "text/plain": [
       "      ID      Country Stimulus_SkyType Stimulus_Context Gender Pattern  \\\n",
       "1268  74  Switzerland        clear low             work   Male    P3EL   \n",
       "\n",
       "      pleasant  interesting  exciting  calming  complex  bright  view  \\\n",
       "1268         8            8         8        4        7       8     7   \n",
       "\n",
       "      spacious  contrast_mean_mSC5  contrast_mean_Michelson  \\\n",
       "1268         6           12.110578                 0.938136   \n",
       "\n",
       "      contrast_mean_RMS  complexity_mean_JPEGtoBMP  \n",
       "1268         108.475839                   0.115164  "
      ]
     },
     "execution_count": 15,
     "metadata": {},
     "output_type": "execute_result"
    }
   ],
   "source": [
    "df_labels_and_features.sample()"
   ]
  },
  {
   "cell_type": "code",
   "execution_count": 16,
   "metadata": {},
   "outputs": [
    {
     "data": {
      "text/html": [
       "<div>\n",
       "<style scoped>\n",
       "    .dataframe tbody tr th:only-of-type {\n",
       "        vertical-align: middle;\n",
       "    }\n",
       "\n",
       "    .dataframe tbody tr th {\n",
       "        vertical-align: top;\n",
       "    }\n",
       "\n",
       "    .dataframe thead th {\n",
       "        text-align: right;\n",
       "    }\n",
       "</style>\n",
       "<table border=\"1\" class=\"dataframe\">\n",
       "  <thead>\n",
       "    <tr style=\"text-align: right;\">\n",
       "      <th></th>\n",
       "      <th>ID</th>\n",
       "      <th>Country</th>\n",
       "      <th>Stimulus_SkyType</th>\n",
       "      <th>Stimulus_Context</th>\n",
       "      <th>Gender</th>\n",
       "      <th>Pattern</th>\n",
       "      <th>pleasant</th>\n",
       "      <th>interesting</th>\n",
       "      <th>exciting</th>\n",
       "      <th>calming</th>\n",
       "      <th>complex</th>\n",
       "      <th>bright</th>\n",
       "      <th>view</th>\n",
       "      <th>spacious</th>\n",
       "      <th>contrast_mean_mSC5</th>\n",
       "      <th>contrast_mean_Michelson</th>\n",
       "      <th>contrast_mean_RMS</th>\n",
       "      <th>complexity_mean_JPEGtoBMP</th>\n",
       "    </tr>\n",
       "  </thead>\n",
       "  <tbody>\n",
       "    <tr>\n",
       "      <th>120</th>\n",
       "      <td>21</td>\n",
       "      <td>Greece</td>\n",
       "      <td>overcast</td>\n",
       "      <td>work</td>\n",
       "      <td>Male</td>\n",
       "      <td>P1EL</td>\n",
       "      <td>4</td>\n",
       "      <td>2</td>\n",
       "      <td>3</td>\n",
       "      <td>5</td>\n",
       "      <td>4</td>\n",
       "      <td>8</td>\n",
       "      <td>3</td>\n",
       "      <td>5</td>\n",
       "      <td>4.916741</td>\n",
       "      <td>0.926055</td>\n",
       "      <td>104.632399</td>\n",
       "      <td>0.092023</td>\n",
       "    </tr>\n",
       "    <tr>\n",
       "      <th>121</th>\n",
       "      <td>21</td>\n",
       "      <td>Greece</td>\n",
       "      <td>overcast</td>\n",
       "      <td>work</td>\n",
       "      <td>Male</td>\n",
       "      <td>P2EL</td>\n",
       "      <td>4</td>\n",
       "      <td>2</td>\n",
       "      <td>2</td>\n",
       "      <td>4</td>\n",
       "      <td>4</td>\n",
       "      <td>8</td>\n",
       "      <td>3</td>\n",
       "      <td>5</td>\n",
       "      <td>4.862252</td>\n",
       "      <td>0.926357</td>\n",
       "      <td>105.006511</td>\n",
       "      <td>0.090104</td>\n",
       "    </tr>\n",
       "    <tr>\n",
       "      <th>122</th>\n",
       "      <td>21</td>\n",
       "      <td>Greece</td>\n",
       "      <td>overcast</td>\n",
       "      <td>work</td>\n",
       "      <td>Male</td>\n",
       "      <td>P3EL</td>\n",
       "      <td>4</td>\n",
       "      <td>3</td>\n",
       "      <td>3</td>\n",
       "      <td>4</td>\n",
       "      <td>4</td>\n",
       "      <td>8</td>\n",
       "      <td>3</td>\n",
       "      <td>5</td>\n",
       "      <td>5.522844</td>\n",
       "      <td>0.928578</td>\n",
       "      <td>104.993878</td>\n",
       "      <td>0.090165</td>\n",
       "    </tr>\n",
       "    <tr>\n",
       "      <th>123</th>\n",
       "      <td>21</td>\n",
       "      <td>Greece</td>\n",
       "      <td>overcast</td>\n",
       "      <td>work</td>\n",
       "      <td>Male</td>\n",
       "      <td>P4EL</td>\n",
       "      <td>4</td>\n",
       "      <td>4</td>\n",
       "      <td>4</td>\n",
       "      <td>4</td>\n",
       "      <td>4</td>\n",
       "      <td>8</td>\n",
       "      <td>3</td>\n",
       "      <td>5</td>\n",
       "      <td>6.326519</td>\n",
       "      <td>0.929018</td>\n",
       "      <td>104.851587</td>\n",
       "      <td>0.093070</td>\n",
       "    </tr>\n",
       "    <tr>\n",
       "      <th>124</th>\n",
       "      <td>21</td>\n",
       "      <td>Greece</td>\n",
       "      <td>overcast</td>\n",
       "      <td>work</td>\n",
       "      <td>Male</td>\n",
       "      <td>P5EL</td>\n",
       "      <td>3</td>\n",
       "      <td>3</td>\n",
       "      <td>5</td>\n",
       "      <td>3</td>\n",
       "      <td>5</td>\n",
       "      <td>8</td>\n",
       "      <td>4</td>\n",
       "      <td>5</td>\n",
       "      <td>6.309748</td>\n",
       "      <td>0.929996</td>\n",
       "      <td>105.055261</td>\n",
       "      <td>0.095358</td>\n",
       "    </tr>\n",
       "    <tr>\n",
       "      <th>125</th>\n",
       "      <td>21</td>\n",
       "      <td>Greece</td>\n",
       "      <td>overcast</td>\n",
       "      <td>work</td>\n",
       "      <td>Male</td>\n",
       "      <td>P6EL</td>\n",
       "      <td>4</td>\n",
       "      <td>3</td>\n",
       "      <td>3</td>\n",
       "      <td>4</td>\n",
       "      <td>4</td>\n",
       "      <td>8</td>\n",
       "      <td>6</td>\n",
       "      <td>5</td>\n",
       "      <td>6.609126</td>\n",
       "      <td>0.930879</td>\n",
       "      <td>104.874786</td>\n",
       "      <td>0.093971</td>\n",
       "    </tr>\n",
       "    <tr>\n",
       "      <th>948</th>\n",
       "      <td>21</td>\n",
       "      <td>Switzerland</td>\n",
       "      <td>overcast</td>\n",
       "      <td>work</td>\n",
       "      <td>Male</td>\n",
       "      <td>P1EL</td>\n",
       "      <td>4</td>\n",
       "      <td>3</td>\n",
       "      <td>3</td>\n",
       "      <td>4</td>\n",
       "      <td>5</td>\n",
       "      <td>7</td>\n",
       "      <td>5</td>\n",
       "      <td>6</td>\n",
       "      <td>4.916741</td>\n",
       "      <td>0.926055</td>\n",
       "      <td>104.632399</td>\n",
       "      <td>0.092023</td>\n",
       "    </tr>\n",
       "    <tr>\n",
       "      <th>949</th>\n",
       "      <td>21</td>\n",
       "      <td>Switzerland</td>\n",
       "      <td>overcast</td>\n",
       "      <td>work</td>\n",
       "      <td>Male</td>\n",
       "      <td>P2EL</td>\n",
       "      <td>6</td>\n",
       "      <td>7</td>\n",
       "      <td>7</td>\n",
       "      <td>8</td>\n",
       "      <td>6</td>\n",
       "      <td>5</td>\n",
       "      <td>4</td>\n",
       "      <td>7</td>\n",
       "      <td>4.862252</td>\n",
       "      <td>0.926357</td>\n",
       "      <td>105.006511</td>\n",
       "      <td>0.090104</td>\n",
       "    </tr>\n",
       "    <tr>\n",
       "      <th>950</th>\n",
       "      <td>21</td>\n",
       "      <td>Switzerland</td>\n",
       "      <td>overcast</td>\n",
       "      <td>work</td>\n",
       "      <td>Male</td>\n",
       "      <td>P3EL</td>\n",
       "      <td>9</td>\n",
       "      <td>9</td>\n",
       "      <td>5</td>\n",
       "      <td>9</td>\n",
       "      <td>3</td>\n",
       "      <td>6</td>\n",
       "      <td>9</td>\n",
       "      <td>7</td>\n",
       "      <td>5.522844</td>\n",
       "      <td>0.928578</td>\n",
       "      <td>104.993878</td>\n",
       "      <td>0.090165</td>\n",
       "    </tr>\n",
       "    <tr>\n",
       "      <th>951</th>\n",
       "      <td>21</td>\n",
       "      <td>Switzerland</td>\n",
       "      <td>overcast</td>\n",
       "      <td>work</td>\n",
       "      <td>Male</td>\n",
       "      <td>P4EL</td>\n",
       "      <td>3</td>\n",
       "      <td>7</td>\n",
       "      <td>3</td>\n",
       "      <td>2</td>\n",
       "      <td>9</td>\n",
       "      <td>6</td>\n",
       "      <td>0</td>\n",
       "      <td>7</td>\n",
       "      <td>6.326519</td>\n",
       "      <td>0.929018</td>\n",
       "      <td>104.851587</td>\n",
       "      <td>0.093070</td>\n",
       "    </tr>\n",
       "    <tr>\n",
       "      <th>952</th>\n",
       "      <td>21</td>\n",
       "      <td>Switzerland</td>\n",
       "      <td>overcast</td>\n",
       "      <td>work</td>\n",
       "      <td>Male</td>\n",
       "      <td>P5EL</td>\n",
       "      <td>5</td>\n",
       "      <td>8</td>\n",
       "      <td>8</td>\n",
       "      <td>2</td>\n",
       "      <td>8</td>\n",
       "      <td>9</td>\n",
       "      <td>9</td>\n",
       "      <td>7</td>\n",
       "      <td>6.309748</td>\n",
       "      <td>0.929996</td>\n",
       "      <td>105.055261</td>\n",
       "      <td>0.095358</td>\n",
       "    </tr>\n",
       "    <tr>\n",
       "      <th>953</th>\n",
       "      <td>21</td>\n",
       "      <td>Switzerland</td>\n",
       "      <td>overcast</td>\n",
       "      <td>work</td>\n",
       "      <td>Male</td>\n",
       "      <td>P6EL</td>\n",
       "      <td>7</td>\n",
       "      <td>8</td>\n",
       "      <td>8</td>\n",
       "      <td>3</td>\n",
       "      <td>9</td>\n",
       "      <td>7</td>\n",
       "      <td>7</td>\n",
       "      <td>4</td>\n",
       "      <td>6.609126</td>\n",
       "      <td>0.930879</td>\n",
       "      <td>104.874786</td>\n",
       "      <td>0.093971</td>\n",
       "    </tr>\n",
       "  </tbody>\n",
       "</table>\n",
       "</div>"
      ],
      "text/plain": [
       "     ID      Country Stimulus_SkyType Stimulus_Context Gender Pattern  \\\n",
       "120  21       Greece         overcast             work   Male    P1EL   \n",
       "121  21       Greece         overcast             work   Male    P2EL   \n",
       "122  21       Greece         overcast             work   Male    P3EL   \n",
       "123  21       Greece         overcast             work   Male    P4EL   \n",
       "124  21       Greece         overcast             work   Male    P5EL   \n",
       "125  21       Greece         overcast             work   Male    P6EL   \n",
       "948  21  Switzerland         overcast             work   Male    P1EL   \n",
       "949  21  Switzerland         overcast             work   Male    P2EL   \n",
       "950  21  Switzerland         overcast             work   Male    P3EL   \n",
       "951  21  Switzerland         overcast             work   Male    P4EL   \n",
       "952  21  Switzerland         overcast             work   Male    P5EL   \n",
       "953  21  Switzerland         overcast             work   Male    P6EL   \n",
       "\n",
       "     pleasant  interesting  exciting  calming  complex  bright  view  \\\n",
       "120         4            2         3        5        4       8     3   \n",
       "121         4            2         2        4        4       8     3   \n",
       "122         4            3         3        4        4       8     3   \n",
       "123         4            4         4        4        4       8     3   \n",
       "124         3            3         5        3        5       8     4   \n",
       "125         4            3         3        4        4       8     6   \n",
       "948         4            3         3        4        5       7     5   \n",
       "949         6            7         7        8        6       5     4   \n",
       "950         9            9         5        9        3       6     9   \n",
       "951         3            7         3        2        9       6     0   \n",
       "952         5            8         8        2        8       9     9   \n",
       "953         7            8         8        3        9       7     7   \n",
       "\n",
       "     spacious  contrast_mean_mSC5  contrast_mean_Michelson  contrast_mean_RMS  \\\n",
       "120         5            4.916741                 0.926055         104.632399   \n",
       "121         5            4.862252                 0.926357         105.006511   \n",
       "122         5            5.522844                 0.928578         104.993878   \n",
       "123         5            6.326519                 0.929018         104.851587   \n",
       "124         5            6.309748                 0.929996         105.055261   \n",
       "125         5            6.609126                 0.930879         104.874786   \n",
       "948         6            4.916741                 0.926055         104.632399   \n",
       "949         7            4.862252                 0.926357         105.006511   \n",
       "950         7            5.522844                 0.928578         104.993878   \n",
       "951         7            6.326519                 0.929018         104.851587   \n",
       "952         7            6.309748                 0.929996         105.055261   \n",
       "953         4            6.609126                 0.930879         104.874786   \n",
       "\n",
       "     complexity_mean_JPEGtoBMP  \n",
       "120                   0.092023  \n",
       "121                   0.090104  \n",
       "122                   0.090165  \n",
       "123                   0.093070  \n",
       "124                   0.095358  \n",
       "125                   0.093971  \n",
       "948                   0.092023  \n",
       "949                   0.090104  \n",
       "950                   0.090165  \n",
       "951                   0.093070  \n",
       "952                   0.095358  \n",
       "953                   0.093971  "
      ]
     },
     "execution_count": 16,
     "metadata": {},
     "output_type": "execute_result"
    }
   ],
   "source": [
    "df_labels_and_features[df_labels_and_features['ID']==21]"
   ]
  },
  {
   "cell_type": "code",
   "execution_count": 17,
   "metadata": {
    "scrolled": true
   },
   "outputs": [
    {
     "data": {
      "text/html": [
       "<div>\n",
       "<style scoped>\n",
       "    .dataframe tbody tr th:only-of-type {\n",
       "        vertical-align: middle;\n",
       "    }\n",
       "\n",
       "    .dataframe tbody tr th {\n",
       "        vertical-align: top;\n",
       "    }\n",
       "\n",
       "    .dataframe thead th {\n",
       "        text-align: right;\n",
       "    }\n",
       "</style>\n",
       "<table border=\"1\" class=\"dataframe\">\n",
       "  <thead>\n",
       "    <tr style=\"text-align: right;\">\n",
       "      <th></th>\n",
       "      <th>filename</th>\n",
       "      <th>Pattern</th>\n",
       "      <th>Context</th>\n",
       "      <th>SkyType</th>\n",
       "      <th>mean_pleasant</th>\n",
       "      <th>median_pleasant</th>\n",
       "      <th>mean_interesting</th>\n",
       "      <th>median_interesting</th>\n",
       "      <th>mean_calming</th>\n",
       "      <th>median_calming</th>\n",
       "      <th>...</th>\n",
       "      <th>contrast_max_mSC5</th>\n",
       "      <th>contrast_mean_Michelson</th>\n",
       "      <th>contrast_mean_Michelson_cube123</th>\n",
       "      <th>contrast_mean_Michelson_cube3</th>\n",
       "      <th>contrast_mean_RMS</th>\n",
       "      <th>contrast_mean_RMS_cube123</th>\n",
       "      <th>contrast_mean_RMS_cube3</th>\n",
       "      <th>complexity_mean_JPEGtoBMP</th>\n",
       "      <th>complexity_cube3_JPEGtoBMP</th>\n",
       "      <th>complexity_cube123_JPEGtoBMP</th>\n",
       "    </tr>\n",
       "  </thead>\n",
       "  <tbody>\n",
       "    <tr>\n",
       "      <th>0</th>\n",
       "      <td>p1_social_clearhigh_sg_largewin_simu</td>\n",
       "      <td>P1EL</td>\n",
       "      <td>social</td>\n",
       "      <td>clearhigh</td>\n",
       "      <td>5.439024</td>\n",
       "      <td>6</td>\n",
       "      <td>4.512195</td>\n",
       "      <td>4</td>\n",
       "      <td>5.731707</td>\n",
       "      <td>6.0</td>\n",
       "      <td>...</td>\n",
       "      <td>82</td>\n",
       "      <td>0.881714</td>\n",
       "      <td>0.822095</td>\n",
       "      <td>0.696552</td>\n",
       "      <td>104.887032</td>\n",
       "      <td>116.926766</td>\n",
       "      <td>138.288359</td>\n",
       "      <td>0.101518</td>\n",
       "      <td>0.158865</td>\n",
       "      <td>0.129797</td>\n",
       "    </tr>\n",
       "  </tbody>\n",
       "</table>\n",
       "<p>1 rows × 31 columns</p>\n",
       "</div>"
      ],
      "text/plain": [
       "                               filename Pattern Context    SkyType  \\\n",
       "0  p1_social_clearhigh_sg_largewin_simu    P1EL  social  clearhigh   \n",
       "\n",
       "   mean_pleasant  median_pleasant  mean_interesting  median_interesting  \\\n",
       "0       5.439024                6          4.512195                   4   \n",
       "\n",
       "   mean_calming  median_calming              ...               \\\n",
       "0      5.731707             6.0              ...                \n",
       "\n",
       "   contrast_max_mSC5  contrast_mean_Michelson  \\\n",
       "0                 82                 0.881714   \n",
       "\n",
       "   contrast_mean_Michelson_cube123  contrast_mean_Michelson_cube3  \\\n",
       "0                         0.822095                       0.696552   \n",
       "\n",
       "   contrast_mean_RMS  contrast_mean_RMS_cube123  contrast_mean_RMS_cube3  \\\n",
       "0         104.887032                 116.926766               138.288359   \n",
       "\n",
       "   complexity_mean_JPEGtoBMP  complexity_cube3_JPEGtoBMP  \\\n",
       "0                   0.101518                    0.158865   \n",
       "\n",
       "   complexity_cube123_JPEGtoBMP  \n",
       "0                      0.129797  \n",
       "\n",
       "[1 rows x 31 columns]"
      ]
     },
     "execution_count": 17,
     "metadata": {},
     "output_type": "execute_result"
    }
   ],
   "source": [
    "df_interior_features.head(1)"
   ]
  },
  {
   "cell_type": "markdown",
   "metadata": {},
   "source": [
    "For doing the join, we check that one of the metrics determine totally the interior (there are not two interiors with the same metric value):"
   ]
  },
  {
   "cell_type": "code",
   "execution_count": 18,
   "metadata": {
    "scrolled": false
   },
   "outputs": [
    {
     "data": {
      "text/plain": [
       "True"
      ]
     },
     "execution_count": 18,
     "metadata": {},
     "output_type": "execute_result"
    }
   ],
   "source": [
    "df_interior_features[\"to_join\"]=(1000*df_interior_features[\"contrast_mean_RMS\"]).astype(int) #We cannot do the join on the float\n",
    "df_labels_and_features[\"to_join\"]=(1000*df_labels_and_features[\"contrast_mean_RMS\"]).astype(int) #so we add another column\n",
    "\n",
    "df_interior_features.set_index(\"to_join\").index.is_unique"
   ]
  },
  {
   "cell_type": "code",
   "execution_count": 19,
   "metadata": {},
   "outputs": [
    {
     "data": {
      "text/plain": [
       "Index(['ID', 'Country', 'Stimulus_SkyType', 'Stimulus_Context', 'Gender',\n",
       "       'Pattern', 'pleasant', 'interesting', 'exciting', 'calming', 'complex',\n",
       "       'bright', 'view', 'spacious', 'contrast_mean_mSC5',\n",
       "       'contrast_mean_Michelson', 'contrast_mean_RMS',\n",
       "       'complexity_mean_JPEGtoBMP', 'to_join'],\n",
       "      dtype='object')"
      ]
     },
     "execution_count": 19,
     "metadata": {},
     "output_type": "execute_result"
    }
   ],
   "source": [
    "df_labels_and_features.columns"
   ]
  },
  {
   "cell_type": "code",
   "execution_count": 20,
   "metadata": {
    "scrolled": true
   },
   "outputs": [
    {
     "data": {
      "text/html": [
       "<div>\n",
       "<style scoped>\n",
       "    .dataframe tbody tr th:only-of-type {\n",
       "        vertical-align: middle;\n",
       "    }\n",
       "\n",
       "    .dataframe tbody tr th {\n",
       "        vertical-align: top;\n",
       "    }\n",
       "\n",
       "    .dataframe thead th {\n",
       "        text-align: right;\n",
       "    }\n",
       "</style>\n",
       "<table border=\"1\" class=\"dataframe\">\n",
       "  <thead>\n",
       "    <tr style=\"text-align: right;\">\n",
       "      <th></th>\n",
       "      <th>filename</th>\n",
       "      <th>Pattern_a</th>\n",
       "      <th>Context</th>\n",
       "      <th>SkyType</th>\n",
       "      <th>mean_pleasant</th>\n",
       "      <th>median_pleasant</th>\n",
       "      <th>mean_interesting</th>\n",
       "      <th>median_interesting</th>\n",
       "      <th>mean_calming</th>\n",
       "      <th>median_calming</th>\n",
       "      <th>...</th>\n",
       "      <th>exciting</th>\n",
       "      <th>calming</th>\n",
       "      <th>complex</th>\n",
       "      <th>bright</th>\n",
       "      <th>view</th>\n",
       "      <th>spacious</th>\n",
       "      <th>contrast_mean_mSC5</th>\n",
       "      <th>contrast_mean_Michelson</th>\n",
       "      <th>contrast_mean_RMS</th>\n",
       "      <th>complexity_mean_JPEGtoBMP</th>\n",
       "    </tr>\n",
       "  </thead>\n",
       "  <tbody>\n",
       "    <tr>\n",
       "      <th>0</th>\n",
       "      <td>p1_social_clearhigh_sg_largewin_simu</td>\n",
       "      <td>P1EL</td>\n",
       "      <td>social</td>\n",
       "      <td>clearhigh</td>\n",
       "      <td>5.439024</td>\n",
       "      <td>6</td>\n",
       "      <td>4.512195</td>\n",
       "      <td>4</td>\n",
       "      <td>5.731707</td>\n",
       "      <td>6.0</td>\n",
       "      <td>...</td>\n",
       "      <td>5</td>\n",
       "      <td>7</td>\n",
       "      <td>0</td>\n",
       "      <td>7</td>\n",
       "      <td>6</td>\n",
       "      <td>9</td>\n",
       "      <td>5.023496</td>\n",
       "      <td>0.881714</td>\n",
       "      <td>104.887032</td>\n",
       "      <td>0.101518</td>\n",
       "    </tr>\n",
       "  </tbody>\n",
       "</table>\n",
       "<p>1 rows × 50 columns</p>\n",
       "</div>"
      ],
      "text/plain": [
       "                               filename Pattern_a Context    SkyType  \\\n",
       "0  p1_social_clearhigh_sg_largewin_simu      P1EL  social  clearhigh   \n",
       "\n",
       "   mean_pleasant  median_pleasant  mean_interesting  median_interesting  \\\n",
       "0       5.439024                6          4.512195                   4   \n",
       "\n",
       "   mean_calming  median_calming            ...              exciting  calming  \\\n",
       "0      5.731707             6.0            ...                     5        7   \n",
       "\n",
       "   complex  bright  view  spacious  contrast_mean_mSC5  \\\n",
       "0        0       7     6         9            5.023496   \n",
       "\n",
       "   contrast_mean_Michelson  contrast_mean_RMS  complexity_mean_JPEGtoBMP  \n",
       "0                 0.881714         104.887032                   0.101518  \n",
       "\n",
       "[1 rows x 50 columns]"
      ]
     },
     "execution_count": 20,
     "metadata": {},
     "output_type": "execute_result"
    }
   ],
   "source": [
    "df_ml_raw = df_interior_features.merge(df_labels_and_features, on = \"to_join\", how = 'inner', suffixes = (\"_a\",\"\"))\n",
    "df_ml_raw.head(1)"
   ]
  },
  {
   "cell_type": "code",
   "execution_count": 21,
   "metadata": {
    "scrolled": true
   },
   "outputs": [
    {
     "data": {
      "text/plain": [
       "Index(['filename', 'Pattern_a', 'Context', 'SkyType', 'mean_pleasant',\n",
       "       'median_pleasant', 'mean_interesting', 'median_interesting',\n",
       "       'mean_calming', 'median_calming', 'mean_exciting', 'median_exciting',\n",
       "       'mean_complex', 'median_complex', 'mean_bright', 'median_bright',\n",
       "       'mean_view', 'median_view', 'mean_spacious', 'median_spacious',\n",
       "       'contrast_mean_mSC5_a', 'contrast_max_mSC5',\n",
       "       'contrast_mean_Michelson_a', 'contrast_mean_Michelson_cube123',\n",
       "       'contrast_mean_Michelson_cube3', 'contrast_mean_RMS_a',\n",
       "       'contrast_mean_RMS_cube123', 'contrast_mean_RMS_cube3',\n",
       "       'complexity_mean_JPEGtoBMP_a', 'complexity_cube3_JPEGtoBMP',\n",
       "       'complexity_cube123_JPEGtoBMP', 'to_join', 'ID', 'Country',\n",
       "       'Stimulus_SkyType', 'Stimulus_Context', 'Gender', 'Pattern', 'pleasant',\n",
       "       'interesting', 'exciting', 'calming', 'complex', 'bright', 'view',\n",
       "       'spacious', 'contrast_mean_mSC5', 'contrast_mean_Michelson',\n",
       "       'contrast_mean_RMS', 'complexity_mean_JPEGtoBMP'],\n",
       "      dtype='object')"
      ]
     },
     "execution_count": 21,
     "metadata": {},
     "output_type": "execute_result"
    }
   ],
   "source": [
    "df_ml_raw.columns"
   ]
  },
  {
   "cell_type": "code",
   "execution_count": null,
   "metadata": {
    "scrolled": true
   },
   "outputs": [],
   "source": []
  },
  {
   "cell_type": "markdown",
   "metadata": {},
   "source": [
    "Now we drop the duplicates columns and order the columns in order to have a data frame with the structure X|Y, where X is the matrix of features (each column is a feature) and Y is the matrix with the labels."
   ]
  },
  {
   "cell_type": "code",
   "execution_count": 22,
   "metadata": {
    "scrolled": true
   },
   "outputs": [],
   "source": [
    "df_ml = df_ml_raw[['ID', 'Country', 'Gender', 'Pattern', 'Context', 'SkyType', 'contrast_mean_mSC5', 'contrast_max_mSC5', \n",
    "               'contrast_mean_Michelson', 'contrast_mean_Michelson_cube123', 'contrast_mean_Michelson_cube3', \n",
    "               'contrast_mean_RMS', 'contrast_mean_RMS_cube123', 'contrast_mean_RMS_cube3', 'complexity_mean_JPEGtoBMP',\n",
    "               'complexity_cube3_JPEGtoBMP', 'complexity_cube123_JPEGtoBMP', 'pleasant', 'interesting', 'exciting', 'calming', \n",
    "               'complex', 'bright', 'view', 'spacious']]\n",
    "\n",
    "\n"
   ]
  },
  {
   "cell_type": "code",
   "execution_count": 23,
   "metadata": {
    "scrolled": true
   },
   "outputs": [
    {
     "data": {
      "text/html": [
       "<div>\n",
       "<style scoped>\n",
       "    .dataframe tbody tr th:only-of-type {\n",
       "        vertical-align: middle;\n",
       "    }\n",
       "\n",
       "    .dataframe tbody tr th {\n",
       "        vertical-align: top;\n",
       "    }\n",
       "\n",
       "    .dataframe thead th {\n",
       "        text-align: right;\n",
       "    }\n",
       "</style>\n",
       "<table border=\"1\" class=\"dataframe\">\n",
       "  <thead>\n",
       "    <tr style=\"text-align: right;\">\n",
       "      <th></th>\n",
       "      <th>ID</th>\n",
       "      <th>Country</th>\n",
       "      <th>Gender</th>\n",
       "      <th>Pattern</th>\n",
       "      <th>Context</th>\n",
       "      <th>SkyType</th>\n",
       "      <th>contrast_mean_mSC5</th>\n",
       "      <th>contrast_max_mSC5</th>\n",
       "      <th>contrast_mean_Michelson</th>\n",
       "      <th>contrast_mean_Michelson_cube123</th>\n",
       "      <th>...</th>\n",
       "      <th>complexity_cube3_JPEGtoBMP</th>\n",
       "      <th>complexity_cube123_JPEGtoBMP</th>\n",
       "      <th>pleasant</th>\n",
       "      <th>interesting</th>\n",
       "      <th>exciting</th>\n",
       "      <th>calming</th>\n",
       "      <th>complex</th>\n",
       "      <th>bright</th>\n",
       "      <th>view</th>\n",
       "      <th>spacious</th>\n",
       "    </tr>\n",
       "  </thead>\n",
       "  <tbody>\n",
       "    <tr>\n",
       "      <th>0</th>\n",
       "      <td>11</td>\n",
       "      <td>Greece</td>\n",
       "      <td>Male</td>\n",
       "      <td>P1EL</td>\n",
       "      <td>social</td>\n",
       "      <td>clearhigh</td>\n",
       "      <td>5.023496</td>\n",
       "      <td>82</td>\n",
       "      <td>0.881714</td>\n",
       "      <td>0.822095</td>\n",
       "      <td>...</td>\n",
       "      <td>0.158865</td>\n",
       "      <td>0.129797</td>\n",
       "      <td>7</td>\n",
       "      <td>5</td>\n",
       "      <td>5</td>\n",
       "      <td>7</td>\n",
       "      <td>0</td>\n",
       "      <td>7</td>\n",
       "      <td>6</td>\n",
       "      <td>9</td>\n",
       "    </tr>\n",
       "  </tbody>\n",
       "</table>\n",
       "<p>1 rows × 25 columns</p>\n",
       "</div>"
      ],
      "text/plain": [
       "   ID Country Gender Pattern Context    SkyType  contrast_mean_mSC5  \\\n",
       "0  11  Greece   Male    P1EL  social  clearhigh            5.023496   \n",
       "\n",
       "   contrast_max_mSC5  contrast_mean_Michelson  \\\n",
       "0                 82                 0.881714   \n",
       "\n",
       "   contrast_mean_Michelson_cube123    ...     complexity_cube3_JPEGtoBMP  \\\n",
       "0                         0.822095    ...                       0.158865   \n",
       "\n",
       "   complexity_cube123_JPEGtoBMP  pleasant  interesting  exciting  calming  \\\n",
       "0                      0.129797         7            5         5        7   \n",
       "\n",
       "   complex  bright  view  spacious  \n",
       "0        0       7     6         9  \n",
       "\n",
       "[1 rows x 25 columns]"
      ]
     },
     "execution_count": 23,
     "metadata": {},
     "output_type": "execute_result"
    }
   ],
   "source": [
    "df_ml.head(1)"
   ]
  },
  {
   "cell_type": "markdown",
   "metadata": {},
   "source": [
    "We can also check and see that there are no missing values. (all instances are non-null)"
   ]
  },
  {
   "cell_type": "code",
   "execution_count": 24,
   "metadata": {},
   "outputs": [
    {
     "name": "stdout",
     "output_type": "stream",
     "text": [
      "<class 'pandas.core.frame.DataFrame'>\n",
      "Int64Index: 1590 entries, 0 to 1589\n",
      "Data columns (total 25 columns):\n",
      "ID                                 1590 non-null int64\n",
      "Country                            1590 non-null object\n",
      "Gender                             1590 non-null object\n",
      "Pattern                            1590 non-null object\n",
      "Context                            1590 non-null object\n",
      "SkyType                            1590 non-null object\n",
      "contrast_mean_mSC5                 1590 non-null float64\n",
      "contrast_max_mSC5                  1590 non-null int64\n",
      "contrast_mean_Michelson            1590 non-null float64\n",
      "contrast_mean_Michelson_cube123    1590 non-null float64\n",
      "contrast_mean_Michelson_cube3      1590 non-null float64\n",
      "contrast_mean_RMS                  1590 non-null float64\n",
      "contrast_mean_RMS_cube123          1590 non-null float64\n",
      "contrast_mean_RMS_cube3            1590 non-null float64\n",
      "complexity_mean_JPEGtoBMP          1590 non-null float64\n",
      "complexity_cube3_JPEGtoBMP         1590 non-null float64\n",
      "complexity_cube123_JPEGtoBMP       1590 non-null float64\n",
      "pleasant                           1590 non-null int64\n",
      "interesting                        1590 non-null int64\n",
      "exciting                           1590 non-null int64\n",
      "calming                            1590 non-null int64\n",
      "complex                            1590 non-null int64\n",
      "bright                             1590 non-null int64\n",
      "view                               1590 non-null int64\n",
      "spacious                           1590 non-null int64\n",
      "dtypes: float64(10), int64(10), object(5)\n",
      "memory usage: 323.0+ KB\n"
     ]
    }
   ],
   "source": [
    "df_ml.info()"
   ]
  },
  {
   "cell_type": "markdown",
   "metadata": {},
   "source": [
    "and see that all ratings are between 0 and 10:"
   ]
  },
  {
   "cell_type": "code",
   "execution_count": 25,
   "metadata": {},
   "outputs": [
    {
     "data": {
      "text/html": [
       "<div>\n",
       "<style scoped>\n",
       "    .dataframe tbody tr th:only-of-type {\n",
       "        vertical-align: middle;\n",
       "    }\n",
       "\n",
       "    .dataframe tbody tr th {\n",
       "        vertical-align: top;\n",
       "    }\n",
       "\n",
       "    .dataframe thead th {\n",
       "        text-align: right;\n",
       "    }\n",
       "</style>\n",
       "<table border=\"1\" class=\"dataframe\">\n",
       "  <thead>\n",
       "    <tr style=\"text-align: right;\">\n",
       "      <th></th>\n",
       "      <th>pleasant</th>\n",
       "      <th>interesting</th>\n",
       "      <th>exciting</th>\n",
       "      <th>calming</th>\n",
       "      <th>complex</th>\n",
       "      <th>bright</th>\n",
       "      <th>view</th>\n",
       "      <th>spacious</th>\n",
       "    </tr>\n",
       "  </thead>\n",
       "  <tbody>\n",
       "    <tr>\n",
       "      <th>min</th>\n",
       "      <td>0.0</td>\n",
       "      <td>0.0</td>\n",
       "      <td>0.0</td>\n",
       "      <td>0.0</td>\n",
       "      <td>0.0</td>\n",
       "      <td>0.0</td>\n",
       "      <td>0.0</td>\n",
       "      <td>0.0</td>\n",
       "    </tr>\n",
       "    <tr>\n",
       "      <th>max</th>\n",
       "      <td>10.0</td>\n",
       "      <td>10.0</td>\n",
       "      <td>10.0</td>\n",
       "      <td>10.0</td>\n",
       "      <td>10.0</td>\n",
       "      <td>10.0</td>\n",
       "      <td>10.0</td>\n",
       "      <td>10.0</td>\n",
       "    </tr>\n",
       "  </tbody>\n",
       "</table>\n",
       "</div>"
      ],
      "text/plain": [
       "     pleasant  interesting  exciting  calming  complex  bright  view  spacious\n",
       "min       0.0          0.0       0.0      0.0      0.0     0.0   0.0       0.0\n",
       "max      10.0         10.0      10.0     10.0     10.0    10.0  10.0      10.0"
      ]
     },
     "execution_count": 25,
     "metadata": {},
     "output_type": "execute_result"
    }
   ],
   "source": [
    "df_ml[['pleasant', 'interesting', 'exciting', 'calming', 'complex', 'bright',\n",
    "       'view', 'spacious']].describe().loc[['min','max']]\n"
   ]
  },
  {
   "cell_type": "code",
   "execution_count": null,
   "metadata": {},
   "outputs": [],
   "source": []
  },
  {
   "cell_type": "markdown",
   "metadata": {},
   "source": [
    "Finally, from this data frame is easy to get X and the labels desired (y) separately. So we get the data frame which contains the matrix of features X and, separately,the labels corresponding to 'exciting' and 'calming' (we were asked to analize this labels firstly):"
   ]
  },
  {
   "cell_type": "code",
   "execution_count": 26,
   "metadata": {
    "scrolled": true
   },
   "outputs": [
    {
     "data": {
      "text/html": [
       "<div>\n",
       "<style scoped>\n",
       "    .dataframe tbody tr th:only-of-type {\n",
       "        vertical-align: middle;\n",
       "    }\n",
       "\n",
       "    .dataframe tbody tr th {\n",
       "        vertical-align: top;\n",
       "    }\n",
       "\n",
       "    .dataframe thead th {\n",
       "        text-align: right;\n",
       "    }\n",
       "</style>\n",
       "<table border=\"1\" class=\"dataframe\">\n",
       "  <thead>\n",
       "    <tr style=\"text-align: right;\">\n",
       "      <th></th>\n",
       "      <th>ID</th>\n",
       "      <th>Country</th>\n",
       "      <th>Gender</th>\n",
       "      <th>Pattern</th>\n",
       "      <th>Context</th>\n",
       "      <th>SkyType</th>\n",
       "      <th>contrast_mean_mSC5</th>\n",
       "      <th>contrast_max_mSC5</th>\n",
       "      <th>contrast_mean_Michelson</th>\n",
       "      <th>contrast_mean_Michelson_cube123</th>\n",
       "      <th>contrast_mean_Michelson_cube3</th>\n",
       "      <th>contrast_mean_RMS</th>\n",
       "      <th>contrast_mean_RMS_cube123</th>\n",
       "      <th>contrast_mean_RMS_cube3</th>\n",
       "      <th>complexity_mean_JPEGtoBMP</th>\n",
       "      <th>complexity_cube3_JPEGtoBMP</th>\n",
       "    </tr>\n",
       "  </thead>\n",
       "  <tbody>\n",
       "    <tr>\n",
       "      <th>0</th>\n",
       "      <td>11</td>\n",
       "      <td>Greece</td>\n",
       "      <td>Male</td>\n",
       "      <td>P1EL</td>\n",
       "      <td>social</td>\n",
       "      <td>clearhigh</td>\n",
       "      <td>5.023496</td>\n",
       "      <td>82</td>\n",
       "      <td>0.881714</td>\n",
       "      <td>0.822095</td>\n",
       "      <td>0.696552</td>\n",
       "      <td>104.887032</td>\n",
       "      <td>116.926766</td>\n",
       "      <td>138.288359</td>\n",
       "      <td>0.101518</td>\n",
       "      <td>0.158865</td>\n",
       "    </tr>\n",
       "    <tr>\n",
       "      <th>1</th>\n",
       "      <td>17</td>\n",
       "      <td>Greece</td>\n",
       "      <td>Male</td>\n",
       "      <td>P1EL</td>\n",
       "      <td>social</td>\n",
       "      <td>clearhigh</td>\n",
       "      <td>5.023496</td>\n",
       "      <td>82</td>\n",
       "      <td>0.881714</td>\n",
       "      <td>0.822095</td>\n",
       "      <td>0.696552</td>\n",
       "      <td>104.887032</td>\n",
       "      <td>116.926766</td>\n",
       "      <td>138.288359</td>\n",
       "      <td>0.101518</td>\n",
       "      <td>0.158865</td>\n",
       "    </tr>\n",
       "    <tr>\n",
       "      <th>2</th>\n",
       "      <td>29</td>\n",
       "      <td>Greece</td>\n",
       "      <td>Male</td>\n",
       "      <td>P1EL</td>\n",
       "      <td>social</td>\n",
       "      <td>clearhigh</td>\n",
       "      <td>5.023496</td>\n",
       "      <td>82</td>\n",
       "      <td>0.881714</td>\n",
       "      <td>0.822095</td>\n",
       "      <td>0.696552</td>\n",
       "      <td>104.887032</td>\n",
       "      <td>116.926766</td>\n",
       "      <td>138.288359</td>\n",
       "      <td>0.101518</td>\n",
       "      <td>0.158865</td>\n",
       "    </tr>\n",
       "    <tr>\n",
       "      <th>3</th>\n",
       "      <td>45</td>\n",
       "      <td>Greece</td>\n",
       "      <td>Male</td>\n",
       "      <td>P1EL</td>\n",
       "      <td>social</td>\n",
       "      <td>clearhigh</td>\n",
       "      <td>5.023496</td>\n",
       "      <td>82</td>\n",
       "      <td>0.881714</td>\n",
       "      <td>0.822095</td>\n",
       "      <td>0.696552</td>\n",
       "      <td>104.887032</td>\n",
       "      <td>116.926766</td>\n",
       "      <td>138.288359</td>\n",
       "      <td>0.101518</td>\n",
       "      <td>0.158865</td>\n",
       "    </tr>\n",
       "    <tr>\n",
       "      <th>4</th>\n",
       "      <td>46</td>\n",
       "      <td>Greece</td>\n",
       "      <td>Female</td>\n",
       "      <td>P1EL</td>\n",
       "      <td>social</td>\n",
       "      <td>clearhigh</td>\n",
       "      <td>5.023496</td>\n",
       "      <td>82</td>\n",
       "      <td>0.881714</td>\n",
       "      <td>0.822095</td>\n",
       "      <td>0.696552</td>\n",
       "      <td>104.887032</td>\n",
       "      <td>116.926766</td>\n",
       "      <td>138.288359</td>\n",
       "      <td>0.101518</td>\n",
       "      <td>0.158865</td>\n",
       "    </tr>\n",
       "  </tbody>\n",
       "</table>\n",
       "</div>"
      ],
      "text/plain": [
       "   ID Country  Gender Pattern Context    SkyType  contrast_mean_mSC5  \\\n",
       "0  11  Greece    Male    P1EL  social  clearhigh            5.023496   \n",
       "1  17  Greece    Male    P1EL  social  clearhigh            5.023496   \n",
       "2  29  Greece    Male    P1EL  social  clearhigh            5.023496   \n",
       "3  45  Greece    Male    P1EL  social  clearhigh            5.023496   \n",
       "4  46  Greece  Female    P1EL  social  clearhigh            5.023496   \n",
       "\n",
       "   contrast_max_mSC5  contrast_mean_Michelson  \\\n",
       "0                 82                 0.881714   \n",
       "1                 82                 0.881714   \n",
       "2                 82                 0.881714   \n",
       "3                 82                 0.881714   \n",
       "4                 82                 0.881714   \n",
       "\n",
       "   contrast_mean_Michelson_cube123  contrast_mean_Michelson_cube3  \\\n",
       "0                         0.822095                       0.696552   \n",
       "1                         0.822095                       0.696552   \n",
       "2                         0.822095                       0.696552   \n",
       "3                         0.822095                       0.696552   \n",
       "4                         0.822095                       0.696552   \n",
       "\n",
       "   contrast_mean_RMS  contrast_mean_RMS_cube123  contrast_mean_RMS_cube3  \\\n",
       "0         104.887032                 116.926766               138.288359   \n",
       "1         104.887032                 116.926766               138.288359   \n",
       "2         104.887032                 116.926766               138.288359   \n",
       "3         104.887032                 116.926766               138.288359   \n",
       "4         104.887032                 116.926766               138.288359   \n",
       "\n",
       "   complexity_mean_JPEGtoBMP  complexity_cube3_JPEGtoBMP  \n",
       "0                   0.101518                    0.158865  \n",
       "1                   0.101518                    0.158865  \n",
       "2                   0.101518                    0.158865  \n",
       "3                   0.101518                    0.158865  \n",
       "4                   0.101518                    0.158865  "
      ]
     },
     "execution_count": 26,
     "metadata": {},
     "output_type": "execute_result"
    }
   ],
   "source": [
    "x_fdata = df_ml.iloc[:,0:16] #fdata -> first data without preprocessing\n",
    "x_fdata.head(5)"
   ]
  },
  {
   "cell_type": "code",
   "execution_count": 27,
   "metadata": {
    "scrolled": true
   },
   "outputs": [
    {
     "data": {
      "text/html": [
       "<div>\n",
       "<style scoped>\n",
       "    .dataframe tbody tr th:only-of-type {\n",
       "        vertical-align: middle;\n",
       "    }\n",
       "\n",
       "    .dataframe tbody tr th {\n",
       "        vertical-align: top;\n",
       "    }\n",
       "\n",
       "    .dataframe thead th {\n",
       "        text-align: right;\n",
       "    }\n",
       "</style>\n",
       "<table border=\"1\" class=\"dataframe\">\n",
       "  <thead>\n",
       "    <tr style=\"text-align: right;\">\n",
       "      <th></th>\n",
       "      <th>exciting</th>\n",
       "    </tr>\n",
       "  </thead>\n",
       "  <tbody>\n",
       "    <tr>\n",
       "      <th>0</th>\n",
       "      <td>5</td>\n",
       "    </tr>\n",
       "    <tr>\n",
       "      <th>1</th>\n",
       "      <td>4</td>\n",
       "    </tr>\n",
       "    <tr>\n",
       "      <th>2</th>\n",
       "      <td>4</td>\n",
       "    </tr>\n",
       "    <tr>\n",
       "      <th>3</th>\n",
       "      <td>5</td>\n",
       "    </tr>\n",
       "    <tr>\n",
       "      <th>4</th>\n",
       "      <td>5</td>\n",
       "    </tr>\n",
       "  </tbody>\n",
       "</table>\n",
       "</div>"
      ],
      "text/plain": [
       "   exciting\n",
       "0         5\n",
       "1         4\n",
       "2         4\n",
       "3         5\n",
       "4         5"
      ]
     },
     "execution_count": 27,
     "metadata": {},
     "output_type": "execute_result"
    }
   ],
   "source": [
    "y_data = df_ml[\"exciting\"]\n",
    "y_data.to_frame().head() #Note that y_data is a Pandas serie"
   ]
  },
  {
   "cell_type": "markdown",
   "metadata": {},
   "source": [
    "### Preprocesing Phase\n",
    "\n",
    "From the dataframe we can see that there are 5 catgorical features:\n",
    "1. __*Country*__ \n",
    "2. __*Gender*__ \n",
    "3. __*Pattern*__ \n",
    "4. __*Context*__ \n",
    "5. __*SkyType*__ "
   ]
  },
  {
   "cell_type": "markdown",
   "metadata": {},
   "source": [
    "We can confirm this by checking the type of data for each feature:"
   ]
  },
  {
   "cell_type": "code",
   "execution_count": 28,
   "metadata": {},
   "outputs": [
    {
     "data": {
      "text/plain": [
       "ID                                   int64\n",
       "Country                             object\n",
       "Gender                              object\n",
       "Pattern                             object\n",
       "Context                             object\n",
       "SkyType                             object\n",
       "contrast_mean_mSC5                 float64\n",
       "contrast_max_mSC5                    int64\n",
       "contrast_mean_Michelson            float64\n",
       "contrast_mean_Michelson_cube123    float64\n",
       "contrast_mean_Michelson_cube3      float64\n",
       "contrast_mean_RMS                  float64\n",
       "contrast_mean_RMS_cube123          float64\n",
       "contrast_mean_RMS_cube3            float64\n",
       "complexity_mean_JPEGtoBMP          float64\n",
       "complexity_cube3_JPEGtoBMP         float64\n",
       "dtype: object"
      ]
     },
     "execution_count": 28,
     "metadata": {},
     "output_type": "execute_result"
    }
   ],
   "source": [
    "x_fdata.dtypes"
   ]
  },
  {
   "cell_type": "markdown",
   "metadata": {},
   "source": [
    "As we can see the five features mentionned above are the only categorical features (type object).\n",
    "\n",
    "Let's inspect these features closely:"
   ]
  },
  {
   "cell_type": "code",
   "execution_count": 29,
   "metadata": {},
   "outputs": [
    {
     "name": "stdout",
     "output_type": "stream",
     "text": [
      "Country:\n",
      "Greece         828\n",
      "Switzerland    762\n",
      "Name: Country, dtype: int64\n",
      "Gender:\n",
      "Male      816\n",
      "Female    774\n",
      "Name: Gender, dtype: int64\n",
      "Pattern:\n",
      "P4EL    265\n",
      "P5EL    265\n",
      "P1EL    265\n",
      "P3EL    265\n",
      "P2EL    265\n",
      "P6EL    265\n",
      "Name: Pattern, dtype: int64\n",
      "Context:\n",
      "social    798\n",
      "work      792\n",
      "Name: Context, dtype: int64\n",
      "SkyType:\n",
      "clearlow     552\n",
      "clearhigh    522\n",
      "overcast     516\n",
      "Name: SkyType, dtype: int64\n"
     ]
    }
   ],
   "source": [
    "categorical_features = ['Country','Gender','Pattern','Context', \\\n",
    "                        'SkyType']\n",
    "for feat in categorical_features:\n",
    "    print(feat + ':')\n",
    "    print(x_fdata[feat].value_counts())"
   ]
  },
  {
   "cell_type": "markdown",
   "metadata": {},
   "source": [
    "In order to perform dummy variable encoding on the categorical features, we can use the pandas method `pd.get_dummies()`. Also since we need k-1 dummy variables to represent k categories, we can drop the first column for each encoding (`drop_first = True`). We'll store this as a new dataframe `dummy_df`."
   ]
  },
  {
   "cell_type": "code",
   "execution_count": 30,
   "metadata": {
    "scrolled": false
   },
   "outputs": [
    {
     "data": {
      "text/html": [
       "<div>\n",
       "<style scoped>\n",
       "    .dataframe tbody tr th:only-of-type {\n",
       "        vertical-align: middle;\n",
       "    }\n",
       "\n",
       "    .dataframe tbody tr th {\n",
       "        vertical-align: top;\n",
       "    }\n",
       "\n",
       "    .dataframe thead th {\n",
       "        text-align: right;\n",
       "    }\n",
       "</style>\n",
       "<table border=\"1\" class=\"dataframe\">\n",
       "  <thead>\n",
       "    <tr style=\"text-align: right;\">\n",
       "      <th></th>\n",
       "      <th>ID</th>\n",
       "      <th>contrast_mean_mSC5</th>\n",
       "      <th>contrast_max_mSC5</th>\n",
       "      <th>contrast_mean_Michelson</th>\n",
       "      <th>contrast_mean_Michelson_cube123</th>\n",
       "      <th>contrast_mean_Michelson_cube3</th>\n",
       "      <th>contrast_mean_RMS</th>\n",
       "      <th>contrast_mean_RMS_cube123</th>\n",
       "      <th>contrast_mean_RMS_cube3</th>\n",
       "      <th>complexity_mean_JPEGtoBMP</th>\n",
       "      <th>...</th>\n",
       "      <th>Pattern_P2EL</th>\n",
       "      <th>Pattern_P3EL</th>\n",
       "      <th>Pattern_P4EL</th>\n",
       "      <th>Pattern_P5EL</th>\n",
       "      <th>Pattern_P6EL</th>\n",
       "      <th>Context_social</th>\n",
       "      <th>Context_work</th>\n",
       "      <th>SkyType_clearhigh</th>\n",
       "      <th>SkyType_clearlow</th>\n",
       "      <th>SkyType_overcast</th>\n",
       "    </tr>\n",
       "  </thead>\n",
       "  <tbody>\n",
       "    <tr>\n",
       "      <th>0</th>\n",
       "      <td>11</td>\n",
       "      <td>5.023496</td>\n",
       "      <td>82</td>\n",
       "      <td>0.881714</td>\n",
       "      <td>0.822095</td>\n",
       "      <td>0.696552</td>\n",
       "      <td>104.887032</td>\n",
       "      <td>116.926766</td>\n",
       "      <td>138.288359</td>\n",
       "      <td>0.101518</td>\n",
       "      <td>...</td>\n",
       "      <td>0</td>\n",
       "      <td>0</td>\n",
       "      <td>0</td>\n",
       "      <td>0</td>\n",
       "      <td>0</td>\n",
       "      <td>1</td>\n",
       "      <td>0</td>\n",
       "      <td>1</td>\n",
       "      <td>0</td>\n",
       "      <td>0</td>\n",
       "    </tr>\n",
       "    <tr>\n",
       "      <th>1</th>\n",
       "      <td>17</td>\n",
       "      <td>5.023496</td>\n",
       "      <td>82</td>\n",
       "      <td>0.881714</td>\n",
       "      <td>0.822095</td>\n",
       "      <td>0.696552</td>\n",
       "      <td>104.887032</td>\n",
       "      <td>116.926766</td>\n",
       "      <td>138.288359</td>\n",
       "      <td>0.101518</td>\n",
       "      <td>...</td>\n",
       "      <td>0</td>\n",
       "      <td>0</td>\n",
       "      <td>0</td>\n",
       "      <td>0</td>\n",
       "      <td>0</td>\n",
       "      <td>1</td>\n",
       "      <td>0</td>\n",
       "      <td>1</td>\n",
       "      <td>0</td>\n",
       "      <td>0</td>\n",
       "    </tr>\n",
       "    <tr>\n",
       "      <th>2</th>\n",
       "      <td>29</td>\n",
       "      <td>5.023496</td>\n",
       "      <td>82</td>\n",
       "      <td>0.881714</td>\n",
       "      <td>0.822095</td>\n",
       "      <td>0.696552</td>\n",
       "      <td>104.887032</td>\n",
       "      <td>116.926766</td>\n",
       "      <td>138.288359</td>\n",
       "      <td>0.101518</td>\n",
       "      <td>...</td>\n",
       "      <td>0</td>\n",
       "      <td>0</td>\n",
       "      <td>0</td>\n",
       "      <td>0</td>\n",
       "      <td>0</td>\n",
       "      <td>1</td>\n",
       "      <td>0</td>\n",
       "      <td>1</td>\n",
       "      <td>0</td>\n",
       "      <td>0</td>\n",
       "    </tr>\n",
       "  </tbody>\n",
       "</table>\n",
       "<p>3 rows × 26 columns</p>\n",
       "</div>"
      ],
      "text/plain": [
       "   ID  contrast_mean_mSC5  contrast_max_mSC5  contrast_mean_Michelson  \\\n",
       "0  11            5.023496                 82                 0.881714   \n",
       "1  17            5.023496                 82                 0.881714   \n",
       "2  29            5.023496                 82                 0.881714   \n",
       "\n",
       "   contrast_mean_Michelson_cube123  contrast_mean_Michelson_cube3  \\\n",
       "0                         0.822095                       0.696552   \n",
       "1                         0.822095                       0.696552   \n",
       "2                         0.822095                       0.696552   \n",
       "\n",
       "   contrast_mean_RMS  contrast_mean_RMS_cube123  contrast_mean_RMS_cube3  \\\n",
       "0         104.887032                 116.926766               138.288359   \n",
       "1         104.887032                 116.926766               138.288359   \n",
       "2         104.887032                 116.926766               138.288359   \n",
       "\n",
       "   complexity_mean_JPEGtoBMP        ...         Pattern_P2EL  Pattern_P3EL  \\\n",
       "0                   0.101518        ...                    0             0   \n",
       "1                   0.101518        ...                    0             0   \n",
       "2                   0.101518        ...                    0             0   \n",
       "\n",
       "   Pattern_P4EL  Pattern_P5EL  Pattern_P6EL  Context_social  Context_work  \\\n",
       "0             0             0             0               1             0   \n",
       "1             0             0             0               1             0   \n",
       "2             0             0             0               1             0   \n",
       "\n",
       "   SkyType_clearhigh  SkyType_clearlow  SkyType_overcast  \n",
       "0                  1                 0                 0  \n",
       "1                  1                 0                 0  \n",
       "2                  1                 0                 0  \n",
       "\n",
       "[3 rows x 26 columns]"
      ]
     },
     "execution_count": 30,
     "metadata": {},
     "output_type": "execute_result"
    }
   ],
   "source": [
    "dummy_df = pd.get_dummies(x_fdata, columns=categorical_features, drop_first=False)\n",
    "dummy_df.head(3)"
   ]
  },
  {
   "cell_type": "markdown",
   "metadata": {},
   "source": [
    "We standardize the features in preparation for the training (output excluded, \"exciting\" column)."
   ]
  },
  {
   "cell_type": "code",
   "execution_count": 31,
   "metadata": {},
   "outputs": [],
   "source": [
    "x_without_std = dummy_df.copy() #x_without_std is the final standardized data (Just in case you want to use it)\n",
    "for feat in dummy_df.columns.tolist():\n",
    "    mean = dummy_df[feat].mean()\n",
    "    std = dummy_df[feat].std()\n",
    "    dummy_df[feat] = (dummy_df[feat] - mean)/std"
   ]
  },
  {
   "cell_type": "code",
   "execution_count": 32,
   "metadata": {},
   "outputs": [],
   "source": [
    "x_data = dummy_df #x_data will be the final standardized data"
   ]
  },
  {
   "cell_type": "code",
   "execution_count": 40,
   "metadata": {},
   "outputs": [
    {
     "name": "stdout",
     "output_type": "stream",
     "text": [
      "True\n"
     ]
    }
   ],
   "source": [
    "print(train_df.shape[0] + test_df.shape[0] == dummy_df.shape[0])"
   ]
  },
  {
   "cell_type": "markdown",
   "metadata": {},
   "source": [
    "Double check the mean of the features"
   ]
  },
  {
   "cell_type": "code",
   "execution_count": 41,
   "metadata": {
    "scrolled": true
   },
   "outputs": [],
   "source": [
    "#dummy_df.mean()"
   ]
  },
  {
   "cell_type": "markdown",
   "metadata": {},
   "source": [
    "The means aren't exactly 0 but they are small enough for us to approximate them to 0."
   ]
  },
  {
   "cell_type": "markdown",
   "metadata": {},
   "source": [
    "Now for the standart deviation"
   ]
  },
  {
   "cell_type": "code",
   "execution_count": 42,
   "metadata": {
    "scrolled": true
   },
   "outputs": [],
   "source": [
    "#dummy_df.std()"
   ]
  },
  {
   "cell_type": "markdown",
   "metadata": {},
   "source": [
    "Hence our standardized features and our labels are ready to go."
   ]
  },
  {
   "cell_type": "code",
   "execution_count": 43,
   "metadata": {},
   "outputs": [],
   "source": [
    "x_train = train_df.iloc[1:-1]\n",
    "y_train = train_df.iloc[0:1]\n",
    "x_test = train_df.iloc[1:-1]\n",
    "y_test = train_df.iloc[0:1]\n",
    "#x_data and y_data are the preprocessed data without splitting. Maybe we can use them considering that we have very few data"
   ]
  },
  {
   "cell_type": "markdown",
   "metadata": {},
   "source": [
    "## Exploring different approachs"
   ]
  },
  {
   "cell_type": "markdown",
   "metadata": {},
   "source": [
    "Having done that, we can start trying differents methods for obtaining predictions about the excitation/calm of a person who do the experiment."
   ]
  },
  {
   "cell_type": "code",
   "execution_count": null,
   "metadata": {},
   "outputs": [],
   "source": []
  },
  {
   "cell_type": "code",
   "execution_count": null,
   "metadata": {},
   "outputs": [],
   "source": []
  },
  {
   "cell_type": "code",
   "execution_count": null,
   "metadata": {},
   "outputs": [],
   "source": []
  },
  {
   "cell_type": "code",
   "execution_count": null,
   "metadata": {},
   "outputs": [],
   "source": []
  },
  {
   "cell_type": "code",
   "execution_count": null,
   "metadata": {},
   "outputs": [],
   "source": []
  },
  {
   "cell_type": "markdown",
   "metadata": {},
   "source": [
    "## Linear Regression "
   ]
  },
  {
   "cell_type": "code",
   "execution_count": 44,
   "metadata": {},
   "outputs": [],
   "source": [
    "from sklearn import linear_model"
   ]
  },
  {
   "cell_type": "code",
   "execution_count": 45,
   "metadata": {},
   "outputs": [
    {
     "data": {
      "text/plain": [
       "LinearRegression(copy_X=True, fit_intercept=True, n_jobs=1, normalize=False)"
      ]
     },
     "execution_count": 45,
     "metadata": {},
     "output_type": "execute_result"
    }
   ],
   "source": [
    "reg = LinearRegression()\n",
    "reg.fit(x_data, y_data)"
   ]
  },
  {
   "cell_type": "code",
   "execution_count": 46,
   "metadata": {},
   "outputs": [
    {
     "data": {
      "text/plain": [
       "array([-1.33566385e+00, -1.31710750e-01, -4.45189379e-01,  2.26656311e+00,\n",
       "       -5.97572882e-01, -7.19254313e-01,  2.59919412e+00, -3.13967966e+00,\n",
       "        6.45478601e-01, -3.87560728e-01, -1.42693979e-01,  4.17839251e+11,\n",
       "        4.17839251e+11, -6.77069244e+11, -6.77069244e+11, -2.56183960e+12,\n",
       "       -2.56183960e+12, -2.56183960e+12, -2.56183960e+12, -2.56183960e+12,\n",
       "       -2.56183960e+12,  2.20233014e+10,  2.20233014e+10, -8.03610470e+12,\n",
       "       -8.14691011e+12, -8.01219850e+12])"
      ]
     },
     "execution_count": 46,
     "metadata": {},
     "output_type": "execute_result"
    }
   ],
   "source": [
    "reg.coef_"
   ]
  },
  {
   "cell_type": "code",
   "execution_count": 47,
   "metadata": {},
   "outputs": [
    {
     "data": {
      "text/plain": [
       "0.11591543627538692"
      ]
     },
     "execution_count": 47,
     "metadata": {},
     "output_type": "execute_result"
    }
   ],
   "source": [
    "reg.score(x_data, y_data)"
   ]
  },
  {
   "cell_type": "markdown",
   "metadata": {},
   "source": [
    "according to the docs score is close to 0 when the model predicts a constant close to the expected value.\n",
    "\n",
    "Lets also calculate accuracy since our problem can also be seen as classification"
   ]
  },
  {
   "cell_type": "code",
   "execution_count": 48,
   "metadata": {},
   "outputs": [
    {
     "name": "stdout",
     "output_type": "stream",
     "text": [
      "0.19056603773584907\n"
     ]
    }
   ],
   "source": [
    "def compute_accuracy(model, x_data, y_true):\n",
    "    \n",
    "    # predict and round to closest digit\n",
    "    preds = model.predict(x_data)\n",
    "    preds = np.rint(preds)\n",
    "    # round less than 0 and more than 10 to themselves\n",
    "    preds[preds<0] = 0\n",
    "    preds[preds>10] = 10\n",
    "    \n",
    "    accurate = len(preds[preds == y_true])\n",
    "    return accurate/len(preds)\n",
    "\n",
    "print(compute_accuracy(reg, x_data, y_data))"
   ]
  },
  {
   "cell_type": "markdown",
   "metadata": {},
   "source": [
    "This is a very low accuracy. Let's try polynomial features as well."
   ]
  },
  {
   "cell_type": "code",
   "execution_count": 49,
   "metadata": {},
   "outputs": [],
   "source": [
    "from sklearn.preprocessing import PolynomialFeatures\n"
   ]
  },
  {
   "cell_type": "code",
   "execution_count": 50,
   "metadata": {},
   "outputs": [
    {
     "name": "stdout",
     "output_type": "stream",
     "text": [
      "for degree=1\n",
      "accuracy = 0.191824\n",
      "score = 0.115963 \n",
      "\n",
      "for degree=2\n",
      "accuracy = 0.185535\n",
      "score = 0.099584 \n",
      "\n",
      "for degree=3\n",
      "accuracy = 0.186792\n",
      "score = 0.136928 \n",
      "\n",
      "for degree=4\n",
      "accuracy = 0.177358\n",
      "score = 0.133283 \n",
      "\n"
     ]
    }
   ],
   "source": [
    "for i in range(1,5):\n",
    "    poly = PolynomialFeatures(degree=i)\n",
    "    poly_x = poly.fit_transform(x_data)\n",
    "\n",
    "    reg = LinearRegression()\n",
    "    reg.fit(poly_x, y_data)\n",
    "    \n",
    "    print(\"for degree=%d\"%i)\n",
    "\n",
    "    accr = compute_accuracy(reg, poly_x, y_data)\n",
    "    print(\"accuracy = %f\"%(accr))\n",
    "    \n",
    "    print(\"score = %f \\n\" %(reg.score(poly_x, y_data)) )\n"
   ]
  },
  {
   "cell_type": "markdown",
   "metadata": {},
   "source": [
    "as we can see the accuracy is not satesfactory "
   ]
  },
  {
   "cell_type": "markdown",
   "metadata": {},
   "source": [
    "## Matrix Factorization and recommender systems"
   ]
  },
  {
   "cell_type": "markdown",
   "metadata": {},
   "source": [
    "First let's make the ratings matrix ratings. in this matrix each row represents a person and each coluimn a type of room. The cells are filled with the value of exciting (the rating people gave the room)."
   ]
  },
  {
   "cell_type": "markdown",
   "metadata": {},
   "source": [
    "We go back and use our raw data frame to include the ID column as well.\n",
    "In this way ID and Country combined give us a uniqe index for each person."
   ]
  },
  {
   "cell_type": "code",
   "execution_count": 33,
   "metadata": {
    "scrolled": true
   },
   "outputs": [],
   "source": [
    "df_people = df_ml_raw[['ID', 'Country', 'Pattern', 'Context', 'SkyType', 'exciting']]"
   ]
  },
  {
   "cell_type": "code",
   "execution_count": 36,
   "metadata": {},
   "outputs": [
    {
     "data": {
      "text/html": [
       "<div>\n",
       "<style scoped>\n",
       "    .dataframe tbody tr th:only-of-type {\n",
       "        vertical-align: middle;\n",
       "    }\n",
       "\n",
       "    .dataframe tbody tr th {\n",
       "        vertical-align: top;\n",
       "    }\n",
       "\n",
       "    .dataframe thead th {\n",
       "        text-align: right;\n",
       "    }\n",
       "</style>\n",
       "<table border=\"1\" class=\"dataframe\">\n",
       "  <thead>\n",
       "    <tr style=\"text-align: right;\">\n",
       "      <th></th>\n",
       "      <th>ID</th>\n",
       "      <th>Country</th>\n",
       "      <th>Pattern</th>\n",
       "      <th>Context</th>\n",
       "      <th>SkyType</th>\n",
       "      <th>exciting</th>\n",
       "    </tr>\n",
       "  </thead>\n",
       "  <tbody>\n",
       "    <tr>\n",
       "      <th>179</th>\n",
       "      <td>3</td>\n",
       "      <td>Greece</td>\n",
       "      <td>P1EL</td>\n",
       "      <td>work</td>\n",
       "      <td>clearlow</td>\n",
       "      <td>4</td>\n",
       "    </tr>\n",
       "    <tr>\n",
       "      <th>202</th>\n",
       "      <td>3</td>\n",
       "      <td>Switzerland</td>\n",
       "      <td>P1EL</td>\n",
       "      <td>work</td>\n",
       "      <td>clearlow</td>\n",
       "      <td>5</td>\n",
       "    </tr>\n",
       "    <tr>\n",
       "      <th>444</th>\n",
       "      <td>3</td>\n",
       "      <td>Greece</td>\n",
       "      <td>P2EL</td>\n",
       "      <td>work</td>\n",
       "      <td>clearlow</td>\n",
       "      <td>0</td>\n",
       "    </tr>\n",
       "    <tr>\n",
       "      <th>467</th>\n",
       "      <td>3</td>\n",
       "      <td>Switzerland</td>\n",
       "      <td>P2EL</td>\n",
       "      <td>work</td>\n",
       "      <td>clearlow</td>\n",
       "      <td>6</td>\n",
       "    </tr>\n",
       "    <tr>\n",
       "      <th>709</th>\n",
       "      <td>3</td>\n",
       "      <td>Greece</td>\n",
       "      <td>P3EL</td>\n",
       "      <td>work</td>\n",
       "      <td>clearlow</td>\n",
       "      <td>6</td>\n",
       "    </tr>\n",
       "    <tr>\n",
       "      <th>732</th>\n",
       "      <td>3</td>\n",
       "      <td>Switzerland</td>\n",
       "      <td>P3EL</td>\n",
       "      <td>work</td>\n",
       "      <td>clearlow</td>\n",
       "      <td>7</td>\n",
       "    </tr>\n",
       "    <tr>\n",
       "      <th>974</th>\n",
       "      <td>3</td>\n",
       "      <td>Greece</td>\n",
       "      <td>P4EL</td>\n",
       "      <td>work</td>\n",
       "      <td>clearlow</td>\n",
       "      <td>2</td>\n",
       "    </tr>\n",
       "    <tr>\n",
       "      <th>997</th>\n",
       "      <td>3</td>\n",
       "      <td>Switzerland</td>\n",
       "      <td>P4EL</td>\n",
       "      <td>work</td>\n",
       "      <td>clearlow</td>\n",
       "      <td>6</td>\n",
       "    </tr>\n",
       "    <tr>\n",
       "      <th>1239</th>\n",
       "      <td>3</td>\n",
       "      <td>Greece</td>\n",
       "      <td>P5EL</td>\n",
       "      <td>work</td>\n",
       "      <td>clearlow</td>\n",
       "      <td>6</td>\n",
       "    </tr>\n",
       "    <tr>\n",
       "      <th>1262</th>\n",
       "      <td>3</td>\n",
       "      <td>Switzerland</td>\n",
       "      <td>P5EL</td>\n",
       "      <td>work</td>\n",
       "      <td>clearlow</td>\n",
       "      <td>8</td>\n",
       "    </tr>\n",
       "    <tr>\n",
       "      <th>1504</th>\n",
       "      <td>3</td>\n",
       "      <td>Greece</td>\n",
       "      <td>P6EL</td>\n",
       "      <td>work</td>\n",
       "      <td>clearlow</td>\n",
       "      <td>4</td>\n",
       "    </tr>\n",
       "    <tr>\n",
       "      <th>1527</th>\n",
       "      <td>3</td>\n",
       "      <td>Switzerland</td>\n",
       "      <td>P6EL</td>\n",
       "      <td>work</td>\n",
       "      <td>clearlow</td>\n",
       "      <td>8</td>\n",
       "    </tr>\n",
       "  </tbody>\n",
       "</table>\n",
       "</div>"
      ],
      "text/plain": [
       "      ID      Country Pattern Context   SkyType  exciting\n",
       "179    3       Greece    P1EL    work  clearlow         4\n",
       "202    3  Switzerland    P1EL    work  clearlow         5\n",
       "444    3       Greece    P2EL    work  clearlow         0\n",
       "467    3  Switzerland    P2EL    work  clearlow         6\n",
       "709    3       Greece    P3EL    work  clearlow         6\n",
       "732    3  Switzerland    P3EL    work  clearlow         7\n",
       "974    3       Greece    P4EL    work  clearlow         2\n",
       "997    3  Switzerland    P4EL    work  clearlow         6\n",
       "1239   3       Greece    P5EL    work  clearlow         6\n",
       "1262   3  Switzerland    P5EL    work  clearlow         8\n",
       "1504   3       Greece    P6EL    work  clearlow         4\n",
       "1527   3  Switzerland    P6EL    work  clearlow         8"
      ]
     },
     "execution_count": 36,
     "metadata": {},
     "output_type": "execute_result"
    }
   ],
   "source": [
    "df_people[df_people['ID']==3]"
   ]
  },
  {
   "cell_type": "markdown",
   "metadata": {},
   "source": [
    "Now we make a pivot table out of the data. each row identified by 'ID' and 'Country' and each columnn identified by the room specifications ('Pattern', 'Context', 'SkyType'). "
   ]
  },
  {
   "cell_type": "code",
   "execution_count": 3,
   "metadata": {},
   "outputs": [],
   "source": [
    "#df_pivot_table = pd.pivot_table(df_people, values='exciting', index=['ID', 'Country'], columns=['Pattern', 'Context', 'SkyType'], aggfunc=np.mean)"
   ]
  },
  {
   "cell_type": "code",
   "execution_count": 2,
   "metadata": {},
   "outputs": [],
   "source": [
    "#df_pivot_table.sample(4)"
   ]
  },
  {
   "cell_type": "markdown",
   "metadata": {},
   "source": [
    "We are going to use the surprise library for recommender systems.\n",
    "\n",
    "(can be downloaded from here: https://surprise.readthedocs.io/en/stable/index.html)"
   ]
  },
  {
   "cell_type": "code",
   "execution_count": 1,
   "metadata": {},
   "outputs": [],
   "source": [
    "from surprise import NormalPredictor\n",
    "from surprise import Dataset\n",
    "from surprise import Reader\n",
    "from surprise.model_selection import cross_validate\n",
    "from surprise import NMF"
   ]
  },
  {
   "cell_type": "markdown",
   "metadata": {},
   "source": [
    "To load data into the format of he library:\n",
    "The columns of the data frame must correspond to user id, item id and ratings (in that order). \n",
    "\n",
    "First we concatenate the ID and Country to get the final uniqe ID of each person."
   ]
  },
  {
   "cell_type": "code",
   "execution_count": 57,
   "metadata": {},
   "outputs": [],
   "source": [
    "# cast the integer ID columnn to string as well\n",
    "people_ID = df_people['ID'].astype(str).str.cat(df_people['Country'], sep='_')\n",
    "\n",
    "#people_ID[people_ID == '11_Greece']\n",
    "\n"
   ]
  },
  {
   "cell_type": "markdown",
   "metadata": {},
   "source": [
    "We also concatenate pattern, context and skytype to get the IDs for rooms"
   ]
  },
  {
   "cell_type": "code",
   "execution_count": 58,
   "metadata": {
    "scrolled": true
   },
   "outputs": [],
   "source": [
    "room_ID = df_people['Pattern'].str.cat(df_people['Context'], sep='_').str.cat(df_people['SkyType'], sep='_')\n",
    "\n",
    "#room_ID[room_ID=='P1EL_social_clearhigh']"
   ]
  },
  {
   "cell_type": "code",
   "execution_count": 59,
   "metadata": {
    "scrolled": true
   },
   "outputs": [],
   "source": [
    "final_df =pd.DataFrame(df_people.exciting)\n",
    "\n",
    "final_df['people_ID'] = people_ID\n",
    "final_df['room_ID'] = room_ID\n",
    "\n",
    "#The columns of the data frame must correspond to user id, item id and ratings (in that order). \n",
    "final_df = final_df[['people_ID', 'room_ID', 'exciting']]"
   ]
  },
  {
   "cell_type": "code",
   "execution_count": 60,
   "metadata": {},
   "outputs": [
    {
     "data": {
      "text/html": [
       "<div>\n",
       "<style scoped>\n",
       "    .dataframe tbody tr th:only-of-type {\n",
       "        vertical-align: middle;\n",
       "    }\n",
       "\n",
       "    .dataframe tbody tr th {\n",
       "        vertical-align: top;\n",
       "    }\n",
       "\n",
       "    .dataframe thead th {\n",
       "        text-align: right;\n",
       "    }\n",
       "</style>\n",
       "<table border=\"1\" class=\"dataframe\">\n",
       "  <thead>\n",
       "    <tr style=\"text-align: right;\">\n",
       "      <th></th>\n",
       "      <th>people_ID</th>\n",
       "      <th>room_ID</th>\n",
       "      <th>exciting</th>\n",
       "    </tr>\n",
       "  </thead>\n",
       "  <tbody>\n",
       "    <tr>\n",
       "      <th>0</th>\n",
       "      <td>11_Greece</td>\n",
       "      <td>P1EL_social_clearhigh</td>\n",
       "      <td>5</td>\n",
       "    </tr>\n",
       "    <tr>\n",
       "      <th>1</th>\n",
       "      <td>17_Greece</td>\n",
       "      <td>P1EL_social_clearhigh</td>\n",
       "      <td>4</td>\n",
       "    </tr>\n",
       "    <tr>\n",
       "      <th>2</th>\n",
       "      <td>29_Greece</td>\n",
       "      <td>P1EL_social_clearhigh</td>\n",
       "      <td>4</td>\n",
       "    </tr>\n",
       "    <tr>\n",
       "      <th>3</th>\n",
       "      <td>45_Greece</td>\n",
       "      <td>P1EL_social_clearhigh</td>\n",
       "      <td>5</td>\n",
       "    </tr>\n",
       "    <tr>\n",
       "      <th>4</th>\n",
       "      <td>46_Greece</td>\n",
       "      <td>P1EL_social_clearhigh</td>\n",
       "      <td>5</td>\n",
       "    </tr>\n",
       "  </tbody>\n",
       "</table>\n",
       "</div>"
      ],
      "text/plain": [
       "   people_ID                room_ID  exciting\n",
       "0  11_Greece  P1EL_social_clearhigh         5\n",
       "1  17_Greece  P1EL_social_clearhigh         4\n",
       "2  29_Greece  P1EL_social_clearhigh         4\n",
       "3  45_Greece  P1EL_social_clearhigh         5\n",
       "4  46_Greece  P1EL_social_clearhigh         5"
      ]
     },
     "execution_count": 60,
     "metadata": {},
     "output_type": "execute_result"
    }
   ],
   "source": [
    "final_df.head()"
   ]
  },
  {
   "cell_type": "markdown",
   "metadata": {},
   "source": [
    "Now we are ready to Use the library. \n",
    "First we tell the reader the scale of the rating.\n",
    "Then we load the data."
   ]
  },
  {
   "cell_type": "code",
   "execution_count": 62,
   "metadata": {},
   "outputs": [],
   "source": [
    "reader = Reader(rating_scale=(0, 10))\n",
    "\n",
    "surprise_data = Dataset.load_from_df(final_df, reader)"
   ]
  },
  {
   "cell_type": "markdown",
   "metadata": {},
   "source": [
    "Now we use the Non negative matrix factorization algorithm."
   ]
  },
  {
   "cell_type": "markdown",
   "metadata": {},
   "source": [
    "We can tune the parameters using the GridSearchCV."
   ]
  },
  {
   "cell_type": "code",
   "execution_count": 80,
   "metadata": {},
   "outputs": [
    {
     "name": "stdout",
     "output_type": "stream",
     "text": [
      "1.8748353949813452\n",
      "{'n_factors': 30, 'n_epochs': 50}\n"
     ]
    }
   ],
   "source": [
    "from surprise.model_selection import GridSearchCV\n",
    "\n",
    "param_grid = {'n_factors':[15, 20, 30, 40, 50], 'n_epochs': [50, 100]}\n",
    "\n",
    "algo = NMF\n",
    "\n",
    "gs = GridSearchCV(algo, param_grid, measures=['rmse', 'mae'], cv=3)\n",
    "\n",
    "gs.fit(surprise_data)\n",
    "\n",
    "# best RMSE score\n",
    "print(gs.best_score['rmse'])\n",
    "\n",
    "\n",
    "\n",
    "# combination of parameters that gave the best RMSE score\n",
    "print(gs.best_params['rmse'])\n",
    "\n"
   ]
  },
  {
   "cell_type": "code",
   "execution_count": 78,
   "metadata": {
    "scrolled": false
   },
   "outputs": [
    {
     "data": {
      "text/html": [
       "<div>\n",
       "<style scoped>\n",
       "    .dataframe tbody tr th:only-of-type {\n",
       "        vertical-align: middle;\n",
       "    }\n",
       "\n",
       "    .dataframe tbody tr th {\n",
       "        vertical-align: top;\n",
       "    }\n",
       "\n",
       "    .dataframe thead th {\n",
       "        text-align: right;\n",
       "    }\n",
       "</style>\n",
       "<table border=\"1\" class=\"dataframe\">\n",
       "  <thead>\n",
       "    <tr style=\"text-align: right;\">\n",
       "      <th></th>\n",
       "      <th>mean_test_rmse</th>\n",
       "      <th>param_n_factors</th>\n",
       "      <th>param_n_epochs</th>\n",
       "    </tr>\n",
       "  </thead>\n",
       "  <tbody>\n",
       "    <tr>\n",
       "      <th>0</th>\n",
       "      <td>2.161512</td>\n",
       "      <td>15</td>\n",
       "      <td>50</td>\n",
       "    </tr>\n",
       "    <tr>\n",
       "      <th>1</th>\n",
       "      <td>2.053809</td>\n",
       "      <td>15</td>\n",
       "      <td>100</td>\n",
       "    </tr>\n",
       "    <tr>\n",
       "      <th>2</th>\n",
       "      <td>1.985672</td>\n",
       "      <td>20</td>\n",
       "      <td>50</td>\n",
       "    </tr>\n",
       "    <tr>\n",
       "      <th>3</th>\n",
       "      <td>1.972411</td>\n",
       "      <td>20</td>\n",
       "      <td>100</td>\n",
       "    </tr>\n",
       "    <tr>\n",
       "      <th>4</th>\n",
       "      <td>1.895902</td>\n",
       "      <td>30</td>\n",
       "      <td>50</td>\n",
       "    </tr>\n",
       "    <tr>\n",
       "      <th>5</th>\n",
       "      <td>1.944261</td>\n",
       "      <td>30</td>\n",
       "      <td>100</td>\n",
       "    </tr>\n",
       "    <tr>\n",
       "      <th>6</th>\n",
       "      <td>1.908423</td>\n",
       "      <td>40</td>\n",
       "      <td>50</td>\n",
       "    </tr>\n",
       "    <tr>\n",
       "      <th>7</th>\n",
       "      <td>1.916505</td>\n",
       "      <td>40</td>\n",
       "      <td>100</td>\n",
       "    </tr>\n",
       "    <tr>\n",
       "      <th>8</th>\n",
       "      <td>2.003821</td>\n",
       "      <td>50</td>\n",
       "      <td>50</td>\n",
       "    </tr>\n",
       "    <tr>\n",
       "      <th>9</th>\n",
       "      <td>1.879361</td>\n",
       "      <td>50</td>\n",
       "      <td>100</td>\n",
       "    </tr>\n",
       "  </tbody>\n",
       "</table>\n",
       "</div>"
      ],
      "text/plain": [
       "   mean_test_rmse  param_n_factors  param_n_epochs\n",
       "0        2.161512               15              50\n",
       "1        2.053809               15             100\n",
       "2        1.985672               20              50\n",
       "3        1.972411               20             100\n",
       "4        1.895902               30              50\n",
       "5        1.944261               30             100\n",
       "6        1.908423               40              50\n",
       "7        1.916505               40             100\n",
       "8        2.003821               50              50\n",
       "9        1.879361               50             100"
      ]
     },
     "execution_count": 78,
     "metadata": {},
     "output_type": "execute_result"
    }
   ],
   "source": [
    "pd.DataFrame(gs.cv_results)[['mean_test_rmse', 'param_n_factors', 'param_n_epochs' ]]"
   ]
  },
  {
   "cell_type": "markdown",
   "metadata": {},
   "source": [
    "Now we use the features we have caculated using Matrix factorization and the features we previously had to perform a linear regression on the data."
   ]
  },
  {
   "cell_type": "markdown",
   "metadata": {},
   "source": [
    "First we train on the whole data set. "
   ]
  },
  {
   "cell_type": "code",
   "execution_count": 83,
   "metadata": {
    "scrolled": true
   },
   "outputs": [
    {
     "data": {
      "text/plain": [
       "<surprise.prediction_algorithms.matrix_factorization.NMF at 0x1f960e5ff28>"
      ]
     },
     "execution_count": 83,
     "metadata": {},
     "output_type": "execute_result"
    }
   ],
   "source": [
    "# Retrieve the trainset.\n",
    "trainset = surprise_data.build_full_trainset()\n",
    "\n",
    "# Build an algorithm, and train it.\n",
    "algo = NMF(n_factors=50, n_epochs=100)\n",
    "algo.fit(trainset)"
   ]
  },
  {
   "cell_type": "markdown",
   "metadata": {},
   "source": [
    "Now we have all the features in the algo.qi.\n",
    "for each type of room we have 50 features.\n"
   ]
  },
  {
   "cell_type": "code",
   "execution_count": 100,
   "metadata": {
    "scrolled": false
   },
   "outputs": [
    {
     "data": {
      "text/plain": [
       "(36, 50)"
      ]
     },
     "execution_count": 100,
     "metadata": {},
     "output_type": "execute_result"
    }
   ],
   "source": [
    "room_features = pd.DataFrame(algo.qi)\n",
    "room_features.shape"
   ]
  },
  {
   "cell_type": "markdown",
   "metadata": {},
   "source": [
    "Concatenate the ids of each room to it's row."
   ]
  },
  {
   "cell_type": "code",
   "execution_count": 111,
   "metadata": {},
   "outputs": [
    {
     "data": {
      "text/html": [
       "<div>\n",
       "<style scoped>\n",
       "    .dataframe tbody tr th:only-of-type {\n",
       "        vertical-align: middle;\n",
       "    }\n",
       "\n",
       "    .dataframe tbody tr th {\n",
       "        vertical-align: top;\n",
       "    }\n",
       "\n",
       "    .dataframe thead th {\n",
       "        text-align: right;\n",
       "    }\n",
       "</style>\n",
       "<table border=\"1\" class=\"dataframe\">\n",
       "  <thead>\n",
       "    <tr style=\"text-align: right;\">\n",
       "      <th></th>\n",
       "      <th>0</th>\n",
       "      <th>1</th>\n",
       "      <th>2</th>\n",
       "      <th>3</th>\n",
       "      <th>4</th>\n",
       "      <th>5</th>\n",
       "      <th>6</th>\n",
       "      <th>7</th>\n",
       "      <th>8</th>\n",
       "      <th>9</th>\n",
       "      <th>...</th>\n",
       "      <th>41</th>\n",
       "      <th>42</th>\n",
       "      <th>43</th>\n",
       "      <th>44</th>\n",
       "      <th>45</th>\n",
       "      <th>46</th>\n",
       "      <th>47</th>\n",
       "      <th>48</th>\n",
       "      <th>49</th>\n",
       "      <th>r_id</th>\n",
       "    </tr>\n",
       "  </thead>\n",
       "  <tbody>\n",
       "    <tr>\n",
       "      <th>0</th>\n",
       "      <td>0.171881</td>\n",
       "      <td>0.108712</td>\n",
       "      <td>0.509899</td>\n",
       "      <td>0.743840</td>\n",
       "      <td>0.145821</td>\n",
       "      <td>0.692598</td>\n",
       "      <td>0.150698</td>\n",
       "      <td>0.543750</td>\n",
       "      <td>0.295778</td>\n",
       "      <td>0.086851</td>\n",
       "      <td>...</td>\n",
       "      <td>0.354364</td>\n",
       "      <td>0.543231</td>\n",
       "      <td>0.536268</td>\n",
       "      <td>0.632278</td>\n",
       "      <td>0.020084</td>\n",
       "      <td>0.464589</td>\n",
       "      <td>0.377248</td>\n",
       "      <td>0.256704</td>\n",
       "      <td>0.040233</td>\n",
       "      <td>P1EL_social_clearhigh</td>\n",
       "    </tr>\n",
       "    <tr>\n",
       "      <th>1</th>\n",
       "      <td>0.180432</td>\n",
       "      <td>0.338845</td>\n",
       "      <td>0.053876</td>\n",
       "      <td>0.316927</td>\n",
       "      <td>0.011716</td>\n",
       "      <td>0.371769</td>\n",
       "      <td>0.203542</td>\n",
       "      <td>0.115626</td>\n",
       "      <td>0.028381</td>\n",
       "      <td>0.460366</td>\n",
       "      <td>...</td>\n",
       "      <td>0.350254</td>\n",
       "      <td>0.887976</td>\n",
       "      <td>0.142294</td>\n",
       "      <td>0.157754</td>\n",
       "      <td>0.482255</td>\n",
       "      <td>0.153031</td>\n",
       "      <td>0.623493</td>\n",
       "      <td>0.258007</td>\n",
       "      <td>0.122402</td>\n",
       "      <td>P1EL_social_clearlow</td>\n",
       "    </tr>\n",
       "  </tbody>\n",
       "</table>\n",
       "<p>2 rows × 51 columns</p>\n",
       "</div>"
      ],
      "text/plain": [
       "          0         1         2         3         4         5         6  \\\n",
       "0  0.171881  0.108712  0.509899  0.743840  0.145821  0.692598  0.150698   \n",
       "1  0.180432  0.338845  0.053876  0.316927  0.011716  0.371769  0.203542   \n",
       "\n",
       "          7         8         9          ...                  41        42  \\\n",
       "0  0.543750  0.295778  0.086851          ...            0.354364  0.543231   \n",
       "1  0.115626  0.028381  0.460366          ...            0.350254  0.887976   \n",
       "\n",
       "         43        44        45        46        47        48        49  \\\n",
       "0  0.536268  0.632278  0.020084  0.464589  0.377248  0.256704  0.040233   \n",
       "1  0.142294  0.157754  0.482255  0.153031  0.623493  0.258007  0.122402   \n",
       "\n",
       "                    r_id  \n",
       "0  P1EL_social_clearhigh  \n",
       "1   P1EL_social_clearlow  \n",
       "\n",
       "[2 rows x 51 columns]"
      ]
     },
     "execution_count": 111,
     "metadata": {},
     "output_type": "execute_result"
    }
   ],
   "source": [
    "r_id = []\n",
    "for i in range(0,36):\n",
    "    r_id.append(trainset.to_raw_iid(i))\n",
    "room_features['r_id'] = r_id\n",
    "room_features.head(2)"
   ]
  },
  {
   "cell_type": "code",
   "execution_count": null,
   "metadata": {},
   "outputs": [],
   "source": []
  },
  {
   "cell_type": "code",
   "execution_count": null,
   "metadata": {},
   "outputs": [],
   "source": []
  },
  {
   "cell_type": "markdown",
   "metadata": {},
   "source": [
    "We will join the data frame df_people based on room_ID and people_ID to get the final table."
   ]
  },
  {
   "cell_type": "code",
   "execution_count": 113,
   "metadata": {},
   "outputs": [],
   "source": [
    "#temp = df_people.merge(room_features, on = \"r_id\", how = 'inner', suffixes = (\"_a\",\"\"))\n",
    "#temp.head(1)"
   ]
  },
  {
   "cell_type": "code",
   "execution_count": null,
   "metadata": {},
   "outputs": [],
   "source": []
  },
  {
   "cell_type": "code",
   "execution_count": null,
   "metadata": {},
   "outputs": [],
   "source": []
  },
  {
   "cell_type": "code",
   "execution_count": null,
   "metadata": {},
   "outputs": [],
   "source": []
  },
  {
   "cell_type": "code",
   "execution_count": null,
   "metadata": {
    "scrolled": false
   },
   "outputs": [],
   "source": []
  },
  {
   "cell_type": "markdown",
   "metadata": {},
   "source": []
  },
  {
   "cell_type": "code",
   "execution_count": 31,
   "metadata": {},
   "outputs": [],
   "source": []
  },
  {
   "cell_type": "code",
   "execution_count": null,
   "metadata": {},
   "outputs": [],
   "source": []
  },
  {
   "cell_type": "code",
   "execution_count": null,
   "metadata": {},
   "outputs": [],
   "source": []
  },
  {
   "cell_type": "code",
   "execution_count": null,
   "metadata": {},
   "outputs": [],
   "source": []
  },
  {
   "cell_type": "code",
   "execution_count": null,
   "metadata": {},
   "outputs": [],
   "source": []
  },
  {
   "cell_type": "markdown",
   "metadata": {},
   "source": [
    "## Random Forest"
   ]
  },
  {
   "cell_type": "code",
   "execution_count": 65,
   "metadata": {},
   "outputs": [],
   "source": [
    "from sklearn.ensemble import RandomForestClassifier"
   ]
  },
  {
   "cell_type": "markdown",
   "metadata": {},
   "source": [
    "RandomForestClassifier(n_estimators=’warn’, criterion=’gini’, max_depth=None, min_samples_split=2, min_samples_leaf=1, min_weight_fraction_leaf=0.0, max_features=’auto’, max_leaf_nodes=None, min_impurity_decrease=0.0, min_impurity_split=None, bootstrap=True, oob_score=False, n_jobs=None, random_state=None, verbose=0, warm_start=False, class_weight=None)"
   ]
  },
  {
   "cell_type": "markdown",
   "metadata": {},
   "source": [
    "Firstly, we do grid search on the number of estimators \"n_estimators\" and the max depth of the trees \"max_depth\". We decide to use the accuracy as a criteria for comparing the quality of the diferents models (created by differents \"n_estimators\" and \"max_depth\"). So, we compute a data frame with the accuracy for every pair (n_estimators, max_depth) explorated."
   ]
  },
  {
   "cell_type": "code",
   "execution_count": 52,
   "metadata": {},
   "outputs": [],
   "source": [
    "n_estimators_range=range(1,100, 5)\n",
    "max_depth_range= range(1,100, 5)"
   ]
  },
  {
   "cell_type": "code",
   "execution_count": 53,
   "metadata": {},
   "outputs": [
    {
     "data": {
      "text/html": [
       "<div>\n",
       "<style scoped>\n",
       "    .dataframe tbody tr th:only-of-type {\n",
       "        vertical-align: middle;\n",
       "    }\n",
       "\n",
       "    .dataframe tbody tr th {\n",
       "        vertical-align: top;\n",
       "    }\n",
       "\n",
       "    .dataframe thead th {\n",
       "        text-align: right;\n",
       "    }\n",
       "</style>\n",
       "<table border=\"1\" class=\"dataframe\">\n",
       "  <thead>\n",
       "    <tr style=\"text-align: right;\">\n",
       "      <th></th>\n",
       "      <th>n_estimators</th>\n",
       "      <th>max_depth</th>\n",
       "      <th>accuracy</th>\n",
       "      <th>mean_error_scorer</th>\n",
       "    </tr>\n",
       "  </thead>\n",
       "  <tbody>\n",
       "    <tr>\n",
       "      <th>0</th>\n",
       "      <td>1.0</td>\n",
       "      <td>1.0</td>\n",
       "      <td>0.149124</td>\n",
       "      <td>-2.062918</td>\n",
       "    </tr>\n",
       "    <tr>\n",
       "      <th>1</th>\n",
       "      <td>1.0</td>\n",
       "      <td>6.0</td>\n",
       "      <td>0.074718</td>\n",
       "      <td>-2.784947</td>\n",
       "    </tr>\n",
       "    <tr>\n",
       "      <th>2</th>\n",
       "      <td>1.0</td>\n",
       "      <td>11.0</td>\n",
       "      <td>0.043383</td>\n",
       "      <td>-2.880666</td>\n",
       "    </tr>\n",
       "    <tr>\n",
       "      <th>3</th>\n",
       "      <td>1.0</td>\n",
       "      <td>16.0</td>\n",
       "      <td>0.049022</td>\n",
       "      <td>-3.009720</td>\n",
       "    </tr>\n",
       "    <tr>\n",
       "      <th>4</th>\n",
       "      <td>1.0</td>\n",
       "      <td>21.0</td>\n",
       "      <td>0.060919</td>\n",
       "      <td>-3.023457</td>\n",
       "    </tr>\n",
       "  </tbody>\n",
       "</table>\n",
       "</div>"
      ],
      "text/plain": [
       "   n_estimators  max_depth  accuracy  mean_error_scorer\n",
       "0           1.0        1.0  0.149124          -2.062918\n",
       "1           1.0        6.0  0.074718          -2.784947\n",
       "2           1.0       11.0  0.043383          -2.880666\n",
       "3           1.0       16.0  0.049022          -3.009720\n",
       "4           1.0       21.0  0.060919          -3.023457"
      ]
     },
     "execution_count": 53,
     "metadata": {},
     "output_type": "execute_result"
    }
   ],
   "source": [
    "performance_results = pd.DataFrame(columns=['n_estimators', 'max_depth','accuracy', 'mean_error_scorer'])\n",
    "\n",
    "index = 0\n",
    "for i in n_estimators_range:\n",
    "    for j in max_depth_range:\n",
    "        forestC = RandomForestClassifier(n_estimators=i, max_depth=j)\n",
    "        accuracy = cross_val_score(forestC, x_data, y_data, cv = 5, scoring='accuracy').mean()\n",
    "        mean_error_scorer = cross_val_score(forestC, x_data, y_data, cv = 5, scoring='neg_mean_absolute_error').mean()\n",
    "        \n",
    "        performance_results.loc[index] = [i, j, accuracy, mean_error_scorer]  \n",
    "        index = index + 1\n",
    "\n",
    "performance_results.head()"
   ]
  },
  {
   "cell_type": "code",
   "execution_count": 54,
   "metadata": {
    "scrolled": false
   },
   "outputs": [
    {
     "data": {
      "text/html": [
       "<div>\n",
       "<style scoped>\n",
       "    .dataframe tbody tr th:only-of-type {\n",
       "        vertical-align: middle;\n",
       "    }\n",
       "\n",
       "    .dataframe tbody tr th {\n",
       "        vertical-align: top;\n",
       "    }\n",
       "\n",
       "    .dataframe thead th {\n",
       "        text-align: right;\n",
       "    }\n",
       "</style>\n",
       "<table border=\"1\" class=\"dataframe\">\n",
       "  <thead>\n",
       "    <tr style=\"text-align: right;\">\n",
       "      <th></th>\n",
       "      <th>n_estimators</th>\n",
       "      <th>max_depth</th>\n",
       "      <th>accuracy</th>\n",
       "      <th>mean_error_scorer</th>\n",
       "    </tr>\n",
       "  </thead>\n",
       "  <tbody>\n",
       "    <tr>\n",
       "      <th>0</th>\n",
       "      <td>1.0</td>\n",
       "      <td>1.0</td>\n",
       "      <td>0.149124</td>\n",
       "      <td>-2.062918</td>\n",
       "    </tr>\n",
       "    <tr>\n",
       "      <th>20</th>\n",
       "      <td>6.0</td>\n",
       "      <td>1.0</td>\n",
       "      <td>0.128339</td>\n",
       "      <td>-2.164843</td>\n",
       "    </tr>\n",
       "  </tbody>\n",
       "</table>\n",
       "</div>"
      ],
      "text/plain": [
       "    n_estimators  max_depth  accuracy  mean_error_scorer\n",
       "0            1.0        1.0  0.149124          -2.062918\n",
       "20           6.0        1.0  0.128339          -2.164843"
      ]
     },
     "execution_count": 54,
     "metadata": {},
     "output_type": "execute_result"
    }
   ],
   "source": [
    "performance_results.sort_values(by = \"accuracy\", ascending=False).head(2)"
   ]
  },
  {
   "cell_type": "code",
   "execution_count": 55,
   "metadata": {},
   "outputs": [
    {
     "data": {
      "text/html": [
       "<div>\n",
       "<style scoped>\n",
       "    .dataframe tbody tr th:only-of-type {\n",
       "        vertical-align: middle;\n",
       "    }\n",
       "\n",
       "    .dataframe tbody tr th {\n",
       "        vertical-align: top;\n",
       "    }\n",
       "\n",
       "    .dataframe thead th {\n",
       "        text-align: right;\n",
       "    }\n",
       "</style>\n",
       "<table border=\"1\" class=\"dataframe\">\n",
       "  <thead>\n",
       "    <tr style=\"text-align: right;\">\n",
       "      <th></th>\n",
       "      <th>n_estimators</th>\n",
       "      <th>max_depth</th>\n",
       "      <th>accuracy</th>\n",
       "      <th>mean_error_scorer</th>\n",
       "    </tr>\n",
       "  </thead>\n",
       "  <tbody>\n",
       "    <tr>\n",
       "      <th>0</th>\n",
       "      <td>1.0</td>\n",
       "      <td>1.0</td>\n",
       "      <td>0.149124</td>\n",
       "      <td>-2.062918</td>\n",
       "    </tr>\n",
       "    <tr>\n",
       "      <th>20</th>\n",
       "      <td>6.0</td>\n",
       "      <td>1.0</td>\n",
       "      <td>0.128339</td>\n",
       "      <td>-2.164843</td>\n",
       "    </tr>\n",
       "    <tr>\n",
       "      <th>80</th>\n",
       "      <td>21.0</td>\n",
       "      <td>1.0</td>\n",
       "      <td>0.085025</td>\n",
       "      <td>-2.199780</td>\n",
       "    </tr>\n",
       "  </tbody>\n",
       "</table>\n",
       "</div>"
      ],
      "text/plain": [
       "    n_estimators  max_depth  accuracy  mean_error_scorer\n",
       "0            1.0        1.0  0.149124          -2.062918\n",
       "20           6.0        1.0  0.128339          -2.164843\n",
       "80          21.0        1.0  0.085025          -2.199780"
      ]
     },
     "execution_count": 55,
     "metadata": {},
     "output_type": "execute_result"
    }
   ],
   "source": [
    "performance_results.sort_values(by = \"mean_error_scorer\", ascending=False).head(3)"
   ]
  },
  {
   "cell_type": "code",
   "execution_count": null,
   "metadata": {},
   "outputs": [],
   "source": []
  },
  {
   "cell_type": "code",
   "execution_count": null,
   "metadata": {},
   "outputs": [],
   "source": []
  },
  {
   "cell_type": "code",
   "execution_count": null,
   "metadata": {},
   "outputs": [],
   "source": []
  },
  {
   "cell_type": "code",
   "execution_count": null,
   "metadata": {},
   "outputs": [],
   "source": []
  },
  {
   "cell_type": "code",
   "execution_count": null,
   "metadata": {},
   "outputs": [],
   "source": []
  },
  {
   "cell_type": "markdown",
   "metadata": {},
   "source": [
    "## Decision Trees"
   ]
  },
  {
   "cell_type": "code",
   "execution_count": 56,
   "metadata": {},
   "outputs": [
    {
     "name": "stdout",
     "output_type": "stream",
     "text": [
      "[4.52109685 4.40683502 4.27086049 4.16748554 4.10296211 4.01672979\n",
      " 3.94624527 3.90091159 3.84930367 3.82138326 3.8056197  3.8055114\n",
      " 3.8055114  3.8055114 ]\n",
      "[-4.85789737 -4.68428757 -4.72712799 -4.6557173  -4.70079688 -4.63400796\n",
      " -4.66170311 -4.80429073 -4.79991168 -4.79173453 -4.76529341 -4.74990241\n",
      " -4.79724942 -4.78774367]\n"
     ]
    }
   ],
   "source": [
    "from sklearn import tree\n",
    "\n",
    "depths_DTR = np.arange(1,15,1); # deepness of the tree\n",
    "y_DTR = np.zeros((len(depths_DTR), len(y_data)));\n",
    "mse_DTR = np.zeros(len(depths_DTR));\n",
    "mse_DTR_cross = np.zeros(len(depths_DTR));\n",
    "\n",
    "h=0\n",
    "while(h<len(depths_DTR)):\n",
    "    DTR = tree.DecisionTreeRegressor(criterion='mse', splitter='best', max_depth=depths_DTR[h]) # min_weight_fraction_leaf?\n",
    "    DTR = DTR.fit(x_data, y_data)\n",
    "\n",
    "    #Using everything\n",
    "    y_DTR[h, :] = DTR.predict(x_data)\n",
    "    mse_DTR[h] = sum((y_DTR[h, :]-y_data.values)**2)/(len(y_data))\n",
    "    \n",
    "    #Using everything with cross validation\n",
    "    mse_DTR_cross[h] = cross_val_score(DTR, x_data, y_data, cv = 10, scoring='neg_mean_squared_error').mean()\n",
    "    \n",
    "    h=h+1\n",
    "\n",
    "print(mse_DTR)\n",
    "print(mse_DTR_cross)\n"
   ]
  },
  {
   "cell_type": "markdown",
   "metadata": {},
   "source": [
    "## DENSE NEURAL NETWORKS"
   ]
  },
  {
   "cell_type": "code",
   "execution_count": 57,
   "metadata": {
    "scrolled": true
   },
   "outputs": [
    {
     "ename": "ModuleNotFoundError",
     "evalue": "No module named 'keras'",
     "output_type": "error",
     "traceback": [
      "\u001b[1;31m---------------------------------------------------------------------------\u001b[0m",
      "\u001b[1;31mModuleNotFoundError\u001b[0m                       Traceback (most recent call last)",
      "\u001b[1;32m<ipython-input-57-7f9f903d9afe>\u001b[0m in \u001b[0;36m<module>\u001b[1;34m()\u001b[0m\n\u001b[0;32m      1\u001b[0m \u001b[1;31m# Use conda install -c conda-forge keras; conda install -c anaconda keras\u001b[0m\u001b[1;33m\u001b[0m\u001b[1;33m\u001b[0m\u001b[0m\n\u001b[1;32m----> 2\u001b[1;33m \u001b[1;32mfrom\u001b[0m \u001b[0mkeras\u001b[0m\u001b[1;33m.\u001b[0m\u001b[0mmodels\u001b[0m \u001b[1;32mimport\u001b[0m \u001b[0mSequential\u001b[0m\u001b[1;33m\u001b[0m\u001b[0m\n\u001b[0m\u001b[0;32m      3\u001b[0m \u001b[1;32mfrom\u001b[0m \u001b[0mkeras\u001b[0m \u001b[1;32mimport\u001b[0m \u001b[0moptimizers\u001b[0m\u001b[1;33m\u001b[0m\u001b[0m\n\u001b[0;32m      4\u001b[0m \u001b[1;32mfrom\u001b[0m \u001b[0mkeras\u001b[0m\u001b[1;33m.\u001b[0m\u001b[0mlayers\u001b[0m \u001b[1;32mimport\u001b[0m \u001b[0mDense\u001b[0m\u001b[1;33m,\u001b[0m \u001b[0mEmbedding\u001b[0m\u001b[1;33m,\u001b[0m \u001b[0mLSTM\u001b[0m\u001b[1;33m,\u001b[0m \u001b[0mSpatialDropout1D\u001b[0m\u001b[1;33m\u001b[0m\u001b[0m\n\u001b[0;32m      5\u001b[0m \u001b[0mnp\u001b[0m\u001b[1;33m.\u001b[0m\u001b[0mrandom\u001b[0m\u001b[1;33m.\u001b[0m\u001b[0mseed\u001b[0m\u001b[1;33m(\u001b[0m\u001b[1;36m7\u001b[0m\u001b[1;33m)\u001b[0m\u001b[1;33m\u001b[0m\u001b[0m\n",
      "\u001b[1;31mModuleNotFoundError\u001b[0m: No module named 'keras'"
     ]
    }
   ],
   "source": [
    "# Use conda install -c conda-forge keras; conda install -c anaconda keras\n",
    "from keras.models import Sequential\n",
    "from keras import optimizers\n",
    "from keras.layers import Dense, Embedding, LSTM, SpatialDropout1D\n",
    "np.random.seed(7)\n",
    "\n",
    "embed_dim = 128\n",
    "lstm_out = 196\n",
    "max_features = len(x_data.values[1, :])\n",
    "\n",
    "def rnn_model():\n",
    "    #Create Model: interpreted as a sequence of layers https://keras.io/models/model/\n",
    "    model = Sequential() \n",
    "    model.add(Embedding(max_features, embed_dim, input_length=len(x_data.values[0, :])))\n",
    "    model.add(SpatialDropout1D(0.4))\n",
    "    model.add(LSTM(lstm_out, dropout=0.2, recurrent_dropout=0.2)) # randomnly discard 0.2 for each node?\n",
    "    model.add(Dense(1, activation='softmax'))\n",
    "    \n",
    "    #Compile Model\n",
    "    model.compile(loss='mean_squared_error', optimizer='adam', metrics = ['accuracy']) # loss: categorical_crossentropy (possible?? have to vectorize \"exiciting\"?)  ;adam: efficient gradient descent\n",
    "    return(model)\n",
    "\n",
    "model = rnn_model()\n",
    "model.summary\n",
    "print(model.summary())\n",
    "model.fit(x_data, y_data, epochs=15, batch_size=32)\n",
    "    \n",
    "    "
   ]
  },
  {
   "cell_type": "code",
   "execution_count": null,
   "metadata": {},
   "outputs": [],
   "source": []
  },
  {
   "cell_type": "code",
   "execution_count": null,
   "metadata": {},
   "outputs": [],
   "source": []
  },
  {
   "cell_type": "code",
   "execution_count": null,
   "metadata": {},
   "outputs": [],
   "source": []
  }
 ],
 "metadata": {
  "kernelspec": {
   "display_name": "Python 3",
   "language": "python",
   "name": "python3"
  },
  "language_info": {
   "codemirror_mode": {
    "name": "ipython",
    "version": 3
   },
   "file_extension": ".py",
   "mimetype": "text/x-python",
   "name": "python",
   "nbconvert_exporter": "python",
   "pygments_lexer": "ipython3",
   "version": "3.7.0"
  }
 },
 "nbformat": 4,
 "nbformat_minor": 2
}
