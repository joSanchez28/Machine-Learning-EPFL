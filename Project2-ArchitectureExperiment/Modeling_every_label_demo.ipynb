{
 "cells": [
  {
   "cell_type": "markdown",
   "metadata": {},
   "source": [
    "# Working with the rest of the labels\n",
    "\n",
    "In the main notebook we have worked with the exciting label; explaining carefully the steps we have followed in order to find the best solution (with the PCAs features). \n",
    "\n",
    "In this way this notebook have the intention to find a model with the PCA features for every one of the given labels based on the previous steps which have been done in the main notebook. (If you are looking to explanations or reasons we refers to the other notebook)."
   ]
  },
  {
   "cell_type": "code",
   "execution_count": 1,
   "metadata": {},
   "outputs": [],
   "source": [
    "import pandas as pd\n",
    "import numpy as np\n",
    "import matplotlib.pyplot as plt\n",
    "from sklearn.model_selection import train_test_split\n",
    "from sklearn.model_selection import GridSearchCV\n",
    "from sklearn.linear_model import Ridge\n",
    "from sklearn.decomposition import PCA\n",
    "from sklearn.pipeline import Pipeline\n",
    "from sklearn import preprocessing\n",
    "import joblib\n",
    "%matplotlib inline"
   ]
  },
  {
   "cell_type": "code",
   "execution_count": 2,
   "metadata": {},
   "outputs": [],
   "source": [
    "DATA_FOLDER = './data/' #The data is in the .gitignore in order to not upload it to the GitHub repository\n",
    "VIS_FOLDER = './visualizations/' #Folder where save the visualizations\n",
    "MODELS_FOLDER = './sklearn_models/'"
   ]
  },
  {
   "cell_type": "code",
   "execution_count": 3,
   "metadata": {},
   "outputs": [],
   "source": [
    "label_list = ['pleasant', 'interesting', 'exciting', 'calming', 'complex', 'bright', 'view', 'spacious']\n",
    "LIMIT = 7  ## Change this variable for working with the percentage of people how felt more than LIMIT-excited\n",
    "COUNTRY = \"Greece\"  #You can change it to Switzerland"
   ]
  },
  {
   "cell_type": "markdown",
   "metadata": {},
   "source": [
    "### Loading phase"
   ]
  },
  {
   "cell_type": "code",
   "execution_count": 4,
   "metadata": {},
   "outputs": [],
   "source": [
    "df_ml = pd.read_parquet(DATA_FOLDER + \"original_data.parquet\")"
   ]
  },
  {
   "cell_type": "markdown",
   "metadata": {},
   "source": [
    "In this notebook we are going to use the PCA features, so we can remove the others from the data frame:"
   ]
  },
  {
   "cell_type": "code",
   "execution_count": 5,
   "metadata": {},
   "outputs": [
    {
     "data": {
      "text/html": [
       "<div>\n",
       "<style scoped>\n",
       "    .dataframe tbody tr th:only-of-type {\n",
       "        vertical-align: middle;\n",
       "    }\n",
       "\n",
       "    .dataframe tbody tr th {\n",
       "        vertical-align: top;\n",
       "    }\n",
       "\n",
       "    .dataframe thead th {\n",
       "        text-align: right;\n",
       "    }\n",
       "</style>\n",
       "<table border=\"1\" class=\"dataframe\">\n",
       "  <thead>\n",
       "    <tr style=\"text-align: right;\">\n",
       "      <th></th>\n",
       "      <th>Country</th>\n",
       "      <th>Pattern</th>\n",
       "      <th>Context</th>\n",
       "      <th>SkyType</th>\n",
       "      <th>pleasant</th>\n",
       "      <th>interesting</th>\n",
       "      <th>exciting</th>\n",
       "      <th>calming</th>\n",
       "      <th>complex</th>\n",
       "      <th>bright</th>\n",
       "      <th>view</th>\n",
       "      <th>spacious</th>\n",
       "    </tr>\n",
       "  </thead>\n",
       "  <tbody>\n",
       "    <tr>\n",
       "      <th>0</th>\n",
       "      <td>Greece</td>\n",
       "      <td>P1EL</td>\n",
       "      <td>social</td>\n",
       "      <td>clearhigh</td>\n",
       "      <td>7</td>\n",
       "      <td>5</td>\n",
       "      <td>5</td>\n",
       "      <td>7</td>\n",
       "      <td>0</td>\n",
       "      <td>7</td>\n",
       "      <td>6</td>\n",
       "      <td>9</td>\n",
       "    </tr>\n",
       "    <tr>\n",
       "      <th>1</th>\n",
       "      <td>Greece</td>\n",
       "      <td>P1EL</td>\n",
       "      <td>social</td>\n",
       "      <td>clearhigh</td>\n",
       "      <td>5</td>\n",
       "      <td>4</td>\n",
       "      <td>4</td>\n",
       "      <td>7</td>\n",
       "      <td>3</td>\n",
       "      <td>8</td>\n",
       "      <td>5</td>\n",
       "      <td>10</td>\n",
       "    </tr>\n",
       "  </tbody>\n",
       "</table>\n",
       "</div>"
      ],
      "text/plain": [
       "  Country Pattern Context    SkyType  pleasant  interesting  exciting  \\\n",
       "0  Greece    P1EL  social  clearhigh         7            5         5   \n",
       "1  Greece    P1EL  social  clearhigh         5            4         4   \n",
       "\n",
       "   calming  complex  bright  view  spacious  \n",
       "0        7        0       7     6         9  \n",
       "1        7        3       8     5        10  "
      ]
     },
     "execution_count": 5,
     "metadata": {},
     "output_type": "execute_result"
    }
   ],
   "source": [
    "df_ml = df_ml[['Country', 'Pattern', 'Context', 'SkyType','pleasant', 'interesting', 'exciting', 'calming', 'complex', 'bright', 'view', 'spacious']]\n",
    "df_ml.head(2)"
   ]
  },
  {
   "cell_type": "code",
   "execution_count": 6,
   "metadata": {},
   "outputs": [],
   "source": [
    "fdata = df_ml.iloc[:,0:4] #fdata -> first data without preprocessing\n",
    "fdata.drop_duplicates(inplace = True)\n",
    "fdata.set_index(['Country', 'Pattern', 'Context', 'SkyType'], inplace = True)\n",
    "\n",
    "\n",
    "computing_percentages_total_df = df_ml[['Country', 'Pattern', 'Context', 'SkyType']].copy()\n",
    "computing_percentages_total_df[\"Total_people\"] = 0\n",
    "computing_percentages_total_df = computing_percentages_total_df.groupby(['Country', 'Pattern', 'Context', 'SkyType']).count()\n",
    "\n",
    "perc_list_names = []\n",
    "for label in label_list:\n",
    "    percentage_name = \"Percentage_\" + label\n",
    "    perc_list_names = perc_list_names + [percentage_name]\n",
    "    \n",
    "    df_ml_over_limit = df_ml[df_ml[label] >= LIMIT]\n",
    "    computing_percentages_df2 = df_ml_over_limit[['Country', 'Pattern', 'Context', 'SkyType']].copy()\n",
    "    computing_percentages_df2[\"People_who_felt_label_feeling\"] = 0\n",
    "    computing_percentages_df2 = computing_percentages_df2.groupby(['Country', 'Pattern', 'Context', 'SkyType']).count()\n",
    "    \n",
    "    computing_percentages_joined = pd.DataFrame.join(computing_percentages_total_df, computing_percentages_df2).fillna(value=0)\n",
    "    \n",
    "    fdata = fdata.join(computing_percentages_joined)\n",
    "    fdata[percentage_name] = fdata[\"People_who_felt_label_feeling\"] / fdata[\"Total_people\"]\n",
    "    fdata = fdata.drop(columns = [\"People_who_felt_label_feeling\", \"Total_people\"])\n",
    "    \n",
    "#fdata.reset_index(inplace = True)"
   ]
  },
  {
   "cell_type": "code",
   "execution_count": 7,
   "metadata": {},
   "outputs": [
    {
     "data": {
      "text/html": [
       "<div>\n",
       "<style scoped>\n",
       "    .dataframe tbody tr th:only-of-type {\n",
       "        vertical-align: middle;\n",
       "    }\n",
       "\n",
       "    .dataframe tbody tr th {\n",
       "        vertical-align: top;\n",
       "    }\n",
       "\n",
       "    .dataframe thead th {\n",
       "        text-align: right;\n",
       "    }\n",
       "</style>\n",
       "<table border=\"1\" class=\"dataframe\">\n",
       "  <thead>\n",
       "    <tr style=\"text-align: right;\">\n",
       "      <th></th>\n",
       "      <th></th>\n",
       "      <th></th>\n",
       "      <th></th>\n",
       "      <th>Percentage_pleasant</th>\n",
       "      <th>Percentage_interesting</th>\n",
       "      <th>Percentage_exciting</th>\n",
       "      <th>Percentage_calming</th>\n",
       "      <th>Percentage_complex</th>\n",
       "      <th>Percentage_bright</th>\n",
       "      <th>Percentage_view</th>\n",
       "      <th>Percentage_spacious</th>\n",
       "    </tr>\n",
       "    <tr>\n",
       "      <th>Country</th>\n",
       "      <th>Pattern</th>\n",
       "      <th>Context</th>\n",
       "      <th>SkyType</th>\n",
       "      <th></th>\n",
       "      <th></th>\n",
       "      <th></th>\n",
       "      <th></th>\n",
       "      <th></th>\n",
       "      <th></th>\n",
       "      <th></th>\n",
       "      <th></th>\n",
       "    </tr>\n",
       "  </thead>\n",
       "  <tbody>\n",
       "    <tr>\n",
       "      <th>Greece</th>\n",
       "      <th>P1EL</th>\n",
       "      <th>social</th>\n",
       "      <th>clearhigh</th>\n",
       "      <td>0.333333</td>\n",
       "      <td>0.095238</td>\n",
       "      <td>0.047619</td>\n",
       "      <td>0.333333</td>\n",
       "      <td>0.0</td>\n",
       "      <td>0.47619</td>\n",
       "      <td>0.333333</td>\n",
       "      <td>0.857143</td>\n",
       "    </tr>\n",
       "    <tr>\n",
       "      <th>Switzerland</th>\n",
       "      <th>P1EL</th>\n",
       "      <th>social</th>\n",
       "      <th>clearhigh</th>\n",
       "      <td>0.300000</td>\n",
       "      <td>0.150000</td>\n",
       "      <td>0.000000</td>\n",
       "      <td>0.300000</td>\n",
       "      <td>0.0</td>\n",
       "      <td>0.30000</td>\n",
       "      <td>0.300000</td>\n",
       "      <td>0.600000</td>\n",
       "    </tr>\n",
       "  </tbody>\n",
       "</table>\n",
       "</div>"
      ],
      "text/plain": [
       "                                       Percentage_pleasant  \\\n",
       "Country     Pattern Context SkyType                          \n",
       "Greece      P1EL    social  clearhigh             0.333333   \n",
       "Switzerland P1EL    social  clearhigh             0.300000   \n",
       "\n",
       "                                       Percentage_interesting  \\\n",
       "Country     Pattern Context SkyType                             \n",
       "Greece      P1EL    social  clearhigh                0.095238   \n",
       "Switzerland P1EL    social  clearhigh                0.150000   \n",
       "\n",
       "                                       Percentage_exciting  \\\n",
       "Country     Pattern Context SkyType                          \n",
       "Greece      P1EL    social  clearhigh             0.047619   \n",
       "Switzerland P1EL    social  clearhigh             0.000000   \n",
       "\n",
       "                                       Percentage_calming  Percentage_complex  \\\n",
       "Country     Pattern Context SkyType                                             \n",
       "Greece      P1EL    social  clearhigh            0.333333                 0.0   \n",
       "Switzerland P1EL    social  clearhigh            0.300000                 0.0   \n",
       "\n",
       "                                       Percentage_bright  Percentage_view  \\\n",
       "Country     Pattern Context SkyType                                         \n",
       "Greece      P1EL    social  clearhigh            0.47619         0.333333   \n",
       "Switzerland P1EL    social  clearhigh            0.30000         0.300000   \n",
       "\n",
       "                                       Percentage_spacious  \n",
       "Country     Pattern Context SkyType                         \n",
       "Greece      P1EL    social  clearhigh             0.857143  \n",
       "Switzerland P1EL    social  clearhigh             0.600000  "
      ]
     },
     "execution_count": 7,
     "metadata": {},
     "output_type": "execute_result"
    }
   ],
   "source": [
    "fdata.head(2)"
   ]
  },
  {
   "cell_type": "markdown",
   "metadata": {},
   "source": [
    "Load a data frame with the compressed image pixels:"
   ]
  },
  {
   "cell_type": "code",
   "execution_count": 8,
   "metadata": {},
   "outputs": [],
   "source": [
    "pixels_excited_df = pd.read_parquet(DATA_FOLDER + \"pixels_compressed.parquet\")\n",
    "pixels_excited_df.reset_index(inplace = True)\n",
    "pixels_excited_df.set_index(['Country', 'Pattern', 'Context', 'SkyType'], inplace = True)"
   ]
  },
  {
   "cell_type": "code",
   "execution_count": 9,
   "metadata": {},
   "outputs": [],
   "source": [
    "pixels_for_PCA = pixels_excited_df.drop(columns = \"Percentage_excited_people\")"
   ]
  },
  {
   "cell_type": "code",
   "execution_count": 10,
   "metadata": {},
   "outputs": [
    {
     "data": {
      "text/html": [
       "<div>\n",
       "<style scoped>\n",
       "    .dataframe tbody tr th:only-of-type {\n",
       "        vertical-align: middle;\n",
       "    }\n",
       "\n",
       "    .dataframe tbody tr th {\n",
       "        vertical-align: top;\n",
       "    }\n",
       "\n",
       "    .dataframe thead th {\n",
       "        text-align: right;\n",
       "    }\n",
       "</style>\n",
       "<table border=\"1\" class=\"dataframe\">\n",
       "  <thead>\n",
       "    <tr style=\"text-align: right;\">\n",
       "      <th></th>\n",
       "      <th></th>\n",
       "      <th></th>\n",
       "      <th></th>\n",
       "      <th>img_array</th>\n",
       "    </tr>\n",
       "    <tr>\n",
       "      <th>Country</th>\n",
       "      <th>Pattern</th>\n",
       "      <th>Context</th>\n",
       "      <th>SkyType</th>\n",
       "      <th></th>\n",
       "    </tr>\n",
       "  </thead>\n",
       "  <tbody>\n",
       "    <tr>\n",
       "      <th>Greece</th>\n",
       "      <th>P1EL</th>\n",
       "      <th>social</th>\n",
       "      <th>clearhigh</th>\n",
       "      <td>[103.0, 103.125, 103.84722222222221, 103.95833...</td>\n",
       "    </tr>\n",
       "    <tr>\n",
       "      <th>Switzerland</th>\n",
       "      <th>P1EL</th>\n",
       "      <th>social</th>\n",
       "      <th>clearhigh</th>\n",
       "      <td>[103.0, 103.125, 103.84722222222221, 103.95833...</td>\n",
       "    </tr>\n",
       "    <tr>\n",
       "      <th>Greece</th>\n",
       "      <th>P1EL</th>\n",
       "      <th>social</th>\n",
       "      <th>clearlow</th>\n",
       "      <td>[110.0, 110.0, 110.54166666666667, 111.0, 111....</td>\n",
       "    </tr>\n",
       "  </tbody>\n",
       "</table>\n",
       "</div>"
      ],
      "text/plain": [
       "                                                                               img_array\n",
       "Country     Pattern Context SkyType                                                     \n",
       "Greece      P1EL    social  clearhigh  [103.0, 103.125, 103.84722222222221, 103.95833...\n",
       "Switzerland P1EL    social  clearhigh  [103.0, 103.125, 103.84722222222221, 103.95833...\n",
       "Greece      P1EL    social  clearlow   [110.0, 110.0, 110.54166666666667, 111.0, 111...."
      ]
     },
     "execution_count": 10,
     "metadata": {},
     "output_type": "execute_result"
    }
   ],
   "source": [
    "pixels_for_PCA.head(3)"
   ]
  },
  {
   "cell_type": "markdown",
   "metadata": {},
   "source": [
    "Finally, having a data frame with the percentages and another data frame with the compressed images pixels we join them:"
   ]
  },
  {
   "cell_type": "code",
   "execution_count": 11,
   "metadata": {},
   "outputs": [
    {
     "data": {
      "text/html": [
       "<div>\n",
       "<style scoped>\n",
       "    .dataframe tbody tr th:only-of-type {\n",
       "        vertical-align: middle;\n",
       "    }\n",
       "\n",
       "    .dataframe tbody tr th {\n",
       "        vertical-align: top;\n",
       "    }\n",
       "\n",
       "    .dataframe thead th {\n",
       "        text-align: right;\n",
       "    }\n",
       "</style>\n",
       "<table border=\"1\" class=\"dataframe\">\n",
       "  <thead>\n",
       "    <tr style=\"text-align: right;\">\n",
       "      <th></th>\n",
       "      <th></th>\n",
       "      <th></th>\n",
       "      <th>Country</th>\n",
       "      <th>img_array</th>\n",
       "      <th>Percentage_pleasant</th>\n",
       "      <th>Percentage_interesting</th>\n",
       "      <th>Percentage_exciting</th>\n",
       "      <th>Percentage_calming</th>\n",
       "      <th>Percentage_complex</th>\n",
       "      <th>Percentage_bright</th>\n",
       "      <th>Percentage_view</th>\n",
       "      <th>Percentage_spacious</th>\n",
       "    </tr>\n",
       "    <tr>\n",
       "      <th>Pattern</th>\n",
       "      <th>Context</th>\n",
       "      <th>SkyType</th>\n",
       "      <th></th>\n",
       "      <th></th>\n",
       "      <th></th>\n",
       "      <th></th>\n",
       "      <th></th>\n",
       "      <th></th>\n",
       "      <th></th>\n",
       "      <th></th>\n",
       "      <th></th>\n",
       "      <th></th>\n",
       "    </tr>\n",
       "  </thead>\n",
       "  <tbody>\n",
       "    <tr>\n",
       "      <th rowspan=\"2\" valign=\"top\">P1EL</th>\n",
       "      <th rowspan=\"2\" valign=\"top\">social</th>\n",
       "      <th>clearhigh</th>\n",
       "      <td>Greece</td>\n",
       "      <td>[103.0, 103.125, 103.84722222222221, 103.95833...</td>\n",
       "      <td>0.333333</td>\n",
       "      <td>0.095238</td>\n",
       "      <td>0.047619</td>\n",
       "      <td>0.333333</td>\n",
       "      <td>0.0</td>\n",
       "      <td>0.47619</td>\n",
       "      <td>0.333333</td>\n",
       "      <td>0.857143</td>\n",
       "    </tr>\n",
       "    <tr>\n",
       "      <th>clearhigh</th>\n",
       "      <td>Switzerland</td>\n",
       "      <td>[103.0, 103.125, 103.84722222222221, 103.95833...</td>\n",
       "      <td>0.300000</td>\n",
       "      <td>0.150000</td>\n",
       "      <td>0.000000</td>\n",
       "      <td>0.300000</td>\n",
       "      <td>0.0</td>\n",
       "      <td>0.30000</td>\n",
       "      <td>0.300000</td>\n",
       "      <td>0.600000</td>\n",
       "    </tr>\n",
       "  </tbody>\n",
       "</table>\n",
       "</div>"
      ],
      "text/plain": [
       "                               Country  \\\n",
       "Pattern Context SkyType                  \n",
       "P1EL    social  clearhigh       Greece   \n",
       "                clearhigh  Switzerland   \n",
       "\n",
       "                                                                   img_array  \\\n",
       "Pattern Context SkyType                                                        \n",
       "P1EL    social  clearhigh  [103.0, 103.125, 103.84722222222221, 103.95833...   \n",
       "                clearhigh  [103.0, 103.125, 103.84722222222221, 103.95833...   \n",
       "\n",
       "                           Percentage_pleasant  Percentage_interesting  \\\n",
       "Pattern Context SkyType                                                  \n",
       "P1EL    social  clearhigh             0.333333                0.095238   \n",
       "                clearhigh             0.300000                0.150000   \n",
       "\n",
       "                           Percentage_exciting  Percentage_calming  \\\n",
       "Pattern Context SkyType                                              \n",
       "P1EL    social  clearhigh             0.047619            0.333333   \n",
       "                clearhigh             0.000000            0.300000   \n",
       "\n",
       "                           Percentage_complex  Percentage_bright  \\\n",
       "Pattern Context SkyType                                            \n",
       "P1EL    social  clearhigh                 0.0            0.47619   \n",
       "                clearhigh                 0.0            0.30000   \n",
       "\n",
       "                           Percentage_view  Percentage_spacious  \n",
       "Pattern Context SkyType                                          \n",
       "P1EL    social  clearhigh         0.333333             0.857143  \n",
       "                clearhigh         0.300000             0.600000  "
      ]
     },
     "execution_count": 11,
     "metadata": {},
     "output_type": "execute_result"
    }
   ],
   "source": [
    "pca_df = pd.DataFrame.join(pixels_for_PCA, fdata)\n",
    "pca_df.reset_index(inplace = True)\n",
    "pca_df.set_index(['Pattern', 'Context', 'SkyType'], inplace = True)\n",
    "pca_df.head(2)"
   ]
  },
  {
   "cell_type": "code",
   "execution_count": null,
   "metadata": {},
   "outputs": [],
   "source": []
  },
  {
   "cell_type": "markdown",
   "metadata": {},
   "source": [
    "## PCA and ridge regression for every label:"
   ]
  },
  {
   "cell_type": "markdown",
   "metadata": {},
   "source": [
    "Note that the name of the variables have the subfixe _greece but if you have change the COUNTRY variable at the beginning, the program will work with the given country."
   ]
  },
  {
   "cell_type": "code",
   "execution_count": 12,
   "metadata": {},
   "outputs": [],
   "source": [
    "pixels_labels_greece = pca_df[pca_df[\"Country\"]==COUNTRY]\n",
    "\n",
    "#The pixels are the same for Greece and for Switzerland, since the images are the same ones\n",
    "x_matrix_temp = [pixels_array.tolist() for pixels_array in pixels_labels_greece[\"img_array\"].values]"
   ]
  },
  {
   "cell_type": "code",
   "execution_count": 13,
   "metadata": {},
   "outputs": [],
   "source": [
    "### Preparing Matrices\n",
    "X_greece = x_matrix_temp\n",
    "y_greece = pixels_labels_greece[perc_list_names]\n",
    "\n",
    "#X_digits_switz = x_matrix_temp_switz\n",
    "#y_digits_switz = pixels_switz[labels].values\n",
    "\n",
    "## Standardize\n",
    "X_greece = preprocessing.scale(X_greece)\n",
    "\n",
    "\n",
    "## Pol expansion (in our case add a constant (bias)) for all data\n",
    "#pol = PolynomialFeatures(1, True, True)\n",
    "#phX_greece = pol.fit_transform(X_greece, y_digits_greece)\n",
    "#phx_greece = X_greece # for no pol\n",
    "\n",
    "## Splitting of the data\n",
    "X_train_greece, X_test_greece, y_train_greece, y_test_greece = train_test_split(X_greece, y_greece, test_size=0.2, random_state=0)"
   ]
  },
  {
   "cell_type": "code",
   "execution_count": 21,
   "metadata": {},
   "outputs": [],
   "source": [
    "# Define a pipeline to search for the best combination of PCA truncation\n",
    "# and classifier regularization.\n",
    "pca = PCA()\n",
    "pipe = Pipeline(steps=[('pca', pca), ('rig_reg', Ridge(solver=\"lsqr\"))])\n",
    "\n",
    "#Parameters for the PCA and the Ridge during the GridSearch:\n",
    "PCA_n_comp = np.arange(8, 22)  #(1,28) # must be between 0 and min(n_samples, n_features)=n_samples=len(X_train)=28\n",
    "lambdas = np.logspace(2, 5, 20) + [13895]  #13895 lambda which gave the best results with the 'exciting' label\n",
    "\n",
    "## Parameters of pipelines can be set using ‘__’ separated parameter names:\n",
    "param_grid = {'pca__n_components': PCA_n_comp, 'rig_reg__alpha': lambdas}"
   ]
  },
  {
   "cell_type": "code",
   "execution_count": 22,
   "metadata": {},
   "outputs": [],
   "source": [
    "search_greece = []\n",
    "for i in range(len(label_list)):\n",
    "    #Grid search will take by default the estimator's default scorer, i.e. the least squares from ridge regression estimator\n",
    "    search_greece = search_greece + [GridSearchCV(pipe, param_grid, iid=False, cv=5, return_train_score=True, scoring = 'neg_mean_absolute_error')] \n",
    "    \n",
    "    ## Modeling\n",
    "    search_greece[i].fit(X_train_greece, y_train_greece[perc_list_names[i]].values)"
   ]
  },
  {
   "cell_type": "code",
   "execution_count": 32,
   "metadata": {},
   "outputs": [
    {
     "name": "stdout",
     "output_type": "stream",
     "text": [
      "LABEL:  pleasant\n",
      "\tBest parameters set found on development set: \n",
      "\t {'pca__n_components': 18, 'rig_reg__alpha': 13995.0}\n",
      "\tTest error:\n",
      "\t 0.09828181572019827\n",
      "LABEL:  interesting\n",
      "\tBest parameters set found on development set: \n",
      "\t {'pca__n_components': 8, 'rig_reg__alpha': 19350.594781168515}\n",
      "\tTest error:\n",
      "\t 0.10792221355421217\n",
      "LABEL:  exciting\n",
      "\tBest parameters set found on development set: \n",
      "\t {'pca__n_components': 12, 'rig_reg__alpha': 13995.0}\n",
      "\tTest error:\n",
      "\t 0.06499460396164893\n",
      "LABEL:  calming\n",
      "\tBest parameters set found on development set: \n",
      "\t {'pca__n_components': 20, 'rig_reg__alpha': 13995.0}\n",
      "\tTest error:\n",
      "\t 0.09268743236861453\n",
      "LABEL:  complex\n",
      "\tBest parameters set found on development set: \n",
      "\t {'pca__n_components': 18, 'rig_reg__alpha': 13995.0}\n",
      "\tTest error:\n",
      "\t 0.09992859532753519\n",
      "LABEL:  bright\n",
      "\tBest parameters set found on development set: \n",
      "\t {'pca__n_components': 8, 'rig_reg__alpha': 113895.0}\n",
      "\tTest error:\n",
      "\t 0.12941175256826185\n",
      "LABEL:  view\n",
      "\tBest parameters set found on development set: \n",
      "\t {'pca__n_components': 16, 'rig_reg__alpha': 13995.0}\n",
      "\tTest error:\n",
      "\t 0.08584497063541086\n",
      "LABEL:  spacious\n",
      "\tBest parameters set found on development set: \n",
      "\t {'pca__n_components': 9, 'rig_reg__alpha': 113895.0}\n",
      "\tTest error:\n",
      "\t 0.07435598826427696\n"
     ]
    }
   ],
   "source": [
    "test_errors =[]\n",
    "for i in range(len(label_list)):\n",
    "    print(\"LABEL: \" ,label_list[i])\n",
    "    ## Modeling\n",
    "    print(\"\\tBest parameters set found on development set: \\n\\t\", search_greece[i].best_params_)\n",
    "    test_errors = test_errors + [sum(abs(search_greece[i].predict(X_test_greece)-y_test_greece[perc_list_names[i]]))/len(X_test_greece[:,0])]\n",
    "    print(\"\\tTest error:\\n\\t\", test_errors[i])\n",
    "    model_name = \"grid_pca_ridge_label\" + label_list[i]\n",
    "    \n",
    "    \n",
    "    #joblib.dump(search_greece[i], MODELS_FOLDER + model_name + '.pkl')\n",
    "    "
   ]
  },
  {
   "cell_type": "markdown",
   "metadata": {},
   "source": [
    "### Visualization: of the best results"
   ]
  },
  {
   "cell_type": "code",
   "execution_count": 37,
   "metadata": {},
   "outputs": [],
   "source": [
    "labels_errors = pd.DataFrame(label_list, columns = [\"labels\"])\n",
    "labels_errors[\"errors\"] = test_errors"
   ]
  },
  {
   "cell_type": "code",
   "execution_count": 41,
   "metadata": {},
   "outputs": [
    {
     "data": {
      "image/png": "[encoded data removed]",
      "text/plain": [
       "<Figure size 432x288 with 1 Axes>"
      ]
     },
     "metadata": {
      "needs_background": "light"
     },
     "output_type": "display_data"
    }
   ],
   "source": [
    "labels_errors.plot(kind='barh',x='labels',y='errors',legend=None);\n",
    "plt.title('Labels errors');\n",
    "plt.xlabel('Test error');\n",
    "plt.ylabel('Feelings');\n",
    "plt.savefig(VIS_FOLDER + 'labels_errors.png', bbox_inches='tight')"
   ]
  },
  {
   "cell_type": "code",
   "execution_count": null,
   "metadata": {},
   "outputs": [],
   "source": []
  }
 ],
 "metadata": {
  "kernelspec": {
   "display_name": "Python 3",
   "language": "python",
   "name": "python3"
  },
  "language_info": {
   "codemirror_mode": {
    "name": "ipython",
    "version": 3
   },
   "file_extension": ".py",
   "mimetype": "text/x-python",
   "name": "python",
   "nbconvert_exporter": "python",
   "pygments_lexer": "ipython3",
   "version": "3.6.7"
  }
 },
 "nbformat": 4,
 "nbformat_minor": 2
}
