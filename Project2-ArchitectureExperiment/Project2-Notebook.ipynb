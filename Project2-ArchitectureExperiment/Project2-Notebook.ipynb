{
 "cells": [
  {
   "cell_type": "markdown",
   "metadata": {},
   "source": [
    "# Architecture experiment: Subjective and physiological responses to interiors\n",
    "\n",
    "\n",
    "### Libraries\n",
    "\n",
    "- [scikit-learn](http://scikit-learn.org/stable/)\n",
    "- pandas\n",
    "- matplotlib\n",
    "- seaborn"
   ]
  },
  {
   "cell_type": "code",
   "execution_count": 40,
   "metadata": {},
   "outputs": [],
   "source": [
    "import pandas as pd\n",
    "import numpy as np\n",
    "import matplotlib.pyplot as plt\n",
    "from sklearn.linear_model import LinearRegression, LogisticRegression\n",
    "from sklearn.preprocessing import OneHotEncoder\n",
    "from pandas.plotting import scatter_matrix\n",
    "from sklearn.model_selection import cross_val_predict\n",
    "from sklearn.model_selection import cross_val_score\n",
    "import seaborn as sns\n",
    "%matplotlib inline"
   ]
  },
  {
   "cell_type": "code",
   "execution_count": 41,
   "metadata": {},
   "outputs": [],
   "source": [
    "DATA_FOLDER = './data/' #The data is in the .gitignore in order to not upload it to the GitHub repository"
   ]
  },
  {
   "cell_type": "markdown",
   "metadata": {},
   "source": [
    "Execute the following line to export from the jupyter notebook(.ipynb) to a .py file (ignore the warnings):"
   ]
  },
  {
   "cell_type": "code",
   "execution_count": 42,
   "metadata": {},
   "outputs": [],
   "source": [
    "#!jupyter nbconvert --to script Project2-Notebook.ipynb "
   ]
  },
  {
   "cell_type": "markdown",
   "metadata": {},
   "source": [
    "## Exploratory Data Analysis"
   ]
  },
  {
   "cell_type": "markdown",
   "metadata": {},
   "source": [
    "### Loading phase"
   ]
  },
  {
   "cell_type": "markdown",
   "metadata": {},
   "source": [
    "First we load the data into a Pandas data frame (with the Pandas library; to install this package with conda run:\n",
    "`conda install -c anaconda pandas`):"
   ]
  },
  {
   "cell_type": "code",
   "execution_count": 43,
   "metadata": {},
   "outputs": [],
   "source": [
    "df_interior_features = pd.read_csv(DATA_FOLDER + 'T_features.csv')\n",
    "df_labels_and_features = pd.read_csv(DATA_FOLDER + 'table_dataset_GreeceSwitzerland_N265_metrics_mSC5_JPEGtoBMP_Michelson_RMS.csv')"
   ]
  },
  {
   "cell_type": "markdown",
   "metadata": {},
   "source": [
    "Let's see what is inside `table_dataset_GreeceSwitzerland_N265_metrics_mSC5_JPEGtoBMP_Michelson_RMS.csv`:"
   ]
  },
  {
   "cell_type": "code",
   "execution_count": 44,
   "metadata": {},
   "outputs": [
    {
     "data": {
      "text/html": [
       "<div>\n",
       "<style scoped>\n",
       "    .dataframe tbody tr th:only-of-type {\n",
       "        vertical-align: middle;\n",
       "    }\n",
       "\n",
       "    .dataframe tbody tr th {\n",
       "        vertical-align: top;\n",
       "    }\n",
       "\n",
       "    .dataframe thead th {\n",
       "        text-align: right;\n",
       "    }\n",
       "</style>\n",
       "<table border=\"1\" class=\"dataframe\">\n",
       "  <thead>\n",
       "    <tr style=\"text-align: right;\">\n",
       "      <th></th>\n",
       "      <th>ID</th>\n",
       "      <th>Country</th>\n",
       "      <th>Stimulus_SkyType</th>\n",
       "      <th>Stimulus_Context</th>\n",
       "      <th>Gender</th>\n",
       "      <th>Pattern</th>\n",
       "      <th>pleasant</th>\n",
       "      <th>interesting</th>\n",
       "      <th>exciting</th>\n",
       "      <th>calming</th>\n",
       "      <th>complex</th>\n",
       "      <th>bright</th>\n",
       "      <th>view</th>\n",
       "      <th>spacious</th>\n",
       "      <th>contrast_mean_mSC5</th>\n",
       "      <th>contrast_mean_Michelson</th>\n",
       "      <th>contrast_mean_RMS</th>\n",
       "      <th>complexity_mean_JPEGtoBMP</th>\n",
       "    </tr>\n",
       "  </thead>\n",
       "  <tbody>\n",
       "    <tr>\n",
       "      <th>0</th>\n",
       "      <td>1</td>\n",
       "      <td>Greece</td>\n",
       "      <td>clear low</td>\n",
       "      <td>social</td>\n",
       "      <td>Male</td>\n",
       "      <td>P1EL</td>\n",
       "      <td>8</td>\n",
       "      <td>7</td>\n",
       "      <td>6</td>\n",
       "      <td>9</td>\n",
       "      <td>4</td>\n",
       "      <td>6</td>\n",
       "      <td>4</td>\n",
       "      <td>8</td>\n",
       "      <td>11.188207</td>\n",
       "      <td>0.907864</td>\n",
       "      <td>106.363985</td>\n",
       "      <td>0.104734</td>\n",
       "    </tr>\n",
       "    <tr>\n",
       "      <th>1</th>\n",
       "      <td>1</td>\n",
       "      <td>Greece</td>\n",
       "      <td>clear low</td>\n",
       "      <td>social</td>\n",
       "      <td>Male</td>\n",
       "      <td>P2EL</td>\n",
       "      <td>8</td>\n",
       "      <td>5</td>\n",
       "      <td>6</td>\n",
       "      <td>8</td>\n",
       "      <td>4</td>\n",
       "      <td>7</td>\n",
       "      <td>3</td>\n",
       "      <td>8</td>\n",
       "      <td>11.941067</td>\n",
       "      <td>0.904661</td>\n",
       "      <td>106.590842</td>\n",
       "      <td>0.122357</td>\n",
       "    </tr>\n",
       "    <tr>\n",
       "      <th>2</th>\n",
       "      <td>1</td>\n",
       "      <td>Greece</td>\n",
       "      <td>clear low</td>\n",
       "      <td>social</td>\n",
       "      <td>Male</td>\n",
       "      <td>P3EL</td>\n",
       "      <td>9</td>\n",
       "      <td>8</td>\n",
       "      <td>8</td>\n",
       "      <td>9</td>\n",
       "      <td>6</td>\n",
       "      <td>7</td>\n",
       "      <td>2</td>\n",
       "      <td>8</td>\n",
       "      <td>12.509719</td>\n",
       "      <td>0.905066</td>\n",
       "      <td>106.604335</td>\n",
       "      <td>0.119979</td>\n",
       "    </tr>\n",
       "    <tr>\n",
       "      <th>3</th>\n",
       "      <td>1</td>\n",
       "      <td>Greece</td>\n",
       "      <td>clear low</td>\n",
       "      <td>social</td>\n",
       "      <td>Male</td>\n",
       "      <td>P4EL</td>\n",
       "      <td>7</td>\n",
       "      <td>7</td>\n",
       "      <td>7</td>\n",
       "      <td>7</td>\n",
       "      <td>6</td>\n",
       "      <td>6</td>\n",
       "      <td>1</td>\n",
       "      <td>8</td>\n",
       "      <td>12.846015</td>\n",
       "      <td>0.906583</td>\n",
       "      <td>106.929875</td>\n",
       "      <td>0.115287</td>\n",
       "    </tr>\n",
       "    <tr>\n",
       "      <th>4</th>\n",
       "      <td>1</td>\n",
       "      <td>Greece</td>\n",
       "      <td>clear low</td>\n",
       "      <td>social</td>\n",
       "      <td>Male</td>\n",
       "      <td>P5EL</td>\n",
       "      <td>8</td>\n",
       "      <td>10</td>\n",
       "      <td>9</td>\n",
       "      <td>7</td>\n",
       "      <td>8</td>\n",
       "      <td>7</td>\n",
       "      <td>5</td>\n",
       "      <td>8</td>\n",
       "      <td>12.211881</td>\n",
       "      <td>0.907546</td>\n",
       "      <td>105.478575</td>\n",
       "      <td>0.118572</td>\n",
       "    </tr>\n",
       "    <tr>\n",
       "      <th>5</th>\n",
       "      <td>1</td>\n",
       "      <td>Greece</td>\n",
       "      <td>clear low</td>\n",
       "      <td>social</td>\n",
       "      <td>Male</td>\n",
       "      <td>P6EL</td>\n",
       "      <td>8</td>\n",
       "      <td>8</td>\n",
       "      <td>8</td>\n",
       "      <td>7</td>\n",
       "      <td>9</td>\n",
       "      <td>7</td>\n",
       "      <td>3</td>\n",
       "      <td>8</td>\n",
       "      <td>12.288385</td>\n",
       "      <td>0.912304</td>\n",
       "      <td>106.582042</td>\n",
       "      <td>0.113396</td>\n",
       "    </tr>\n",
       "    <tr>\n",
       "      <th>6</th>\n",
       "      <td>2</td>\n",
       "      <td>Greece</td>\n",
       "      <td>clear low</td>\n",
       "      <td>social</td>\n",
       "      <td>Male</td>\n",
       "      <td>P1EL</td>\n",
       "      <td>6</td>\n",
       "      <td>7</td>\n",
       "      <td>8</td>\n",
       "      <td>6</td>\n",
       "      <td>0</td>\n",
       "      <td>7</td>\n",
       "      <td>6</td>\n",
       "      <td>7</td>\n",
       "      <td>11.188207</td>\n",
       "      <td>0.907864</td>\n",
       "      <td>106.363985</td>\n",
       "      <td>0.104734</td>\n",
       "    </tr>\n",
       "  </tbody>\n",
       "</table>\n",
       "</div>"
      ],
      "text/plain": [
       "   ID Country Stimulus_SkyType Stimulus_Context Gender Pattern  pleasant  \\\n",
       "0   1  Greece        clear low           social   Male    P1EL         8   \n",
       "1   1  Greece        clear low           social   Male    P2EL         8   \n",
       "2   1  Greece        clear low           social   Male    P3EL         9   \n",
       "3   1  Greece        clear low           social   Male    P4EL         7   \n",
       "4   1  Greece        clear low           social   Male    P5EL         8   \n",
       "5   1  Greece        clear low           social   Male    P6EL         8   \n",
       "6   2  Greece        clear low           social   Male    P1EL         6   \n",
       "\n",
       "   interesting  exciting  calming  complex  bright  view  spacious  \\\n",
       "0            7         6        9        4       6     4         8   \n",
       "1            5         6        8        4       7     3         8   \n",
       "2            8         8        9        6       7     2         8   \n",
       "3            7         7        7        6       6     1         8   \n",
       "4           10         9        7        8       7     5         8   \n",
       "5            8         8        7        9       7     3         8   \n",
       "6            7         8        6        0       7     6         7   \n",
       "\n",
       "   contrast_mean_mSC5  contrast_mean_Michelson  contrast_mean_RMS  \\\n",
       "0           11.188207                 0.907864         106.363985   \n",
       "1           11.941067                 0.904661         106.590842   \n",
       "2           12.509719                 0.905066         106.604335   \n",
       "3           12.846015                 0.906583         106.929875   \n",
       "4           12.211881                 0.907546         105.478575   \n",
       "5           12.288385                 0.912304         106.582042   \n",
       "6           11.188207                 0.907864         106.363985   \n",
       "\n",
       "   complexity_mean_JPEGtoBMP  \n",
       "0                   0.104734  \n",
       "1                   0.122357  \n",
       "2                   0.119979  \n",
       "3                   0.115287  \n",
       "4                   0.118572  \n",
       "5                   0.113396  \n",
       "6                   0.104734  "
      ]
     },
     "execution_count": 44,
     "metadata": {},
     "output_type": "execute_result"
    }
   ],
   "source": [
    "df_labels_and_features.head(7)"
   ]
  },
  {
   "cell_type": "code",
   "execution_count": 45,
   "metadata": {},
   "outputs": [
    {
     "data": {
      "text/plain": [
       "(1590, 18)"
      ]
     },
     "execution_count": 45,
     "metadata": {},
     "output_type": "execute_result"
    }
   ],
   "source": [
    "df_labels_and_features.shape"
   ]
  },
  {
   "cell_type": "code",
   "execution_count": 46,
   "metadata": {},
   "outputs": [
    {
     "data": {
      "text/plain": [
       "Index(['ID', 'Country', 'Stimulus_SkyType', 'Stimulus_Context', 'Gender',\n",
       "       'Pattern', 'pleasant', 'interesting', 'exciting', 'calming', 'complex',\n",
       "       'bright', 'view', 'spacious', 'contrast_mean_mSC5',\n",
       "       'contrast_mean_Michelson', 'contrast_mean_RMS',\n",
       "       'complexity_mean_JPEGtoBMP'],\n",
       "      dtype='object')"
      ]
     },
     "execution_count": 46,
     "metadata": {},
     "output_type": "execute_result"
    }
   ],
   "source": [
    "df_labels_and_features.columns"
   ]
  },
  {
   "cell_type": "markdown",
   "metadata": {},
   "source": [
    "The data frame has 1590 rows × 18 columns where we can see the original sample of the experiment (both inputs and outputs (xn,yn)). Each column is explained below:\n",
    "* 'ID': Identifier of the subject of the experiment (of one person).\n",
    "* 'Country': Country where the person was living.  2 x countries (Greece –138 participants, Switzerland –127 participants)\n",
    "* 'Stimulus_SkyType': 3 x sky types (clear sky with high sun angle, clear sky with low sun angle, overcast sky)\n",
    "* 'Stimulus_Context':  2 x context scenarios (social scenario, work scenario)\n",
    "* 'Gender': Male or Female\n",
    "* 'Pattern': 6 x patterns (determine how are the blinds, and so how are the shadows)\n",
    "* Outputs (yn): 'pleasant', 'interesting', 'exciting', 'calming', 'complex', 'bright', 'view', 'spacious'.\n",
    "* interior metrics (for describing the interior (the kind of room, light, ...) quantitatively): 'contrast_mean_mSC5', 'contrast_mean_Michelson', 'contrast_mean_RMS', 'complexity_mean_JPEGtoBMP'.\n",
    "\n",
    "Note: The metrics in this data set are applied to the whole virtual reallity image (in every interior)."
   ]
  },
  {
   "cell_type": "markdown",
   "metadata": {},
   "source": [
    "Now let's see what is inside `T_features.csv`:"
   ]
  },
  {
   "cell_type": "code",
   "execution_count": 47,
   "metadata": {
    "scrolled": true
   },
   "outputs": [
    {
     "data": {
      "text/html": [
       "<div>\n",
       "<style scoped>\n",
       "    .dataframe tbody tr th:only-of-type {\n",
       "        vertical-align: middle;\n",
       "    }\n",
       "\n",
       "    .dataframe tbody tr th {\n",
       "        vertical-align: top;\n",
       "    }\n",
       "\n",
       "    .dataframe thead th {\n",
       "        text-align: right;\n",
       "    }\n",
       "</style>\n",
       "<table border=\"1\" class=\"dataframe\">\n",
       "  <thead>\n",
       "    <tr style=\"text-align: right;\">\n",
       "      <th></th>\n",
       "      <th>filename</th>\n",
       "      <th>Pattern</th>\n",
       "      <th>Context</th>\n",
       "      <th>SkyType</th>\n",
       "      <th>mean_pleasant</th>\n",
       "      <th>median_pleasant</th>\n",
       "      <th>mean_interesting</th>\n",
       "      <th>median_interesting</th>\n",
       "      <th>mean_calming</th>\n",
       "      <th>median_calming</th>\n",
       "      <th>...</th>\n",
       "      <th>contrast_max_mSC5</th>\n",
       "      <th>contrast_mean_Michelson</th>\n",
       "      <th>contrast_mean_Michelson_cube123</th>\n",
       "      <th>contrast_mean_Michelson_cube3</th>\n",
       "      <th>contrast_mean_RMS</th>\n",
       "      <th>contrast_mean_RMS_cube123</th>\n",
       "      <th>contrast_mean_RMS_cube3</th>\n",
       "      <th>complexity_mean_JPEGtoBMP</th>\n",
       "      <th>complexity_cube3_JPEGtoBMP</th>\n",
       "      <th>complexity_cube123_JPEGtoBMP</th>\n",
       "    </tr>\n",
       "  </thead>\n",
       "  <tbody>\n",
       "    <tr>\n",
       "      <th>0</th>\n",
       "      <td>p1_social_clearhigh_sg_largewin_simu</td>\n",
       "      <td>P1EL</td>\n",
       "      <td>social</td>\n",
       "      <td>clearhigh</td>\n",
       "      <td>5.439024</td>\n",
       "      <td>6</td>\n",
       "      <td>4.512195</td>\n",
       "      <td>4</td>\n",
       "      <td>5.731707</td>\n",
       "      <td>6.0</td>\n",
       "      <td>...</td>\n",
       "      <td>82</td>\n",
       "      <td>0.881714</td>\n",
       "      <td>0.822095</td>\n",
       "      <td>0.696552</td>\n",
       "      <td>104.887032</td>\n",
       "      <td>116.926766</td>\n",
       "      <td>138.288359</td>\n",
       "      <td>0.101518</td>\n",
       "      <td>0.158865</td>\n",
       "      <td>0.129797</td>\n",
       "    </tr>\n",
       "    <tr>\n",
       "      <th>1</th>\n",
       "      <td>p1_social_clearlow_sg_largewin_simu</td>\n",
       "      <td>P1EL</td>\n",
       "      <td>social</td>\n",
       "      <td>clearlow</td>\n",
       "      <td>5.571429</td>\n",
       "      <td>6</td>\n",
       "      <td>4.510204</td>\n",
       "      <td>5</td>\n",
       "      <td>5.897959</td>\n",
       "      <td>6.0</td>\n",
       "      <td>...</td>\n",
       "      <td>85</td>\n",
       "      <td>0.907864</td>\n",
       "      <td>0.846031</td>\n",
       "      <td>0.750000</td>\n",
       "      <td>106.363985</td>\n",
       "      <td>108.835770</td>\n",
       "      <td>119.479999</td>\n",
       "      <td>0.104734</td>\n",
       "      <td>0.136334</td>\n",
       "      <td>0.127709</td>\n",
       "    </tr>\n",
       "    <tr>\n",
       "      <th>2</th>\n",
       "      <td>p1_social_overcast_sg_largewin_simu</td>\n",
       "      <td>P1EL</td>\n",
       "      <td>social</td>\n",
       "      <td>overcast</td>\n",
       "      <td>6.093023</td>\n",
       "      <td>6</td>\n",
       "      <td>4.790698</td>\n",
       "      <td>5</td>\n",
       "      <td>6.651163</td>\n",
       "      <td>7.0</td>\n",
       "      <td>...</td>\n",
       "      <td>49</td>\n",
       "      <td>0.886125</td>\n",
       "      <td>0.829098</td>\n",
       "      <td>0.713287</td>\n",
       "      <td>102.615246</td>\n",
       "      <td>113.078576</td>\n",
       "      <td>133.037937</td>\n",
       "      <td>0.093733</td>\n",
       "      <td>0.134794</td>\n",
       "      <td>0.113091</td>\n",
       "    </tr>\n",
       "    <tr>\n",
       "      <th>3</th>\n",
       "      <td>p1_work_clearhigh_sg_largewin_simu</td>\n",
       "      <td>P1EL</td>\n",
       "      <td>work</td>\n",
       "      <td>clearhigh</td>\n",
       "      <td>5.804348</td>\n",
       "      <td>6</td>\n",
       "      <td>5.086957</td>\n",
       "      <td>5</td>\n",
       "      <td>6.152174</td>\n",
       "      <td>6.5</td>\n",
       "      <td>...</td>\n",
       "      <td>116</td>\n",
       "      <td>0.924177</td>\n",
       "      <td>0.874757</td>\n",
       "      <td>0.680272</td>\n",
       "      <td>107.051167</td>\n",
       "      <td>119.883534</td>\n",
       "      <td>142.784796</td>\n",
       "      <td>0.099205</td>\n",
       "      <td>0.159858</td>\n",
       "      <td>0.124465</td>\n",
       "    </tr>\n",
       "    <tr>\n",
       "      <th>4</th>\n",
       "      <td>p1_work_clearlow_sg_largewin_simu</td>\n",
       "      <td>P1EL</td>\n",
       "      <td>work</td>\n",
       "      <td>clearlow</td>\n",
       "      <td>5.255814</td>\n",
       "      <td>5</td>\n",
       "      <td>4.418605</td>\n",
       "      <td>5</td>\n",
       "      <td>5.837209</td>\n",
       "      <td>6.0</td>\n",
       "      <td>...</td>\n",
       "      <td>116</td>\n",
       "      <td>0.937813</td>\n",
       "      <td>0.887639</td>\n",
       "      <td>0.728223</td>\n",
       "      <td>108.174380</td>\n",
       "      <td>112.987399</td>\n",
       "      <td>126.132718</td>\n",
       "      <td>0.102264</td>\n",
       "      <td>0.139392</td>\n",
       "      <td>0.122615</td>\n",
       "    </tr>\n",
       "  </tbody>\n",
       "</table>\n",
       "<p>5 rows × 31 columns</p>\n",
       "</div>"
      ],
      "text/plain": [
       "                               filename Pattern Context    SkyType  \\\n",
       "0  p1_social_clearhigh_sg_largewin_simu    P1EL  social  clearhigh   \n",
       "1  p1_social_clearlow_sg_largewin_simu     P1EL  social   clearlow   \n",
       "2  p1_social_overcast_sg_largewin_simu     P1EL  social   overcast   \n",
       "3  p1_work_clearhigh_sg_largewin_simu      P1EL    work  clearhigh   \n",
       "4  p1_work_clearlow_sg_largewin_simu       P1EL    work   clearlow   \n",
       "\n",
       "   mean_pleasant  median_pleasant  mean_interesting  median_interesting  \\\n",
       "0       5.439024                6          4.512195                   4   \n",
       "1       5.571429                6          4.510204                   5   \n",
       "2       6.093023                6          4.790698                   5   \n",
       "3       5.804348                6          5.086957                   5   \n",
       "4       5.255814                5          4.418605                   5   \n",
       "\n",
       "   mean_calming  median_calming              ...               \\\n",
       "0      5.731707             6.0              ...                \n",
       "1      5.897959             6.0              ...                \n",
       "2      6.651163             7.0              ...                \n",
       "3      6.152174             6.5              ...                \n",
       "4      5.837209             6.0              ...                \n",
       "\n",
       "   contrast_max_mSC5  contrast_mean_Michelson  \\\n",
       "0                 82                 0.881714   \n",
       "1                 85                 0.907864   \n",
       "2                 49                 0.886125   \n",
       "3                116                 0.924177   \n",
       "4                116                 0.937813   \n",
       "\n",
       "   contrast_mean_Michelson_cube123  contrast_mean_Michelson_cube3  \\\n",
       "0                         0.822095                       0.696552   \n",
       "1                         0.846031                       0.750000   \n",
       "2                         0.829098                       0.713287   \n",
       "3                         0.874757                       0.680272   \n",
       "4                         0.887639                       0.728223   \n",
       "\n",
       "   contrast_mean_RMS  contrast_mean_RMS_cube123  contrast_mean_RMS_cube3  \\\n",
       "0         104.887032                 116.926766               138.288359   \n",
       "1         106.363985                 108.835770               119.479999   \n",
       "2         102.615246                 113.078576               133.037937   \n",
       "3         107.051167                 119.883534               142.784796   \n",
       "4         108.174380                 112.987399               126.132718   \n",
       "\n",
       "   complexity_mean_JPEGtoBMP  complexity_cube3_JPEGtoBMP  \\\n",
       "0                   0.101518                    0.158865   \n",
       "1                   0.104734                    0.136334   \n",
       "2                   0.093733                    0.134794   \n",
       "3                   0.099205                    0.159858   \n",
       "4                   0.102264                    0.139392   \n",
       "\n",
       "   complexity_cube123_JPEGtoBMP  \n",
       "0                      0.129797  \n",
       "1                      0.127709  \n",
       "2                      0.113091  \n",
       "3                      0.124465  \n",
       "4                      0.122615  \n",
       "\n",
       "[5 rows x 31 columns]"
      ]
     },
     "execution_count": 47,
     "metadata": {},
     "output_type": "execute_result"
    }
   ],
   "source": [
    "df_interior_features.head()"
   ]
  },
  {
   "cell_type": "code",
   "execution_count": 48,
   "metadata": {},
   "outputs": [
    {
     "data": {
      "text/plain": [
       "(36, 31)"
      ]
     },
     "execution_count": 48,
     "metadata": {},
     "output_type": "execute_result"
    }
   ],
   "source": [
    "df_interior_features.shape"
   ]
  },
  {
   "cell_type": "code",
   "execution_count": 49,
   "metadata": {
    "scrolled": true
   },
   "outputs": [
    {
     "data": {
      "text/plain": [
       "Index(['filename', 'Pattern', 'Context', 'SkyType', 'mean_pleasant',\n",
       "       'median_pleasant', 'mean_interesting', 'median_interesting',\n",
       "       'mean_calming', 'median_calming', 'mean_exciting', 'median_exciting',\n",
       "       'mean_complex', 'median_complex', 'mean_bright', 'median_bright',\n",
       "       'mean_view', 'median_view', 'mean_spacious', 'median_spacious',\n",
       "       'contrast_mean_mSC5', 'contrast_max_mSC5', 'contrast_mean_Michelson',\n",
       "       'contrast_mean_Michelson_cube123', 'contrast_mean_Michelson_cube3',\n",
       "       'contrast_mean_RMS', 'contrast_mean_RMS_cube123',\n",
       "       'contrast_mean_RMS_cube3', 'complexity_mean_JPEGtoBMP',\n",
       "       'complexity_cube3_JPEGtoBMP', 'complexity_cube123_JPEGtoBMP'],\n",
       "      dtype='object')"
      ]
     },
     "execution_count": 49,
     "metadata": {},
     "output_type": "execute_result"
    }
   ],
   "source": [
    "df_interior_features.columns"
   ]
  },
  {
   "cell_type": "markdown",
   "metadata": {},
   "source": [
    "We have obtained a data frame with 36 rows × 31 columns. This time we see the features of each kind of interior (the kind of room, light, ...)  and several metrics for describing quantitatively the interior situation Each column is explained below:\n",
    "* 'filename': File where we have the cube map projections associated to every interior. (See in `./Cubemap_Projections/BMP/<filename>` or `./Cubemap_Projections/JPEG/<filename>`). The filenames have the structure \"p(pattern_id)_(context)_(SkyType)_sg_largewin_simu\".\n",
    "* 'Pattern': 6 x patterns (determine how are the blinds, and so how are the shadows)\n",
    "* 'Context': 2 x context scenarios (social scenario, work scenario)\n",
    "* 'SkyType': 3 x sky types (clear sky with high sun angle, clear sky with low sun angle, overcast sky)\n",
    "* Means and medians of the outputs (of what people have answer in their respective survey): 'mean_pleasant', 'median_pleasant', 'mean_interesting', 'median_interesting', 'mean_calming', 'median_calming', mean_exciting', 'median_exciting', 'mean_complex', 'median_complex', 'mean_bright', 'median_bright', 'mean_view', 'median_view', 'mean_spacious', 'median_spacious',\n",
    "* Interior metrics (for describing the interior quantitatively): 'contrast_mean_mSC5', 'contrast_max_mSC5', 'contrast_mean_Michelson', 'contrast_mean_Michelson_cube123', 'contrast_mean_Michelson_cube3', 'contrast_mean_RMS', 'contrast_mean_RMS_cube123','contrast_mean_RMS_cube3', 'complexity_mean_JPEGtoBMP', 'complexity_cube3_JPEGtoBMP', 'complexity_cube123_JPEGtoBMP'\n",
    "\n",
    "Note: The metrics in this data set are applied not just to the whole virtual reallity image (we have already this data in the other data frame), but to the different parts of the whole image. Cube1 refers to what you see on your left (when you are doing the experiment with VR), cube2 refers to the front and cube3 refers to the right. Cube123 refers to the metric applied to the three subimages. For more details see`./Cubemap_Projections/JPEG/<filename>`."
   ]
  },
  {
   "cell_type": "markdown",
   "metadata": {},
   "source": [
    "Having done this previous load and brief analysis, we are going to create the data frame we are interested in work with. Firstly we find that our inputs (or features) could be classified in two types and we are taking both of them: \n",
    "* 1- Features of the people (country and gender) who have taken part in the experiment.\n",
    "* 2- Features of the interior: Now we are taking both categorical and metrics data.\n",
    "\n",
    "Secondly, the labels (outputs) of our new data frame are the data that comes from every survey (which has been done by each person): 'pleasant', 'interesting', 'exciting', 'calming', 'complex', 'bright', 'view', 'spacious'. We are asked to study first the 'exciting' and the 'calming' labels but we will split the data frame afterwards."
   ]
  },
  {
   "cell_type": "code",
   "execution_count": 50,
   "metadata": {},
   "outputs": [
    {
     "data": {
      "text/html": [
       "<div>\n",
       "<style scoped>\n",
       "    .dataframe tbody tr th:only-of-type {\n",
       "        vertical-align: middle;\n",
       "    }\n",
       "\n",
       "    .dataframe tbody tr th {\n",
       "        vertical-align: top;\n",
       "    }\n",
       "\n",
       "    .dataframe thead th {\n",
       "        text-align: right;\n",
       "    }\n",
       "</style>\n",
       "<table border=\"1\" class=\"dataframe\">\n",
       "  <thead>\n",
       "    <tr style=\"text-align: right;\">\n",
       "      <th></th>\n",
       "      <th>ID</th>\n",
       "      <th>Country</th>\n",
       "      <th>Stimulus_SkyType</th>\n",
       "      <th>Stimulus_Context</th>\n",
       "      <th>Gender</th>\n",
       "      <th>Pattern</th>\n",
       "      <th>pleasant</th>\n",
       "      <th>interesting</th>\n",
       "      <th>exciting</th>\n",
       "      <th>calming</th>\n",
       "      <th>complex</th>\n",
       "      <th>bright</th>\n",
       "      <th>view</th>\n",
       "      <th>spacious</th>\n",
       "      <th>contrast_mean_mSC5</th>\n",
       "      <th>contrast_mean_Michelson</th>\n",
       "      <th>contrast_mean_RMS</th>\n",
       "      <th>complexity_mean_JPEGtoBMP</th>\n",
       "    </tr>\n",
       "  </thead>\n",
       "  <tbody>\n",
       "    <tr>\n",
       "      <th>0</th>\n",
       "      <td>1</td>\n",
       "      <td>Greece</td>\n",
       "      <td>clear low</td>\n",
       "      <td>social</td>\n",
       "      <td>Male</td>\n",
       "      <td>P1EL</td>\n",
       "      <td>8</td>\n",
       "      <td>7</td>\n",
       "      <td>6</td>\n",
       "      <td>9</td>\n",
       "      <td>4</td>\n",
       "      <td>6</td>\n",
       "      <td>4</td>\n",
       "      <td>8</td>\n",
       "      <td>11.188207</td>\n",
       "      <td>0.907864</td>\n",
       "      <td>106.363985</td>\n",
       "      <td>0.104734</td>\n",
       "    </tr>\n",
       "  </tbody>\n",
       "</table>\n",
       "</div>"
      ],
      "text/plain": [
       "   ID Country Stimulus_SkyType Stimulus_Context Gender Pattern  pleasant  \\\n",
       "0   1  Greece        clear low           social   Male    P1EL         8   \n",
       "\n",
       "   interesting  exciting  calming  complex  bright  view  spacious  \\\n",
       "0            7         6        9        4       6     4         8   \n",
       "\n",
       "   contrast_mean_mSC5  contrast_mean_Michelson  contrast_mean_RMS  \\\n",
       "0           11.188207                 0.907864         106.363985   \n",
       "\n",
       "   complexity_mean_JPEGtoBMP  \n",
       "0                   0.104734  "
      ]
     },
     "execution_count": 50,
     "metadata": {},
     "output_type": "execute_result"
    }
   ],
   "source": [
    "df_labels_and_features.head(1)"
   ]
  },
  {
   "cell_type": "code",
   "execution_count": 51,
   "metadata": {
    "scrolled": true
   },
   "outputs": [
    {
     "data": {
      "text/html": [
       "<div>\n",
       "<style scoped>\n",
       "    .dataframe tbody tr th:only-of-type {\n",
       "        vertical-align: middle;\n",
       "    }\n",
       "\n",
       "    .dataframe tbody tr th {\n",
       "        vertical-align: top;\n",
       "    }\n",
       "\n",
       "    .dataframe thead th {\n",
       "        text-align: right;\n",
       "    }\n",
       "</style>\n",
       "<table border=\"1\" class=\"dataframe\">\n",
       "  <thead>\n",
       "    <tr style=\"text-align: right;\">\n",
       "      <th></th>\n",
       "      <th>filename</th>\n",
       "      <th>Pattern</th>\n",
       "      <th>Context</th>\n",
       "      <th>SkyType</th>\n",
       "      <th>mean_pleasant</th>\n",
       "      <th>median_pleasant</th>\n",
       "      <th>mean_interesting</th>\n",
       "      <th>median_interesting</th>\n",
       "      <th>mean_calming</th>\n",
       "      <th>median_calming</th>\n",
       "      <th>...</th>\n",
       "      <th>contrast_max_mSC5</th>\n",
       "      <th>contrast_mean_Michelson</th>\n",
       "      <th>contrast_mean_Michelson_cube123</th>\n",
       "      <th>contrast_mean_Michelson_cube3</th>\n",
       "      <th>contrast_mean_RMS</th>\n",
       "      <th>contrast_mean_RMS_cube123</th>\n",
       "      <th>contrast_mean_RMS_cube3</th>\n",
       "      <th>complexity_mean_JPEGtoBMP</th>\n",
       "      <th>complexity_cube3_JPEGtoBMP</th>\n",
       "      <th>complexity_cube123_JPEGtoBMP</th>\n",
       "    </tr>\n",
       "  </thead>\n",
       "  <tbody>\n",
       "    <tr>\n",
       "      <th>0</th>\n",
       "      <td>p1_social_clearhigh_sg_largewin_simu</td>\n",
       "      <td>P1EL</td>\n",
       "      <td>social</td>\n",
       "      <td>clearhigh</td>\n",
       "      <td>5.439024</td>\n",
       "      <td>6</td>\n",
       "      <td>4.512195</td>\n",
       "      <td>4</td>\n",
       "      <td>5.731707</td>\n",
       "      <td>6.0</td>\n",
       "      <td>...</td>\n",
       "      <td>82</td>\n",
       "      <td>0.881714</td>\n",
       "      <td>0.822095</td>\n",
       "      <td>0.696552</td>\n",
       "      <td>104.887032</td>\n",
       "      <td>116.926766</td>\n",
       "      <td>138.288359</td>\n",
       "      <td>0.101518</td>\n",
       "      <td>0.158865</td>\n",
       "      <td>0.129797</td>\n",
       "    </tr>\n",
       "  </tbody>\n",
       "</table>\n",
       "<p>1 rows × 31 columns</p>\n",
       "</div>"
      ],
      "text/plain": [
       "                               filename Pattern Context    SkyType  \\\n",
       "0  p1_social_clearhigh_sg_largewin_simu    P1EL  social  clearhigh   \n",
       "\n",
       "   mean_pleasant  median_pleasant  mean_interesting  median_interesting  \\\n",
       "0       5.439024                6          4.512195                   4   \n",
       "\n",
       "   mean_calming  median_calming              ...               \\\n",
       "0      5.731707             6.0              ...                \n",
       "\n",
       "   contrast_max_mSC5  contrast_mean_Michelson  \\\n",
       "0                 82                 0.881714   \n",
       "\n",
       "   contrast_mean_Michelson_cube123  contrast_mean_Michelson_cube3  \\\n",
       "0                         0.822095                       0.696552   \n",
       "\n",
       "   contrast_mean_RMS  contrast_mean_RMS_cube123  contrast_mean_RMS_cube3  \\\n",
       "0         104.887032                 116.926766               138.288359   \n",
       "\n",
       "   complexity_mean_JPEGtoBMP  complexity_cube3_JPEGtoBMP  \\\n",
       "0                   0.101518                    0.158865   \n",
       "\n",
       "   complexity_cube123_JPEGtoBMP  \n",
       "0                      0.129797  \n",
       "\n",
       "[1 rows x 31 columns]"
      ]
     },
     "execution_count": 51,
     "metadata": {},
     "output_type": "execute_result"
    }
   ],
   "source": [
    "df_interior_features.head(1)"
   ]
  },
  {
   "cell_type": "markdown",
   "metadata": {},
   "source": [
    "For doing the join, we check that one of the metrics determine totally the interior (there are not two interiors with the same metric value):"
   ]
  },
  {
   "cell_type": "code",
   "execution_count": 90,
   "metadata": {
    "scrolled": true
   },
   "outputs": [
    {
     "data": {
      "text/plain": [
       "True"
      ]
     },
     "execution_count": 90,
     "metadata": {},
     "output_type": "execute_result"
    }
   ],
   "source": [
    "df_interior_features[\"to_join\"]=(1000*df_interior_features[\"contrast_mean_RMS\"]).astype(int) #We cannot do the join on the float\n",
    "df_labels_and_features[\"to_join\"]=(1000*df_labels_and_features[\"contrast_mean_RMS\"]).astype(int) #so we add another column\n",
    "\n",
    "df_interior_features.set_index(\"to_join\").index.is_unique"
   ]
  },
  {
   "cell_type": "code",
   "execution_count": 99,
   "metadata": {
    "scrolled": false
   },
   "outputs": [
    {
     "data": {
      "text/html": [
       "<div>\n",
       "<style scoped>\n",
       "    .dataframe tbody tr th:only-of-type {\n",
       "        vertical-align: middle;\n",
       "    }\n",
       "\n",
       "    .dataframe tbody tr th {\n",
       "        vertical-align: top;\n",
       "    }\n",
       "\n",
       "    .dataframe thead th {\n",
       "        text-align: right;\n",
       "    }\n",
       "</style>\n",
       "<table border=\"1\" class=\"dataframe\">\n",
       "  <thead>\n",
       "    <tr style=\"text-align: right;\">\n",
       "      <th></th>\n",
       "      <th>filename</th>\n",
       "      <th>Pattern_a</th>\n",
       "      <th>Context</th>\n",
       "      <th>SkyType</th>\n",
       "      <th>mean_pleasant</th>\n",
       "      <th>median_pleasant</th>\n",
       "      <th>mean_interesting</th>\n",
       "      <th>median_interesting</th>\n",
       "      <th>mean_calming</th>\n",
       "      <th>median_calming</th>\n",
       "      <th>...</th>\n",
       "      <th>exciting</th>\n",
       "      <th>calming</th>\n",
       "      <th>complex</th>\n",
       "      <th>bright</th>\n",
       "      <th>view</th>\n",
       "      <th>spacious</th>\n",
       "      <th>contrast_mean_mSC5</th>\n",
       "      <th>contrast_mean_Michelson</th>\n",
       "      <th>contrast_mean_RMS</th>\n",
       "      <th>complexity_mean_JPEGtoBMP</th>\n",
       "    </tr>\n",
       "  </thead>\n",
       "  <tbody>\n",
       "    <tr>\n",
       "      <th>0</th>\n",
       "      <td>p1_social_clearhigh_sg_largewin_simu</td>\n",
       "      <td>P1EL</td>\n",
       "      <td>social</td>\n",
       "      <td>clearhigh</td>\n",
       "      <td>5.439024</td>\n",
       "      <td>6</td>\n",
       "      <td>4.512195</td>\n",
       "      <td>4</td>\n",
       "      <td>5.731707</td>\n",
       "      <td>6.0</td>\n",
       "      <td>...</td>\n",
       "      <td>5</td>\n",
       "      <td>7</td>\n",
       "      <td>0</td>\n",
       "      <td>7</td>\n",
       "      <td>6</td>\n",
       "      <td>9</td>\n",
       "      <td>5.023496</td>\n",
       "      <td>0.881714</td>\n",
       "      <td>104.887032</td>\n",
       "      <td>0.101518</td>\n",
       "    </tr>\n",
       "  </tbody>\n",
       "</table>\n",
       "<p>1 rows × 50 columns</p>\n",
       "</div>"
      ],
      "text/plain": [
       "                               filename Pattern_a Context    SkyType  \\\n",
       "0  p1_social_clearhigh_sg_largewin_simu      P1EL  social  clearhigh   \n",
       "\n",
       "   mean_pleasant  median_pleasant  mean_interesting  median_interesting  \\\n",
       "0       5.439024                6          4.512195                   4   \n",
       "\n",
       "   mean_calming  median_calming            ...              exciting  calming  \\\n",
       "0      5.731707             6.0            ...                     5        7   \n",
       "\n",
       "   complex  bright  view  spacious  contrast_mean_mSC5  \\\n",
       "0        0       7     6         9            5.023496   \n",
       "\n",
       "   contrast_mean_Michelson  contrast_mean_RMS  complexity_mean_JPEGtoBMP  \n",
       "0                 0.881714         104.887032                   0.101518  \n",
       "\n",
       "[1 rows x 50 columns]"
      ]
     },
     "execution_count": 99,
     "metadata": {},
     "output_type": "execute_result"
    }
   ],
   "source": [
    "df_ml = df_interior_features.merge(df_labels_and_features, on = \"to_join\", how = 'inner', suffixes = (\"_a\",\"\"))\n",
    "df_ml.head(1)"
   ]
  },
  {
   "cell_type": "markdown",
   "metadata": {},
   "source": [
    "Now we drop the duplicates columns and order the columns in order to have a data frame with the structure X|Y, where X is the matrix of features (each column is a feature) and Y is the matrix with the labels."
   ]
  },
  {
   "cell_type": "code",
   "execution_count": 100,
   "metadata": {},
   "outputs": [],
   "source": [
    "df_ml = df_ml[['Country', 'Gender', 'Pattern', 'Context', 'SkyType', 'contrast_mean_mSC5', 'contrast_max_mSC5', \n",
    "               'contrast_mean_Michelson', 'contrast_mean_Michelson_cube123', 'contrast_mean_Michelson_cube3', \n",
    "               'contrast_mean_RMS', 'contrast_mean_RMS_cube123', 'contrast_mean_RMS_cube3', 'complexity_mean_JPEGtoBMP',\n",
    "               'complexity_cube3_JPEGtoBMP', 'complexity_cube123_JPEGtoBMP', 'pleasant', 'interesting', 'exciting', 'calming', \n",
    "               'complex', 'bright', 'view', 'spacious']]"
   ]
  },
  {
   "cell_type": "code",
   "execution_count": 101,
   "metadata": {
    "scrolled": true
   },
   "outputs": [
    {
     "data": {
      "text/html": [
       "<div>\n",
       "<style scoped>\n",
       "    .dataframe tbody tr th:only-of-type {\n",
       "        vertical-align: middle;\n",
       "    }\n",
       "\n",
       "    .dataframe tbody tr th {\n",
       "        vertical-align: top;\n",
       "    }\n",
       "\n",
       "    .dataframe thead th {\n",
       "        text-align: right;\n",
       "    }\n",
       "</style>\n",
       "<table border=\"1\" class=\"dataframe\">\n",
       "  <thead>\n",
       "    <tr style=\"text-align: right;\">\n",
       "      <th></th>\n",
       "      <th>Country</th>\n",
       "      <th>Gender</th>\n",
       "      <th>Pattern</th>\n",
       "      <th>Context</th>\n",
       "      <th>SkyType</th>\n",
       "      <th>contrast_mean_mSC5</th>\n",
       "      <th>contrast_max_mSC5</th>\n",
       "      <th>contrast_mean_Michelson</th>\n",
       "      <th>contrast_mean_Michelson_cube123</th>\n",
       "      <th>contrast_mean_Michelson_cube3</th>\n",
       "      <th>...</th>\n",
       "      <th>complexity_cube3_JPEGtoBMP</th>\n",
       "      <th>complexity_cube123_JPEGtoBMP</th>\n",
       "      <th>pleasant</th>\n",
       "      <th>interesting</th>\n",
       "      <th>exciting</th>\n",
       "      <th>calming</th>\n",
       "      <th>complex</th>\n",
       "      <th>bright</th>\n",
       "      <th>view</th>\n",
       "      <th>spacious</th>\n",
       "    </tr>\n",
       "  </thead>\n",
       "  <tbody>\n",
       "    <tr>\n",
       "      <th>0</th>\n",
       "      <td>Greece</td>\n",
       "      <td>Male</td>\n",
       "      <td>P1EL</td>\n",
       "      <td>social</td>\n",
       "      <td>clearhigh</td>\n",
       "      <td>5.023496</td>\n",
       "      <td>82</td>\n",
       "      <td>0.881714</td>\n",
       "      <td>0.822095</td>\n",
       "      <td>0.696552</td>\n",
       "      <td>...</td>\n",
       "      <td>0.158865</td>\n",
       "      <td>0.129797</td>\n",
       "      <td>7</td>\n",
       "      <td>5</td>\n",
       "      <td>5</td>\n",
       "      <td>7</td>\n",
       "      <td>0</td>\n",
       "      <td>7</td>\n",
       "      <td>6</td>\n",
       "      <td>9</td>\n",
       "    </tr>\n",
       "    <tr>\n",
       "      <th>1</th>\n",
       "      <td>Greece</td>\n",
       "      <td>Male</td>\n",
       "      <td>P1EL</td>\n",
       "      <td>social</td>\n",
       "      <td>clearhigh</td>\n",
       "      <td>5.023496</td>\n",
       "      <td>82</td>\n",
       "      <td>0.881714</td>\n",
       "      <td>0.822095</td>\n",
       "      <td>0.696552</td>\n",
       "      <td>...</td>\n",
       "      <td>0.158865</td>\n",
       "      <td>0.129797</td>\n",
       "      <td>5</td>\n",
       "      <td>4</td>\n",
       "      <td>4</td>\n",
       "      <td>7</td>\n",
       "      <td>3</td>\n",
       "      <td>8</td>\n",
       "      <td>5</td>\n",
       "      <td>10</td>\n",
       "    </tr>\n",
       "  </tbody>\n",
       "</table>\n",
       "<p>2 rows × 24 columns</p>\n",
       "</div>"
      ],
      "text/plain": [
       "  Country Gender Pattern Context    SkyType  contrast_mean_mSC5  \\\n",
       "0  Greece   Male    P1EL  social  clearhigh            5.023496   \n",
       "1  Greece   Male    P1EL  social  clearhigh            5.023496   \n",
       "\n",
       "   contrast_max_mSC5  contrast_mean_Michelson  \\\n",
       "0                 82                 0.881714   \n",
       "1                 82                 0.881714   \n",
       "\n",
       "   contrast_mean_Michelson_cube123  contrast_mean_Michelson_cube3    ...     \\\n",
       "0                         0.822095                       0.696552    ...      \n",
       "1                         0.822095                       0.696552    ...      \n",
       "\n",
       "   complexity_cube3_JPEGtoBMP  complexity_cube123_JPEGtoBMP  pleasant  \\\n",
       "0                    0.158865                      0.129797         7   \n",
       "1                    0.158865                      0.129797         5   \n",
       "\n",
       "   interesting  exciting  calming  complex  bright  view  spacious  \n",
       "0            5         5        7        0       7     6         9  \n",
       "1            4         4        7        3       8     5        10  \n",
       "\n",
       "[2 rows x 24 columns]"
      ]
     },
     "execution_count": 101,
     "metadata": {},
     "output_type": "execute_result"
    }
   ],
   "source": [
    "df_ml.head(2)"
   ]
  },
  {
   "cell_type": "markdown",
   "metadata": {},
   "source": [
    "Finally, from this data frame is easy to get X and the labels desired (y) separately. So we get the data frame which contains the matrix of features X and, separately,the labels corresponding to 'exciting' and 'calming' (we were asked to analize this labels firstly):"
   ]
  },
  {
   "cell_type": "code",
   "execution_count": 122,
   "metadata": {},
   "outputs": [
    {
     "data": {
      "text/html": [
       "<div>\n",
       "<style scoped>\n",
       "    .dataframe tbody tr th:only-of-type {\n",
       "        vertical-align: middle;\n",
       "    }\n",
       "\n",
       "    .dataframe tbody tr th {\n",
       "        vertical-align: top;\n",
       "    }\n",
       "\n",
       "    .dataframe thead th {\n",
       "        text-align: right;\n",
       "    }\n",
       "</style>\n",
       "<table border=\"1\" class=\"dataframe\">\n",
       "  <thead>\n",
       "    <tr style=\"text-align: right;\">\n",
       "      <th></th>\n",
       "      <th>Country</th>\n",
       "      <th>Gender</th>\n",
       "      <th>Pattern</th>\n",
       "      <th>Context</th>\n",
       "      <th>SkyType</th>\n",
       "      <th>contrast_mean_mSC5</th>\n",
       "      <th>contrast_max_mSC5</th>\n",
       "      <th>contrast_mean_Michelson</th>\n",
       "      <th>contrast_mean_Michelson_cube123</th>\n",
       "      <th>contrast_mean_Michelson_cube3</th>\n",
       "      <th>contrast_mean_RMS</th>\n",
       "      <th>contrast_mean_RMS_cube123</th>\n",
       "      <th>contrast_mean_RMS_cube3</th>\n",
       "      <th>complexity_mean_JPEGtoBMP</th>\n",
       "      <th>complexity_cube3_JPEGtoBMP</th>\n",
       "      <th>complexity_cube123_JPEGtoBMP</th>\n",
       "    </tr>\n",
       "  </thead>\n",
       "  <tbody>\n",
       "    <tr>\n",
       "      <th>0</th>\n",
       "      <td>Greece</td>\n",
       "      <td>Male</td>\n",
       "      <td>P1EL</td>\n",
       "      <td>social</td>\n",
       "      <td>clearhigh</td>\n",
       "      <td>5.023496</td>\n",
       "      <td>82</td>\n",
       "      <td>0.881714</td>\n",
       "      <td>0.822095</td>\n",
       "      <td>0.696552</td>\n",
       "      <td>104.887032</td>\n",
       "      <td>116.926766</td>\n",
       "      <td>138.288359</td>\n",
       "      <td>0.101518</td>\n",
       "      <td>0.158865</td>\n",
       "      <td>0.129797</td>\n",
       "    </tr>\n",
       "  </tbody>\n",
       "</table>\n",
       "</div>"
      ],
      "text/plain": [
       "  Country Gender Pattern Context    SkyType  contrast_mean_mSC5  \\\n",
       "0  Greece   Male    P1EL  social  clearhigh            5.023496   \n",
       "\n",
       "   contrast_max_mSC5  contrast_mean_Michelson  \\\n",
       "0                 82                 0.881714   \n",
       "\n",
       "   contrast_mean_Michelson_cube123  contrast_mean_Michelson_cube3  \\\n",
       "0                         0.822095                       0.696552   \n",
       "\n",
       "   contrast_mean_RMS  contrast_mean_RMS_cube123  contrast_mean_RMS_cube3  \\\n",
       "0         104.887032                 116.926766               138.288359   \n",
       "\n",
       "   complexity_mean_JPEGtoBMP  complexity_cube3_JPEGtoBMP  \\\n",
       "0                   0.101518                    0.158865   \n",
       "\n",
       "   complexity_cube123_JPEGtoBMP  \n",
       "0                      0.129797  "
      ]
     },
     "execution_count": 122,
     "metadata": {},
     "output_type": "execute_result"
    }
   ],
   "source": [
    "x_data = df_ml.iloc[:,0:16]\n",
    "x_data.head(1)"
   ]
  },
  {
   "cell_type": "code",
   "execution_count": 123,
   "metadata": {
    "scrolled": false
   },
   "outputs": [
    {
     "data": {
      "text/html": [
       "<div>\n",
       "<style scoped>\n",
       "    .dataframe tbody tr th:only-of-type {\n",
       "        vertical-align: middle;\n",
       "    }\n",
       "\n",
       "    .dataframe tbody tr th {\n",
       "        vertical-align: top;\n",
       "    }\n",
       "\n",
       "    .dataframe thead th {\n",
       "        text-align: right;\n",
       "    }\n",
       "</style>\n",
       "<table border=\"1\" class=\"dataframe\">\n",
       "  <thead>\n",
       "    <tr style=\"text-align: right;\">\n",
       "      <th></th>\n",
       "      <th>exciting</th>\n",
       "    </tr>\n",
       "  </thead>\n",
       "  <tbody>\n",
       "    <tr>\n",
       "      <th>0</th>\n",
       "      <td>5</td>\n",
       "    </tr>\n",
       "    <tr>\n",
       "      <th>1</th>\n",
       "      <td>4</td>\n",
       "    </tr>\n",
       "    <tr>\n",
       "      <th>2</th>\n",
       "      <td>4</td>\n",
       "    </tr>\n",
       "    <tr>\n",
       "      <th>3</th>\n",
       "      <td>5</td>\n",
       "    </tr>\n",
       "    <tr>\n",
       "      <th>4</th>\n",
       "      <td>5</td>\n",
       "    </tr>\n",
       "  </tbody>\n",
       "</table>\n",
       "</div>"
      ],
      "text/plain": [
       "   exciting\n",
       "0         5\n",
       "1         4\n",
       "2         4\n",
       "3         5\n",
       "4         5"
      ]
     },
     "execution_count": 123,
     "metadata": {},
     "output_type": "execute_result"
    }
   ],
   "source": [
    "y_data = df_ml[\"exciting\"]\n",
    "y_data.to_frame().head() #Note that y_data is a Pandas serie"
   ]
  },
  {
   "cell_type": "markdown",
   "metadata": {},
   "source": [
    "In order to split the data, we join then again:"
   ]
  },
  {
   "cell_type": "code",
   "execution_count": 144,
   "metadata": {},
   "outputs": [
    {
     "data": {
      "text/html": [
       "<div>\n",
       "<style scoped>\n",
       "    .dataframe tbody tr th:only-of-type {\n",
       "        vertical-align: middle;\n",
       "    }\n",
       "\n",
       "    .dataframe tbody tr th {\n",
       "        vertical-align: top;\n",
       "    }\n",
       "\n",
       "    .dataframe thead th {\n",
       "        text-align: right;\n",
       "    }\n",
       "</style>\n",
       "<table border=\"1\" class=\"dataframe\">\n",
       "  <thead>\n",
       "    <tr style=\"text-align: right;\">\n",
       "      <th></th>\n",
       "      <th>exciting</th>\n",
       "      <th>Country</th>\n",
       "      <th>Gender</th>\n",
       "      <th>Pattern</th>\n",
       "      <th>Context</th>\n",
       "      <th>SkyType</th>\n",
       "      <th>contrast_mean_mSC5</th>\n",
       "      <th>contrast_max_mSC5</th>\n",
       "      <th>contrast_mean_Michelson</th>\n",
       "      <th>contrast_mean_Michelson_cube123</th>\n",
       "      <th>contrast_mean_Michelson_cube3</th>\n",
       "      <th>contrast_mean_RMS</th>\n",
       "      <th>contrast_mean_RMS_cube123</th>\n",
       "      <th>contrast_mean_RMS_cube3</th>\n",
       "      <th>complexity_mean_JPEGtoBMP</th>\n",
       "      <th>complexity_cube3_JPEGtoBMP</th>\n",
       "      <th>complexity_cube123_JPEGtoBMP</th>\n",
       "    </tr>\n",
       "  </thead>\n",
       "  <tbody>\n",
       "    <tr>\n",
       "      <th>0</th>\n",
       "      <td>5</td>\n",
       "      <td>Greece</td>\n",
       "      <td>Male</td>\n",
       "      <td>P1EL</td>\n",
       "      <td>social</td>\n",
       "      <td>clearhigh</td>\n",
       "      <td>5.023496</td>\n",
       "      <td>82</td>\n",
       "      <td>0.881714</td>\n",
       "      <td>0.822095</td>\n",
       "      <td>0.696552</td>\n",
       "      <td>104.887032</td>\n",
       "      <td>116.926766</td>\n",
       "      <td>138.288359</td>\n",
       "      <td>0.101518</td>\n",
       "      <td>0.158865</td>\n",
       "      <td>0.129797</td>\n",
       "    </tr>\n",
       "  </tbody>\n",
       "</table>\n",
       "</div>"
      ],
      "text/plain": [
       "   exciting Country Gender Pattern Context    SkyType  contrast_mean_mSC5  \\\n",
       "0         5  Greece   Male    P1EL  social  clearhigh            5.023496   \n",
       "\n",
       "   contrast_max_mSC5  contrast_mean_Michelson  \\\n",
       "0                 82                 0.881714   \n",
       "\n",
       "   contrast_mean_Michelson_cube123  contrast_mean_Michelson_cube3  \\\n",
       "0                         0.822095                       0.696552   \n",
       "\n",
       "   contrast_mean_RMS  contrast_mean_RMS_cube123  contrast_mean_RMS_cube3  \\\n",
       "0         104.887032                 116.926766               138.288359   \n",
       "\n",
       "   complexity_mean_JPEGtoBMP  complexity_cube3_JPEGtoBMP  \\\n",
       "0                   0.101518                    0.158865   \n",
       "\n",
       "   complexity_cube123_JPEGtoBMP  \n",
       "0                      0.129797  "
      ]
     },
     "execution_count": 144,
     "metadata": {},
     "output_type": "execute_result"
    }
   ],
   "source": [
    "data = pd.concat([y_data, x_data], axis=1, sort=False)\n",
    "data.head(1)"
   ]
  },
  {
   "cell_type": "markdown",
   "metadata": {},
   "source": [
    "### Preprocesing Phase\n",
    "\n",
    "From the dataframe we can see that there are 5 catgorical features:\n",
    "1. __*Country*__ \n",
    "2. __*Gender*__ \n",
    "3. __*Pattern*__ \n",
    "4. __*Context*__ \n",
    "5. __*SkyType*__ "
   ]
  },
  {
   "cell_type": "markdown",
   "metadata": {},
   "source": [
    "We can confirm this by checking the type of data for each feature:"
   ]
  },
  {
   "cell_type": "code",
   "execution_count": 151,
   "metadata": {},
   "outputs": [
    {
     "data": {
      "text/plain": [
       "exciting                             int64\n",
       "Country                             object\n",
       "Gender                              object\n",
       "Pattern                             object\n",
       "Context                             object\n",
       "SkyType                             object\n",
       "contrast_mean_mSC5                 float64\n",
       "contrast_max_mSC5                    int64\n",
       "contrast_mean_Michelson            float64\n",
       "contrast_mean_Michelson_cube123    float64\n",
       "contrast_mean_Michelson_cube3      float64\n",
       "contrast_mean_RMS                  float64\n",
       "contrast_mean_RMS_cube123          float64\n",
       "contrast_mean_RMS_cube3            float64\n",
       "complexity_mean_JPEGtoBMP          float64\n",
       "complexity_cube3_JPEGtoBMP         float64\n",
       "complexity_cube123_JPEGtoBMP       float64\n",
       "dtype: object"
      ]
     },
     "execution_count": 151,
     "metadata": {},
     "output_type": "execute_result"
    }
   ],
   "source": [
    "data.dtypes"
   ]
  },
  {
   "cell_type": "markdown",
   "metadata": {},
   "source": [
    "As we can see the five features mentionned above are the only categorical features (type object).\n",
    "\n",
    "Let's inspect these features closely"
   ]
  },
  {
   "cell_type": "code",
   "execution_count": 152,
   "metadata": {},
   "outputs": [
    {
     "name": "stdout",
     "output_type": "stream",
     "text": [
      "Country:\n",
      "Greece         828\n",
      "Switzerland    762\n",
      "Name: Country, dtype: int64\n",
      "Gender:\n",
      "Male      816\n",
      "Female    774\n",
      "Name: Gender, dtype: int64\n",
      "Pattern:\n",
      "P3EL    265\n",
      "P4EL    265\n",
      "P1EL    265\n",
      "P2EL    265\n",
      "P5EL    265\n",
      "P6EL    265\n",
      "Name: Pattern, dtype: int64\n",
      "Context:\n",
      "social    798\n",
      "work      792\n",
      "Name: Context, dtype: int64\n",
      "SkyType:\n",
      "clearlow     552\n",
      "clearhigh    522\n",
      "overcast     516\n",
      "Name: SkyType, dtype: int64\n"
     ]
    }
   ],
   "source": [
    "categorical_features = ['Country','Gender','Pattern','Context', \\\n",
    "                        'SkyType']\n",
    "for feat in categorical_features:\n",
    "    print(feat + ':')\n",
    "    print(data[feat].value_counts())"
   ]
  },
  {
   "cell_type": "markdown",
   "metadata": {},
   "source": [
    "In order to perform dummy variable encoding on the categorical features, we can use the pandas method `pd.get_dummies()`. Also since we need k-1 dummy variables to represent k categories, we can drop the first column for each encoding (`drop_first = True`). We'll store this as a new dataframe `dummy_df`."
   ]
  },
  {
   "cell_type": "code",
   "execution_count": 153,
   "metadata": {
    "scrolled": true
   },
   "outputs": [
    {
     "data": {
      "text/html": [
       "<div>\n",
       "<style scoped>\n",
       "    .dataframe tbody tr th:only-of-type {\n",
       "        vertical-align: middle;\n",
       "    }\n",
       "\n",
       "    .dataframe tbody tr th {\n",
       "        vertical-align: top;\n",
       "    }\n",
       "\n",
       "    .dataframe thead th {\n",
       "        text-align: right;\n",
       "    }\n",
       "</style>\n",
       "<table border=\"1\" class=\"dataframe\">\n",
       "  <thead>\n",
       "    <tr style=\"text-align: right;\">\n",
       "      <th></th>\n",
       "      <th>exciting</th>\n",
       "      <th>contrast_mean_mSC5</th>\n",
       "      <th>contrast_max_mSC5</th>\n",
       "      <th>contrast_mean_Michelson</th>\n",
       "      <th>contrast_mean_Michelson_cube123</th>\n",
       "      <th>contrast_mean_Michelson_cube3</th>\n",
       "      <th>contrast_mean_RMS</th>\n",
       "      <th>contrast_mean_RMS_cube123</th>\n",
       "      <th>contrast_mean_RMS_cube3</th>\n",
       "      <th>complexity_mean_JPEGtoBMP</th>\n",
       "      <th>...</th>\n",
       "      <th>Pattern_P2EL</th>\n",
       "      <th>Pattern_P3EL</th>\n",
       "      <th>Pattern_P4EL</th>\n",
       "      <th>Pattern_P5EL</th>\n",
       "      <th>Pattern_P6EL</th>\n",
       "      <th>Context_social</th>\n",
       "      <th>Context_work</th>\n",
       "      <th>SkyType_clearhigh</th>\n",
       "      <th>SkyType_clearlow</th>\n",
       "      <th>SkyType_overcast</th>\n",
       "    </tr>\n",
       "  </thead>\n",
       "  <tbody>\n",
       "    <tr>\n",
       "      <th>0</th>\n",
       "      <td>5</td>\n",
       "      <td>5.023496</td>\n",
       "      <td>82</td>\n",
       "      <td>0.881714</td>\n",
       "      <td>0.822095</td>\n",
       "      <td>0.696552</td>\n",
       "      <td>104.887032</td>\n",
       "      <td>116.926766</td>\n",
       "      <td>138.288359</td>\n",
       "      <td>0.101518</td>\n",
       "      <td>...</td>\n",
       "      <td>0</td>\n",
       "      <td>0</td>\n",
       "      <td>0</td>\n",
       "      <td>0</td>\n",
       "      <td>0</td>\n",
       "      <td>1</td>\n",
       "      <td>0</td>\n",
       "      <td>1</td>\n",
       "      <td>0</td>\n",
       "      <td>0</td>\n",
       "    </tr>\n",
       "    <tr>\n",
       "      <th>1</th>\n",
       "      <td>4</td>\n",
       "      <td>5.023496</td>\n",
       "      <td>82</td>\n",
       "      <td>0.881714</td>\n",
       "      <td>0.822095</td>\n",
       "      <td>0.696552</td>\n",
       "      <td>104.887032</td>\n",
       "      <td>116.926766</td>\n",
       "      <td>138.288359</td>\n",
       "      <td>0.101518</td>\n",
       "      <td>...</td>\n",
       "      <td>0</td>\n",
       "      <td>0</td>\n",
       "      <td>0</td>\n",
       "      <td>0</td>\n",
       "      <td>0</td>\n",
       "      <td>1</td>\n",
       "      <td>0</td>\n",
       "      <td>1</td>\n",
       "      <td>0</td>\n",
       "      <td>0</td>\n",
       "    </tr>\n",
       "    <tr>\n",
       "      <th>2</th>\n",
       "      <td>4</td>\n",
       "      <td>5.023496</td>\n",
       "      <td>82</td>\n",
       "      <td>0.881714</td>\n",
       "      <td>0.822095</td>\n",
       "      <td>0.696552</td>\n",
       "      <td>104.887032</td>\n",
       "      <td>116.926766</td>\n",
       "      <td>138.288359</td>\n",
       "      <td>0.101518</td>\n",
       "      <td>...</td>\n",
       "      <td>0</td>\n",
       "      <td>0</td>\n",
       "      <td>0</td>\n",
       "      <td>0</td>\n",
       "      <td>0</td>\n",
       "      <td>1</td>\n",
       "      <td>0</td>\n",
       "      <td>1</td>\n",
       "      <td>0</td>\n",
       "      <td>0</td>\n",
       "    </tr>\n",
       "  </tbody>\n",
       "</table>\n",
       "<p>3 rows × 27 columns</p>\n",
       "</div>"
      ],
      "text/plain": [
       "   exciting  contrast_mean_mSC5  contrast_max_mSC5  contrast_mean_Michelson  \\\n",
       "0         5            5.023496                 82                 0.881714   \n",
       "1         4            5.023496                 82                 0.881714   \n",
       "2         4            5.023496                 82                 0.881714   \n",
       "\n",
       "   contrast_mean_Michelson_cube123  contrast_mean_Michelson_cube3  \\\n",
       "0                         0.822095                       0.696552   \n",
       "1                         0.822095                       0.696552   \n",
       "2                         0.822095                       0.696552   \n",
       "\n",
       "   contrast_mean_RMS  contrast_mean_RMS_cube123  contrast_mean_RMS_cube3  \\\n",
       "0         104.887032                 116.926766               138.288359   \n",
       "1         104.887032                 116.926766               138.288359   \n",
       "2         104.887032                 116.926766               138.288359   \n",
       "\n",
       "   complexity_mean_JPEGtoBMP        ...         Pattern_P2EL  Pattern_P3EL  \\\n",
       "0                   0.101518        ...                    0             0   \n",
       "1                   0.101518        ...                    0             0   \n",
       "2                   0.101518        ...                    0             0   \n",
       "\n",
       "   Pattern_P4EL  Pattern_P5EL  Pattern_P6EL  Context_social  Context_work  \\\n",
       "0             0             0             0               1             0   \n",
       "1             0             0             0               1             0   \n",
       "2             0             0             0               1             0   \n",
       "\n",
       "   SkyType_clearhigh  SkyType_clearlow  SkyType_overcast  \n",
       "0                  1                 0                 0  \n",
       "1                  1                 0                 0  \n",
       "2                  1                 0                 0  \n",
       "\n",
       "[3 rows x 27 columns]"
      ]
     },
     "execution_count": 153,
     "metadata": {},
     "output_type": "execute_result"
    }
   ],
   "source": [
    "dummy_df = pd.get_dummies(data, columns=categorical_features, drop_first=False)\n",
    "dummy_df.head(3)"
   ]
  },
  {
   "cell_type": "markdown",
   "metadata": {},
   "source": [
    "We standardize the features in preparation for the training (output excluded, \"exciting\" column)."
   ]
  },
  {
   "cell_type": "code",
   "execution_count": 154,
   "metadata": {},
   "outputs": [],
   "source": [
    "for feat in dummy_df.columns.tolist()[1:]:\n",
    "    mean = dummy_df[feat].mean()\n",
    "    std = dummy_df[feat].std()\n",
    "    dummy_df[feat] = (dummy_df[feat] - mean)/std"
   ]
  },
  {
   "cell_type": "markdown",
   "metadata": {},
   "source": [
    "In order to split the data into the two sets (training and test), we can use the sample method (`pd.sample()`) which  randomly samples from the dataframe according to a given ratio (0.8 for train in this case). The remaining part of the data will be the test set."
   ]
  },
  {
   "cell_type": "code",
   "execution_count": 155,
   "metadata": {},
   "outputs": [],
   "source": [
    "train_df = dummy_df.sample(frac=0.8,replace=False)\n",
    "test_df = dummy_df.drop(train_df.index.tolist(),axis=0)"
   ]
  },
  {
   "cell_type": "code",
   "execution_count": 156,
   "metadata": {},
   "outputs": [
    {
     "data": {
      "text/html": [
       "<div>\n",
       "<style scoped>\n",
       "    .dataframe tbody tr th:only-of-type {\n",
       "        vertical-align: middle;\n",
       "    }\n",
       "\n",
       "    .dataframe tbody tr th {\n",
       "        vertical-align: top;\n",
       "    }\n",
       "\n",
       "    .dataframe thead th {\n",
       "        text-align: right;\n",
       "    }\n",
       "</style>\n",
       "<table border=\"1\" class=\"dataframe\">\n",
       "  <thead>\n",
       "    <tr style=\"text-align: right;\">\n",
       "      <th></th>\n",
       "      <th>exciting</th>\n",
       "      <th>contrast_mean_mSC5</th>\n",
       "      <th>contrast_max_mSC5</th>\n",
       "      <th>contrast_mean_Michelson</th>\n",
       "      <th>contrast_mean_Michelson_cube123</th>\n",
       "      <th>contrast_mean_Michelson_cube3</th>\n",
       "      <th>contrast_mean_RMS</th>\n",
       "      <th>contrast_mean_RMS_cube123</th>\n",
       "      <th>contrast_mean_RMS_cube3</th>\n",
       "      <th>complexity_mean_JPEGtoBMP</th>\n",
       "      <th>...</th>\n",
       "      <th>Pattern_P2EL</th>\n",
       "      <th>Pattern_P3EL</th>\n",
       "      <th>Pattern_P4EL</th>\n",
       "      <th>Pattern_P5EL</th>\n",
       "      <th>Pattern_P6EL</th>\n",
       "      <th>Context_social</th>\n",
       "      <th>Context_work</th>\n",
       "      <th>SkyType_clearhigh</th>\n",
       "      <th>SkyType_clearlow</th>\n",
       "      <th>SkyType_overcast</th>\n",
       "    </tr>\n",
       "  </thead>\n",
       "  <tbody>\n",
       "    <tr>\n",
       "      <th>592</th>\n",
       "      <td>9</td>\n",
       "      <td>1.474878</td>\n",
       "      <td>-0.730296</td>\n",
       "      <td>-0.378855</td>\n",
       "      <td>-0.793619</td>\n",
       "      <td>0.393615</td>\n",
       "      <td>0.505526</td>\n",
       "      <td>-1.566623</td>\n",
       "      <td>-1.691655</td>\n",
       "      <td>1.816791</td>\n",
       "      <td>...</td>\n",
       "      <td>-0.447073</td>\n",
       "      <td>2.235365</td>\n",
       "      <td>-0.447073</td>\n",
       "      <td>-0.447073</td>\n",
       "      <td>-0.447073</td>\n",
       "      <td>0.995920</td>\n",
       "      <td>-0.995920</td>\n",
       "      <td>-0.698897</td>\n",
       "      <td>1.370858</td>\n",
       "      <td>-0.692925</td>\n",
       "    </tr>\n",
       "    <tr>\n",
       "      <th>1142</th>\n",
       "      <td>3</td>\n",
       "      <td>1.377277</td>\n",
       "      <td>0.384820</td>\n",
       "      <td>-0.258794</td>\n",
       "      <td>-0.581423</td>\n",
       "      <td>1.172408</td>\n",
       "      <td>-0.143057</td>\n",
       "      <td>-1.836365</td>\n",
       "      <td>-1.648628</td>\n",
       "      <td>1.665839</td>\n",
       "      <td>...</td>\n",
       "      <td>-0.447073</td>\n",
       "      <td>-0.447073</td>\n",
       "      <td>-0.447073</td>\n",
       "      <td>2.235365</td>\n",
       "      <td>-0.447073</td>\n",
       "      <td>0.995920</td>\n",
       "      <td>-0.995920</td>\n",
       "      <td>-0.698897</td>\n",
       "      <td>1.370858</td>\n",
       "      <td>-0.692925</td>\n",
       "    </tr>\n",
       "    <tr>\n",
       "      <th>528</th>\n",
       "      <td>0</td>\n",
       "      <td>-1.031191</td>\n",
       "      <td>-0.172738</td>\n",
       "      <td>0.652206</td>\n",
       "      <td>0.770934</td>\n",
       "      <td>-0.670735</td>\n",
       "      <td>-0.415026</td>\n",
       "      <td>0.506102</td>\n",
       "      <td>0.843933</td>\n",
       "      <td>-1.388465</td>\n",
       "      <td>...</td>\n",
       "      <td>2.235365</td>\n",
       "      <td>-0.447073</td>\n",
       "      <td>-0.447073</td>\n",
       "      <td>-0.447073</td>\n",
       "      <td>-0.447073</td>\n",
       "      <td>-1.003465</td>\n",
       "      <td>1.003465</td>\n",
       "      <td>-0.698897</td>\n",
       "      <td>-0.729011</td>\n",
       "      <td>1.442250</td>\n",
       "    </tr>\n",
       "  </tbody>\n",
       "</table>\n",
       "<p>3 rows × 27 columns</p>\n",
       "</div>"
      ],
      "text/plain": [
       "      exciting  contrast_mean_mSC5  contrast_max_mSC5  \\\n",
       "592          9            1.474878          -0.730296   \n",
       "1142         3            1.377277           0.384820   \n",
       "528          0           -1.031191          -0.172738   \n",
       "\n",
       "      contrast_mean_Michelson  contrast_mean_Michelson_cube123  \\\n",
       "592                 -0.378855                        -0.793619   \n",
       "1142                -0.258794                        -0.581423   \n",
       "528                  0.652206                         0.770934   \n",
       "\n",
       "      contrast_mean_Michelson_cube3  contrast_mean_RMS  \\\n",
       "592                        0.393615           0.505526   \n",
       "1142                       1.172408          -0.143057   \n",
       "528                       -0.670735          -0.415026   \n",
       "\n",
       "      contrast_mean_RMS_cube123  contrast_mean_RMS_cube3  \\\n",
       "592                   -1.566623                -1.691655   \n",
       "1142                  -1.836365                -1.648628   \n",
       "528                    0.506102                 0.843933   \n",
       "\n",
       "      complexity_mean_JPEGtoBMP        ...         Pattern_P2EL  Pattern_P3EL  \\\n",
       "592                    1.816791        ...            -0.447073      2.235365   \n",
       "1142                   1.665839        ...            -0.447073     -0.447073   \n",
       "528                   -1.388465        ...             2.235365     -0.447073   \n",
       "\n",
       "      Pattern_P4EL  Pattern_P5EL  Pattern_P6EL  Context_social  Context_work  \\\n",
       "592      -0.447073     -0.447073     -0.447073        0.995920     -0.995920   \n",
       "1142     -0.447073      2.235365     -0.447073        0.995920     -0.995920   \n",
       "528      -0.447073     -0.447073     -0.447073       -1.003465      1.003465   \n",
       "\n",
       "      SkyType_clearhigh  SkyType_clearlow  SkyType_overcast  \n",
       "592           -0.698897          1.370858         -0.692925  \n",
       "1142          -0.698897          1.370858         -0.692925  \n",
       "528           -0.698897         -0.729011          1.442250  \n",
       "\n",
       "[3 rows x 27 columns]"
      ]
     },
     "execution_count": 156,
     "metadata": {},
     "output_type": "execute_result"
    }
   ],
   "source": [
    "train_df.head(3)"
   ]
  },
  {
   "cell_type": "code",
   "execution_count": 157,
   "metadata": {},
   "outputs": [
    {
     "data": {
      "text/html": [
       "<div>\n",
       "<style scoped>\n",
       "    .dataframe tbody tr th:only-of-type {\n",
       "        vertical-align: middle;\n",
       "    }\n",
       "\n",
       "    .dataframe tbody tr th {\n",
       "        vertical-align: top;\n",
       "    }\n",
       "\n",
       "    .dataframe thead th {\n",
       "        text-align: right;\n",
       "    }\n",
       "</style>\n",
       "<table border=\"1\" class=\"dataframe\">\n",
       "  <thead>\n",
       "    <tr style=\"text-align: right;\">\n",
       "      <th></th>\n",
       "      <th>exciting</th>\n",
       "      <th>contrast_mean_mSC5</th>\n",
       "      <th>contrast_max_mSC5</th>\n",
       "      <th>contrast_mean_Michelson</th>\n",
       "      <th>contrast_mean_Michelson_cube123</th>\n",
       "      <th>contrast_mean_Michelson_cube3</th>\n",
       "      <th>contrast_mean_RMS</th>\n",
       "      <th>contrast_mean_RMS_cube123</th>\n",
       "      <th>contrast_mean_RMS_cube3</th>\n",
       "      <th>complexity_mean_JPEGtoBMP</th>\n",
       "      <th>...</th>\n",
       "      <th>Pattern_P2EL</th>\n",
       "      <th>Pattern_P3EL</th>\n",
       "      <th>Pattern_P4EL</th>\n",
       "      <th>Pattern_P5EL</th>\n",
       "      <th>Pattern_P6EL</th>\n",
       "      <th>Context_social</th>\n",
       "      <th>Context_work</th>\n",
       "      <th>SkyType_clearhigh</th>\n",
       "      <th>SkyType_clearlow</th>\n",
       "      <th>SkyType_overcast</th>\n",
       "    </tr>\n",
       "  </thead>\n",
       "  <tbody>\n",
       "    <tr>\n",
       "      <th>2</th>\n",
       "      <td>4</td>\n",
       "      <td>-0.978351</td>\n",
       "      <td>-1.009075</td>\n",
       "      <td>-1.509758</td>\n",
       "      <td>-1.489519</td>\n",
       "      <td>-1.191899</td>\n",
       "      <td>-0.483861</td>\n",
       "      <td>0.647511</td>\n",
       "      <td>0.718682</td>\n",
       "      <td>-0.163829</td>\n",
       "      <td>...</td>\n",
       "      <td>-0.447073</td>\n",
       "      <td>-0.447073</td>\n",
       "      <td>-0.447073</td>\n",
       "      <td>-0.447073</td>\n",
       "      <td>-0.447073</td>\n",
       "      <td>0.99592</td>\n",
       "      <td>-0.99592</td>\n",
       "      <td>1.429927</td>\n",
       "      <td>-0.729011</td>\n",
       "      <td>-0.692925</td>\n",
       "    </tr>\n",
       "    <tr>\n",
       "      <th>21</th>\n",
       "      <td>3</td>\n",
       "      <td>-0.978351</td>\n",
       "      <td>-1.009075</td>\n",
       "      <td>-1.509758</td>\n",
       "      <td>-1.489519</td>\n",
       "      <td>-1.191899</td>\n",
       "      <td>-0.483861</td>\n",
       "      <td>0.647511</td>\n",
       "      <td>0.718682</td>\n",
       "      <td>-0.163829</td>\n",
       "      <td>...</td>\n",
       "      <td>-0.447073</td>\n",
       "      <td>-0.447073</td>\n",
       "      <td>-0.447073</td>\n",
       "      <td>-0.447073</td>\n",
       "      <td>-0.447073</td>\n",
       "      <td>0.99592</td>\n",
       "      <td>-0.99592</td>\n",
       "      <td>1.429927</td>\n",
       "      <td>-0.729011</td>\n",
       "      <td>-0.692925</td>\n",
       "    </tr>\n",
       "    <tr>\n",
       "      <th>22</th>\n",
       "      <td>2</td>\n",
       "      <td>-0.978351</td>\n",
       "      <td>-1.009075</td>\n",
       "      <td>-1.509758</td>\n",
       "      <td>-1.489519</td>\n",
       "      <td>-1.191899</td>\n",
       "      <td>-0.483861</td>\n",
       "      <td>0.647511</td>\n",
       "      <td>0.718682</td>\n",
       "      <td>-0.163829</td>\n",
       "      <td>...</td>\n",
       "      <td>-0.447073</td>\n",
       "      <td>-0.447073</td>\n",
       "      <td>-0.447073</td>\n",
       "      <td>-0.447073</td>\n",
       "      <td>-0.447073</td>\n",
       "      <td>0.99592</td>\n",
       "      <td>-0.99592</td>\n",
       "      <td>1.429927</td>\n",
       "      <td>-0.729011</td>\n",
       "      <td>-0.692925</td>\n",
       "    </tr>\n",
       "  </tbody>\n",
       "</table>\n",
       "<p>3 rows × 27 columns</p>\n",
       "</div>"
      ],
      "text/plain": [
       "    exciting  contrast_mean_mSC5  contrast_max_mSC5  contrast_mean_Michelson  \\\n",
       "2          4           -0.978351          -1.009075                -1.509758   \n",
       "21         3           -0.978351          -1.009075                -1.509758   \n",
       "22         2           -0.978351          -1.009075                -1.509758   \n",
       "\n",
       "    contrast_mean_Michelson_cube123  contrast_mean_Michelson_cube3  \\\n",
       "2                         -1.489519                      -1.191899   \n",
       "21                        -1.489519                      -1.191899   \n",
       "22                        -1.489519                      -1.191899   \n",
       "\n",
       "    contrast_mean_RMS  contrast_mean_RMS_cube123  contrast_mean_RMS_cube3  \\\n",
       "2           -0.483861                   0.647511                 0.718682   \n",
       "21          -0.483861                   0.647511                 0.718682   \n",
       "22          -0.483861                   0.647511                 0.718682   \n",
       "\n",
       "    complexity_mean_JPEGtoBMP        ...         Pattern_P2EL  Pattern_P3EL  \\\n",
       "2                   -0.163829        ...            -0.447073     -0.447073   \n",
       "21                  -0.163829        ...            -0.447073     -0.447073   \n",
       "22                  -0.163829        ...            -0.447073     -0.447073   \n",
       "\n",
       "    Pattern_P4EL  Pattern_P5EL  Pattern_P6EL  Context_social  Context_work  \\\n",
       "2      -0.447073     -0.447073     -0.447073         0.99592      -0.99592   \n",
       "21     -0.447073     -0.447073     -0.447073         0.99592      -0.99592   \n",
       "22     -0.447073     -0.447073     -0.447073         0.99592      -0.99592   \n",
       "\n",
       "    SkyType_clearhigh  SkyType_clearlow  SkyType_overcast  \n",
       "2            1.429927         -0.729011         -0.692925  \n",
       "21           1.429927         -0.729011         -0.692925  \n",
       "22           1.429927         -0.729011         -0.692925  \n",
       "\n",
       "[3 rows x 27 columns]"
      ]
     },
     "execution_count": 157,
     "metadata": {},
     "output_type": "execute_result"
    }
   ],
   "source": [
    "test_df.head(3)"
   ]
  },
  {
   "cell_type": "markdown",
   "metadata": {},
   "source": [
    "Quick check of the validity of the split by making sure that the size of the train plus the size of the test equals the size of the dummy:"
   ]
  },
  {
   "cell_type": "code",
   "execution_count": 158,
   "metadata": {},
   "outputs": [
    {
     "name": "stdout",
     "output_type": "stream",
     "text": [
      "True\n"
     ]
    }
   ],
   "source": [
    "print(train_df.shape[0] + test_df.shape[0] == dummy_df.shape[0])"
   ]
  },
  {
   "cell_type": "markdown",
   "metadata": {},
   "source": [
    "Double check the mean of the features"
   ]
  },
  {
   "cell_type": "code",
   "execution_count": 159,
   "metadata": {
    "scrolled": true
   },
   "outputs": [
    {
     "data": {
      "text/plain": [
       "contrast_mean_mSC5                 4.021940e-17\n",
       "contrast_max_mSC5                 -2.431039e-15\n",
       "contrast_mean_Michelson            1.522025e-13\n",
       "contrast_mean_Michelson_cube123    4.384239e-13\n",
       "contrast_mean_Michelson_cube3      3.535433e-13\n",
       "contrast_mean_RMS                 -1.366715e-13\n",
       "contrast_mean_RMS_cube123          1.140032e-13\n",
       "contrast_mean_RMS_cube3            1.013703e-13\n",
       "complexity_mean_JPEGtoBMP         -7.148817e-14\n",
       "complexity_cube3_JPEGtoBMP         1.433123e-14\n",
       "complexity_cube123_JPEGtoBMP      -1.557301e-14\n",
       "Country_Greece                     8.015950e-17\n",
       "Country_Switzerland               -8.015950e-17\n",
       "Gender_Female                     -4.021940e-17\n",
       "Gender_Male                        4.021940e-17\n",
       "Pattern_P1EL                      -1.417105e-15\n",
       "Pattern_P2EL                      -1.738861e-15\n",
       "Pattern_P3EL                      -2.668376e-15\n",
       "Pattern_P4EL                      -2.650500e-15\n",
       "Pattern_P5EL                      -1.712048e-15\n",
       "Pattern_P6EL                      -1.362432e-15\n",
       "Context_social                    -6.423932e-16\n",
       "Context_work                       6.423932e-16\n",
       "SkyType_clearhigh                 -3.508025e-16\n",
       "SkyType_clearlow                   1.604586e-16\n",
       "SkyType_overcast                  -7.219941e-16\n",
       "dtype: float64"
      ]
     },
     "execution_count": 159,
     "metadata": {},
     "output_type": "execute_result"
    }
   ],
   "source": [
    "dummy_df.mean()[1:]"
   ]
  },
  {
   "cell_type": "markdown",
   "metadata": {},
   "source": [
    "The means aren't exactly 0 but they are small enough for us to approximate them to 0."
   ]
  },
  {
   "cell_type": "markdown",
   "metadata": {},
   "source": [
    "Now for the standart deviation"
   ]
  },
  {
   "cell_type": "code",
   "execution_count": 160,
   "metadata": {
    "scrolled": true
   },
   "outputs": [
    {
     "data": {
      "text/plain": [
       "contrast_mean_mSC5                 1.0\n",
       "contrast_max_mSC5                  1.0\n",
       "contrast_mean_Michelson            1.0\n",
       "contrast_mean_Michelson_cube123    1.0\n",
       "contrast_mean_Michelson_cube3      1.0\n",
       "contrast_mean_RMS                  1.0\n",
       "contrast_mean_RMS_cube123          1.0\n",
       "contrast_mean_RMS_cube3            1.0\n",
       "complexity_mean_JPEGtoBMP          1.0\n",
       "complexity_cube3_JPEGtoBMP         1.0\n",
       "complexity_cube123_JPEGtoBMP       1.0\n",
       "Country_Greece                     1.0\n",
       "Country_Switzerland                1.0\n",
       "Gender_Female                      1.0\n",
       "Gender_Male                        1.0\n",
       "Pattern_P1EL                       1.0\n",
       "Pattern_P2EL                       1.0\n",
       "Pattern_P3EL                       1.0\n",
       "Pattern_P4EL                       1.0\n",
       "Pattern_P5EL                       1.0\n",
       "Pattern_P6EL                       1.0\n",
       "Context_social                     1.0\n",
       "Context_work                       1.0\n",
       "SkyType_clearhigh                  1.0\n",
       "SkyType_clearlow                   1.0\n",
       "SkyType_overcast                   1.0\n",
       "dtype: float64"
      ]
     },
     "execution_count": 160,
     "metadata": {},
     "output_type": "execute_result"
    }
   ],
   "source": [
    "dummy_df.std()[1:]"
   ]
  },
  {
   "cell_type": "markdown",
   "metadata": {},
   "source": [
    "Hence our standardized features and our labels are ready to go."
   ]
  },
  {
   "cell_type": "markdown",
   "metadata": {},
   "source": [
    "## Exploring different approachs"
   ]
  },
  {
   "cell_type": "markdown",
   "metadata": {},
   "source": [
    "Having done that, we can start trying differents methods for obtaining predictions about the excitation/calm of a person who do the experiment."
   ]
  },
  {
   "cell_type": "code",
   "execution_count": null,
   "metadata": {},
   "outputs": [],
   "source": [
    "#Just in case you do not want to use the splitted data, because we have very few data (We have to discuss this)\n",
    "X = dummy_df.iloc[:,1:-1]    \n",
    "y = X = dummy_df.iloc[:,0:1]"
   ]
  },
  {
   "cell_type": "code",
   "execution_count": null,
   "metadata": {},
   "outputs": [],
   "source": []
  },
  {
   "cell_type": "code",
   "execution_count": null,
   "metadata": {},
   "outputs": [],
   "source": []
  },
  {
   "cell_type": "code",
   "execution_count": null,
   "metadata": {},
   "outputs": [],
   "source": []
  },
  {
   "cell_type": "code",
   "execution_count": null,
   "metadata": {},
   "outputs": [],
   "source": []
  },
  {
   "cell_type": "code",
   "execution_count": null,
   "metadata": {},
   "outputs": [],
   "source": []
  },
  {
   "cell_type": "markdown",
   "metadata": {},
   "source": [
    "## Random Forest"
   ]
  },
  {
   "cell_type": "code",
   "execution_count": 161,
   "metadata": {},
   "outputs": [],
   "source": [
    "from numpy.core.umath_tests import inner1d\n",
    "from sklearn.ensemble import RandomForestClassifier"
   ]
  },
  {
   "cell_type": "markdown",
   "metadata": {},
   "source": [
    "RandomForestClassifier(n_estimators=’warn’, criterion=’gini’, max_depth=None, min_samples_split=2, min_samples_leaf=1, min_weight_fraction_leaf=0.0, max_features=’auto’, max_leaf_nodes=None, min_impurity_decrease=0.0, min_impurity_split=None, bootstrap=True, oob_score=False, n_jobs=None, random_state=None, verbose=0, warm_start=False, class_weight=None)"
   ]
  },
  {
   "cell_type": "markdown",
   "metadata": {},
   "source": [
    "Firstly, we do grid search on the number of estimators \"n_estimators\" and the max depth of the trees \"max_depth\". We decide to use the accuracy as a criteria for comparing the quality of the diferents models (created by differents \"n_estimators\" and \"max_depth\"). So, we compute a data frame with the accuracy for every pair (n_estimators, max_depth) explorated."
   ]
  },
  {
   "cell_type": "code",
   "execution_count": 169,
   "metadata": {},
   "outputs": [],
   "source": [
    "X = dummy_df.iloc[:,1:-1]\n",
    "y = X = dummy_df.iloc[:,0:1]"
   ]
  },
  {
   "cell_type": "code",
   "execution_count": 170,
   "metadata": {},
   "outputs": [],
   "source": [
    "n_estimators_range=range(1,100,5)\n",
    "max_depth_range= range(1,20)"
   ]
  },
  {
   "cell_type": "code",
   "execution_count": null,
   "metadata": {},
   "outputs": [],
   "source": [
    "performance_results = pd.DataFrame(columns=['n_estimators', 'max_depth','accuracy'])\n",
    "\n",
    "n=5\n",
    "for i in n_estimators_range:\n",
    "    for j in max_depth_range:\n",
    "        forestC = RandomForestClassifier(n_estimators=i, max_depth=j)\n",
    "        accuracy = cross_val_score(forestC, X, y, cv = 5, scoring='accuracy').mean()\n",
    "        performance_results.loc[i*n+j-n-1] = [i, j,accuracy]  #i*n-n-1 to access to the correct index\n",
    "\n",
    "performance_results.head()"
   ]
  },
  {
   "cell_type": "code",
   "execution_count": null,
   "metadata": {},
   "outputs": [],
   "source": []
  },
  {
   "cell_type": "code",
   "execution_count": null,
   "metadata": {},
   "outputs": [],
   "source": []
  },
  {
   "cell_type": "code",
   "execution_count": null,
   "metadata": {},
   "outputs": [],
   "source": []
  },
  {
   "cell_type": "code",
   "execution_count": null,
   "metadata": {},
   "outputs": [],
   "source": []
  },
  {
   "cell_type": "code",
   "execution_count": null,
   "metadata": {},
   "outputs": [],
   "source": []
  },
  {
   "cell_type": "markdown",
   "metadata": {},
   "source": [
    "SEE THE APPLIED ML TUTORIAL BELOW:"
   ]
  },
  {
   "cell_type": "markdown",
   "metadata": {},
   "source": [
    "# Applied Machine Learning with Scikit Learn - Regressions\n",
    "\n",
    "*Adapted from https://github.com/justmarkham*\n",
    "\n",
    "### Libraries\n",
    "\n",
    "- [scikit-learn](http://scikit-learn.org/stable/)\n",
    "- pandas\n",
    "- matplotlib\n",
    "\n",
    "In this tutorial we will see some basic example of Linear Regression for prediction and Logistic Regression for classification.\n"
   ]
  },
  {
   "cell_type": "markdown",
   "metadata": {},
   "source": [
    "# Prediction with Linear Regression\n",
    "\n",
    "|     *            | continuous     | categorical    |\n",
    "| ---------------- | -------------- | -------------- |\n",
    "| **supervised**   | **regression** | classification |\n",
    "| **unsupervised** | dim. reduction | clustering     |\n",
    "\n",
    "### Motivation\n",
    "\n",
    "Why are we learning linear regression?\n",
    "- widely used\n",
    "- runs fast\n",
    "- easy to use (not a lot of tuning required)\n",
    "- highly interpretable\n",
    "- basis for many other methods\n"
   ]
  },
  {
   "cell_type": "markdown",
   "metadata": {},
   "source": [
    "Let's import the dataset:"
   ]
  },
  {
   "cell_type": "code",
   "execution_count": null,
   "metadata": {},
   "outputs": [],
   "source": [
    "data = pd.read_csv('Advertising.csv', index_col=0)\n",
    "data.head()"
   ]
  },
  {
   "cell_type": "markdown",
   "metadata": {},
   "source": [
    "What are the **features**?\n",
    "- TV: advertising dollars spent on TV for a single product in a given market (in thousands of dollars)\n",
    "- Radio: advertising dollars spent on Radio\n",
    "- Newspaper: advertising dollars spent on Newspaper\n",
    "\n",
    "What is the **response**?\n",
    "- Sales: sales of a single product in a given market (in thousands of widgets)"
   ]
  },
  {
   "cell_type": "code",
   "execution_count": null,
   "metadata": {},
   "outputs": [],
   "source": [
    "# print the shape of the DataFrame\n",
    "data.shape"
   ]
  },
  {
   "cell_type": "code",
   "execution_count": null,
   "metadata": {},
   "outputs": [],
   "source": [
    "# visualize the relationship between the features and the response using scatterplots\n",
    "fig, axs = plt.subplots(1, 3, sharey=True)\n",
    "data.plot(kind='scatter', x='TV', y='sales', ax=axs[0], figsize=(16, 8), grid=True)\n",
    "data.plot(kind='scatter', x='radio', y='sales', ax=axs[1], grid=True)\n",
    "data.plot(kind='scatter', x='newspaper', y='sales', ax=axs[2], grid=True)"
   ]
  },
  {
   "cell_type": "markdown",
   "metadata": {},
   "source": [
    "## Estimating (\"Learning\") Model Coefficients\n",
    "\n",
    "Generally speaking, coefficients are estimated using the **least squares criterion**, which means we find the line (mathematically) which minimizes the **sum of squared residuals** (or \"sum of squared errors\"):"
   ]
  },
  {
   "cell_type": "markdown",
   "metadata": {},
   "source": [
    "<img src=\"08_estimating_coefficients.png\">"
   ]
  },
  {
   "cell_type": "markdown",
   "metadata": {},
   "source": [
    "What elements are present in the diagram?\n",
    "- The black dots are the **observed values** of x and y.\n",
    "- The blue line is our **least squares line**.\n",
    "- The red lines are the **residuals**, which are the distances between the observed values and the least squares line.\n",
    "\n",
    "How do the model coefficients relate to the least squares line?\n",
    "- $\\beta_0$ is the **intercept** (the value of $y$ when $x$=0)\n",
    "- $\\beta_1$ is the **slope** (the change in $y$ divided by change in $x$)\n",
    "\n",
    "Here is a graphical depiction of those calculations:"
   ]
  },
  {
   "cell_type": "markdown",
   "metadata": {},
   "source": [
    "<img src=\"08_slope_intercept.png\">"
   ]
  },
  {
   "cell_type": "markdown",
   "metadata": {},
   "source": [
    "## Hands on!\n",
    "Let's create the features and class vectors (X and y)"
   ]
  },
  {
   "cell_type": "code",
   "execution_count": null,
   "metadata": {},
   "outputs": [],
   "source": [
    "feature_cols = ['TV', 'radio', 'newspaper']\n",
    "X = data[feature_cols]\n",
    "y = data.sales\n",
    "\n",
    "X.describe()"
   ]
  },
  {
   "cell_type": "markdown",
   "metadata": {},
   "source": [
    "**Scikit-learn** provides a easy way to tran the model:"
   ]
  },
  {
   "cell_type": "code",
   "execution_count": null,
   "metadata": {},
   "outputs": [],
   "source": [
    "logistic = LinearRegression()  # create the model\n",
    "logistic.fit(X, y)  # train it"
   ]
  },
  {
   "cell_type": "markdown",
   "metadata": {},
   "source": [
    "Back to the theory! Let's see how the formula looks:"
   ]
  },
  {
   "cell_type": "code",
   "execution_count": null,
   "metadata": {},
   "outputs": [],
   "source": [
    "for f in range(len(feature_cols)):\n",
    "    print(\"{0} * {1} + \".format(logistic.coef_[f], feature_cols[f]))\n",
    "print(logistic.intercept_)"
   ]
  },
  {
   "cell_type": "markdown",
   "metadata": {},
   "source": [
    "\n",
    "\n",
    "$$y = \\beta_0 + \\beta_1  \\times TV + \\beta_1  \\times radio + \\beta_1  \\times newspaper$$\n",
    "$$y = 2.938 + 0.045 \\times TV + 0.18  \\times radio + -0.001  \\times newspaper$$"
   ]
  },
  {
   "cell_type": "markdown",
   "metadata": {},
   "source": [
    "Let's plot the predictions and the original values:"
   ]
  },
  {
   "cell_type": "code",
   "execution_count": null,
   "metadata": {},
   "outputs": [],
   "source": [
    "lr = LinearRegression()\n",
    "\n",
    "# cross_val_predict returns an array of the same size as `y` where each entry\n",
    "# is a prediction obtained by cross validation:\n",
    "predicted = cross_val_predict(lr, X, y, cv=5)\n",
    "\n",
    "# Plot the results\n",
    "fig, ax = plt.subplots(figsize=(12, 8))\n",
    "ax.scatter(y, predicted, edgecolors=(0, 0, 0))\n",
    "ax.plot([min(y), max(y)], [min(y), max(y)], 'r--', lw=4)\n",
    "ax.set_xlabel('Original')\n",
    "ax.set_ylabel('Predicted')\n",
    "plt.show()"
   ]
  },
  {
   "cell_type": "markdown",
   "metadata": {},
   "source": [
    "# Classification with Logistic Regression\n",
    "\n",
    "|*|continuous|categorical|\n",
    "|---|---|---|\n",
    "|**supervised**|regression|**classification**|\n",
    "|**unsupervised**|dim. reduction|clustering|"
   ]
  },
  {
   "cell_type": "markdown",
   "metadata": {},
   "source": [
    "Let's go back to the Titanic dataset. We are interessed in predicting the 'survived' variable given the feature of the passenger. For the sake of simplicity, we consider only 4 features:\n",
    "\n",
    "- pclass\n",
    "- sex\n",
    "- age\n",
    "- fare"
   ]
  },
  {
   "cell_type": "code",
   "execution_count": null,
   "metadata": {},
   "outputs": [],
   "source": [
    "titanic_raw = pd.read_excel('titanic.xls')\n",
    "titanic = titanic_raw[['pclass', 'sex', 'age', 'fare', 'survived']].dropna(axis=0, how='any')\n",
    "titanic.head()"
   ]
  },
  {
   "cell_type": "code",
   "execution_count": null,
   "metadata": {},
   "outputs": [],
   "source": [
    "dead = titanic[titanic['survived']==0]\n",
    "survived = titanic[titanic['survived']==1]\n",
    "\n",
    "print(\"Survived {0}, Dead {1}\".format(len(dead), len(survived)))"
   ]
  },
  {
   "cell_type": "markdown",
   "metadata": {},
   "source": [
    "Specify the columns to use as features and the labels for the traning:"
   ]
  },
  {
   "cell_type": "code",
   "execution_count": null,
   "metadata": {},
   "outputs": [],
   "source": [
    "titanic_features = ['pclass', 'sex', 'age', 'fare']\n",
    "titanic_class = 'survived'"
   ]
  },
  {
   "cell_type": "markdown",
   "metadata": {},
   "source": [
    "#### Q: How is the age distribution between the two groups?"
   ]
  },
  {
   "cell_type": "code",
   "execution_count": null,
   "metadata": {},
   "outputs": [],
   "source": [
    "fig, axes = plt.subplots(1, 2, figsize=(10, 5));\n",
    "\n",
    "dead_age = dead[['age']]\n",
    "survived_age = survived[['age']]\n",
    "\n",
    "dead_age.plot.hist(ax=axes[0], ylim=(0, 150), title='Dead - Age')\n",
    "survived_age.plot.hist(ax=axes[1], ylim=(0, 150), title='Survived - Age')\n"
   ]
  },
  {
   "cell_type": "markdown",
   "metadata": {},
   "source": [
    "Visible difference for young children."
   ]
  },
  {
   "cell_type": "markdown",
   "metadata": {},
   "source": [
    "### Let's prepare the feature vector for the training\n",
    "\n",
    "The dataset contains categorical variable: sex (male|female)\n",
    "\n",
    "We need to convert it in vector format. Pandas offers the method *get_dummies* that takes care of this expansion"
   ]
  },
  {
   "cell_type": "code",
   "execution_count": null,
   "metadata": {},
   "outputs": [],
   "source": [
    "# The features vector\n",
    "X = pd.get_dummies(titanic[titanic_features])\n",
    "X.head()\n",
    "# titanic['pclass'] = titanic['pclass'].astype('category')"
   ]
  },
  {
   "cell_type": "markdown",
   "metadata": {},
   "source": [
    "The labels used for the traning:"
   ]
  },
  {
   "cell_type": "code",
   "execution_count": null,
   "metadata": {},
   "outputs": [],
   "source": [
    "y = titanic['survived']"
   ]
  },
  {
   "cell_type": "markdown",
   "metadata": {},
   "source": [
    "Let's create a new model..."
   ]
  },
  {
   "cell_type": "code",
   "execution_count": null,
   "metadata": {},
   "outputs": [],
   "source": [
    "logistic = LogisticRegression(solver='lbfgs')\n",
    "\n",
    "# for f in range(len(feature_cols)):\n",
    "#     print(\"{0} * {1} + \".format(logistic.coef_[f], feature_cols[f]))\n",
    "print(logistic)"
   ]
  },
  {
   "cell_type": "markdown",
   "metadata": {},
   "source": [
    "... and evaluate the precison/recall with a cross validation (10 splits).\n",
    "\n",
    "**Scikit-Learn** offers this convenient menthod to split the dataset and evaluate the performance."
   ]
  },
  {
   "cell_type": "code",
   "execution_count": null,
   "metadata": {},
   "outputs": [],
   "source": [
    "precision = cross_val_score(logistic, X, y, cv=10, scoring=\"precision\")\n",
    "recall = cross_val_score(logistic, X, y, cv=10, scoring=\"recall\")\n",
    "\n",
    "# Precision: avoid false positives\n",
    "print(\"Precision: %0.2f (+/- %0.2f)\" % (precision.mean(), precision.std() * 2))\n",
    "# Recall: avoid false negatives\n",
    "print(\"Recall: %0.2f (+/- %0.2f)\" % (recall.mean(), recall.std() * 2))"
   ]
  },
  {
   "cell_type": "markdown",
   "metadata": {},
   "source": [
    "### Explore the model output\n",
    "\n",
    "Let's train on the full dataset"
   ]
  },
  {
   "cell_type": "code",
   "execution_count": null,
   "metadata": {},
   "outputs": [],
   "source": [
    "logistic = LogisticRegression(solver='lbfgs')\n",
    "logistic.fit(X, y)"
   ]
  },
  {
   "cell_type": "markdown",
   "metadata": {},
   "source": [
    "Given one sample, logistic regression generates the probability of belonging to the positive class. With **Scikit-Learn** we can access to this value thanks to the method *predict_proba*"
   ]
  },
  {
   "cell_type": "code",
   "execution_count": null,
   "metadata": {},
   "outputs": [],
   "source": [
    "pred = logistic.predict_proba(X)\n",
    "pred"
   ]
  },
  {
   "cell_type": "markdown",
   "metadata": {},
   "source": [
    "Of course, since we trained the whole dataset, we don't have new samples to predict, but we can predict the outcome and the relative probability for some artificial samples. Would you survive?"
   ]
  },
  {
   "cell_type": "code",
   "execution_count": null,
   "metadata": {},
   "outputs": [],
   "source": [
    "X.columns"
   ]
  },
  {
   "cell_type": "code",
   "execution_count": null,
   "metadata": {},
   "outputs": [],
   "source": [
    "logistic.predict([[3, 25, 200, 0, 1]])"
   ]
  },
  {
   "cell_type": "code",
   "execution_count": null,
   "metadata": {},
   "outputs": [],
   "source": [
    "logistic.predict_proba([[3, 25, 200, 0, 1]])"
   ]
  },
  {
   "cell_type": "code",
   "execution_count": null,
   "metadata": {},
   "outputs": [],
   "source": [
    "logistic.predict([[3, 25, 200, 1, 0]])"
   ]
  },
  {
   "cell_type": "code",
   "execution_count": null,
   "metadata": {},
   "outputs": [],
   "source": [
    "logistic.predict_proba([[3, 25, 200, 1, 0]])"
   ]
  },
  {
   "cell_type": "code",
   "execution_count": null,
   "metadata": {},
   "outputs": [],
   "source": []
  }
 ],
 "metadata": {
  "kernelspec": {
   "display_name": "Python 3",
   "language": "python",
   "name": "python3"
  },
  "language_info": {
   "codemirror_mode": {
    "name": "ipython",
    "version": 3
   },
   "file_extension": ".py",
   "mimetype": "text/x-python",
   "name": "python",
   "nbconvert_exporter": "python",
   "pygments_lexer": "ipython3",
   "version": "3.7.0"
  }
 },
 "nbformat": 4,
 "nbformat_minor": 2
}
